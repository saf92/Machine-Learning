{
 "cells": [
  {
   "cell_type": "code",
   "execution_count": 1,
   "metadata": {
    "collapsed": true
   },
   "outputs": [],
   "source": [
    "import cv2\n",
    "import numpy as np\n",
    "from matplotlib import pyplot as plt"
   ]
  },
  {
   "cell_type": "code",
   "execution_count": 2,
   "metadata": {
    "collapsed": true
   },
   "outputs": [],
   "source": [
    "import pathlib\n",
    "import imageio\n",
    "import numpy as np\n",
    "\n",
    "# Glob the training data and load a single image path\n",
    "training_paths = pathlib.Path('../input/stage1_train').glob('*/images/*.png')\n",
    "training_sorted = sorted([x for x in training_paths])\n",
    "im_path = training_sorted[45]\n",
    "im = imageio.imread(str(im_path))"
   ]
  },
  {
   "cell_type": "code",
   "execution_count": 3,
   "metadata": {},
   "outputs": [
    {
     "data": {
      "text/plain": [
       "670"
      ]
     },
     "execution_count": 3,
     "metadata": {},
     "output_type": "execute_result"
    }
   ],
   "source": [
    "len(training_sorted)"
   ]
  },
  {
   "cell_type": "code",
   "execution_count": 4,
   "metadata": {},
   "outputs": [
    {
     "name": "stdout",
     "output_type": "stream",
     "text": [
      "21\n",
      "6.84044263926\n"
     ]
    }
   ],
   "source": [
    "img = cv2.imread(str(im_path),0)  #0 for greyscale\n",
    "img.shape\n",
    "from skimage.filters import threshold_otsu\n",
    "t=threshold_otsu(img)\n",
    "print(t)\n",
    "m=np.mean(img)\n",
    "print(m)"
   ]
  },
  {
   "cell_type": "code",
   "execution_count": 165,
   "metadata": {},
   "outputs": [
    {
     "data": {
      "text/plain": [
       "<matplotlib.image.AxesImage at 0x7f0f029e8710>"
      ]
     },
     "execution_count": 165,
     "metadata": {},
     "output_type": "execute_result"
    },
    {
     "data": {
      "image/png": "[encoded data removed]",
      "text/plain": [
       "<matplotlib.figure.Figure at 0x7f0f06b98e90>"
      ]
     },
     "metadata": {},
     "output_type": "display_data"
    }
   ],
   "source": [
    "img_t=np.where(img>t,1,0)\n",
    "plt.imshow(img_t)"
   ]
  },
  {
   "cell_type": "code",
   "execution_count": 152,
   "metadata": {},
   "outputs": [
    {
     "data": {
      "text/plain": [
       "array([ 3,  3,  7, 13, 18, 19, 23, 25, 26, 25, 24, 23, 25, 26, 26, 31, 30,\n",
       "       28, 28, 26, 28, 28, 30, 33, 30, 30, 33, 31, 30, 29, 30, 33, 34, 31,\n",
       "       28, 24, 24, 22, 23, 21, 20, 19, 14,  8,  5,  3,  3,  2,  2,  1,  1,\n",
       "        1,  1,  1,  1,  1,  1,  1,  1,  1,  1,  1,  1,  1,  1,  1,  1,  1,\n",
       "        1,  1,  1,  1,  1,  1,  1,  1,  1,  1,  1,  1,  2,  2,  2,  2,  2,\n",
       "        3,  4,  3,  4,  4,  4,  5,  5,  5,  4,  3,  3,  3,  3,  3,  2,  3,\n",
       "        2,  1,  1,  2,  2,  1,  1,  1,  1,  1,  1,  1,  1,  1,  2,  1,  1,\n",
       "        1,  1,  1,  1,  1,  2,  1,  2,  1,  1,  1,  1,  1,  1,  1,  1,  1,\n",
       "        1,  1,  1,  1,  1,  1,  1,  1,  1,  1,  1,  1,  1,  1,  1,  1,  1,\n",
       "        1,  1,  1,  0,  1,  1,  1,  1,  1,  2,  1,  2,  1,  1,  1,  1,  1,\n",
       "        1,  2,  1,  1,  1,  1,  1,  1,  1,  1,  1,  1,  1,  1,  1,  1,  1,\n",
       "        1,  1,  1,  1,  1,  1,  1,  1,  1,  1,  1,  1,  2,  2,  1,  1,  1,\n",
       "        1,  1,  1,  1,  1,  1,  1,  1,  1,  1,  1,  1,  1,  1,  1,  1,  1,\n",
       "        1,  1,  1,  1,  1,  1,  1,  1,  1,  1,  1,  1,  1,  1,  1,  1,  1,\n",
       "        1,  1,  2,  1,  1,  1,  1,  1,  1,  1,  1,  1,  1,  1,  1,  1,  1,\n",
       "        1,  1,  1,  1,  1,  1,  1,  1,  1,  1,  1,  1,  1,  1,  1,  1,  1,\n",
       "        1,  1,  1,  1,  1,  1,  1,  1,  1,  1,  1,  1,  1,  2,  1,  1,  1,\n",
       "        1,  1,  1,  2,  1,  1,  1,  1,  1,  1,  1,  1,  1,  1,  1,  2,  1,\n",
       "        2,  1,  1,  1,  1,  1,  2,  2,  2,  3,  4,  4,  7, 13, 18, 19, 19,\n",
       "       20, 22, 22, 21, 24, 26, 27, 26, 26, 26, 25, 24, 25, 26, 26, 27, 25,\n",
       "       25, 23, 22, 25, 24, 25, 21, 17,  8,  5,  3,  3,  2,  2,  1,  1,  1,\n",
       "        2,  1,  1,  2,  1,  1,  1,  1,  1,  1,  1,  1,  1,  1,  1,  1,  1,\n",
       "        1,  1,  1,  1,  1,  1,  1,  1,  1,  1,  1,  1,  1,  1,  1,  1,  1,\n",
       "        1,  1,  1,  1,  1,  1,  1,  1,  1,  1,  1,  1,  1,  1,  1,  1,  1,\n",
       "        1,  1,  1,  1,  1,  1,  1,  1,  1,  1,  1,  1,  1,  1,  1,  1,  1,\n",
       "        1,  1,  1,  1,  1,  1,  1,  1,  1,  1,  1,  1,  2,  2,  1,  1,  1,\n",
       "        1,  1,  1,  1,  1,  1,  1,  1,  1,  1,  1,  2,  1,  1,  1,  1,  1,\n",
       "        1,  1,  1,  1,  1,  1,  1,  1,  1,  1,  1,  1,  1,  1,  1,  1,  1,\n",
       "        1,  1,  1,  1,  1,  1,  2,  3,  4,  4, 11, 15, 19, 24, 29, 30, 27,\n",
       "       27, 28, 27, 27, 26, 24, 22, 21, 21, 21, 17, 11,  5,  3,  2,  2,  1,\n",
       "        2,  1,  1,  1,  1,  1,  1,  1,  1,  1,  1,  1,  1,  1,  1,  1,  1,\n",
       "        1,  1,  1,  1,  1,  1,  1,  1,  1,  1,  1,  1,  1,  1,  1,  1,  2,\n",
       "        1,  2,  2,  2,  3,  3,  5,  9, 11, 13, 14, 13, 12, 12, 13, 13, 15,\n",
       "       14, 11, 11, 11, 11, 13, 14, 13, 14, 13, 17, 14, 13, 12, 14, 12, 10,\n",
       "        9,  6,  3,  2,  2,  2,  2,  1,  1,  1,  1,  1,  1,  1,  1,  1,  1,\n",
       "        1,  1,  1,  1,  1,  1,  1,  1,  1,  1,  1,  1,  1,  1,  1,  1,  2,\n",
       "        2,  2,  1,  1,  2,  2,  1,  2,  1,  2,  1,  1,  1,  2,  2,  1,  1,\n",
       "        1,  1,  1,  1,  2,  1,  1,  1,  1,  1,  2,  2,  1,  1,  1,  1,  1,\n",
       "        1,  1,  2,  1,  1,  1,  1,  1,  1,  1,  1,  1,  0,  1,  1,  1,  1,\n",
       "        1,  1,  1,  1,  1,  1,  1,  1,  1,  1,  1,  1,  1,  1,  1,  1,  1,\n",
       "        1,  1,  1,  1,  1,  1,  1,  0,  1,  1,  1,  1,  1,  1,  1,  1], dtype=uint8)"
      ]
     },
     "execution_count": 152,
     "metadata": {},
     "output_type": "execute_result"
    }
   ],
   "source": [
    "img[0]"
   ]
  },
  {
   "cell_type": "code",
   "execution_count": 10,
   "metadata": {},
   "outputs": [
    {
     "data": {
      "text/plain": [
       "<matplotlib.image.AxesImage at 0x7f0f30101390>"
      ]
     },
     "execution_count": 10,
     "metadata": {},
     "output_type": "execute_result"
    },
    {
     "data": {
      "image/png": "[encoded data removed]",
      "text/plain": [
       "<matplotlib.figure.Figure at 0x7f0f309ad950>"
      ]
     },
     "metadata": {},
     "output_type": "display_data"
    }
   ],
   "source": [
    "\n",
    "plt.imshow(img)"
   ]
  },
  {
   "cell_type": "code",
   "execution_count": 136,
   "metadata": {
    "collapsed": true
   },
   "outputs": [],
   "source": [
    "\n",
    "\n",
    "def threshold(image,T):\n",
    "    image_T=np.empty([image.shape[0],image.shape[1]])\n",
    "    for i in range(image.shape[0]):\n",
    "        for j in range(image.shape[1]):\n",
    "            if image[i][j]<T:\n",
    "                image_T[i][j]=1.0\n",
    "            else:\n",
    "                image_T[i][j]=image[i][j]\n",
    "    return image_T\n",
    "    "
   ]
  },
  {
   "cell_type": "code",
   "execution_count": 137,
   "metadata": {
    "collapsed": true
   },
   "outputs": [],
   "source": [
    "img_t=threshold(img,10.0)"
   ]
  },
  {
   "cell_type": "code",
   "execution_count": 144,
   "metadata": {},
   "outputs": [
    {
     "data": {
      "text/plain": [
       "<matplotlib.image.AxesImage at 0x7f2a5909ec90>"
      ]
     },
     "execution_count": 144,
     "metadata": {},
     "output_type": "execute_result"
    },
    {
     "data": {
      "image/png": "[encoded data removed]",
      "text/plain": [
       "<matplotlib.figure.Figure at 0x7f2a5916a8d0>"
      ]
     },
     "metadata": {},
     "output_type": "display_data"
    }
   ],
   "source": [
    "plt.imshow(img_t)"
   ]
  },
  {
   "cell_type": "code",
   "execution_count": 139,
   "metadata": {
    "collapsed": true
   },
   "outputs": [],
   "source": [
    "def threshold_M(image):\n",
    "    image_T=np.empty([image.shape[0],image.shape[1]])\n",
    "    for i in range(image.shape[0]):\n",
    "        for j in range(image.shape[1]):\n",
    "            if image[i][j]<np.mean(image[i]):\n",
    "                image_T[i][j]=0\n",
    "            else:\n",
    "                image_T[i][j]=1\n",
    "    return image_T"
   ]
  },
  {
   "cell_type": "code",
   "execution_count": 141,
   "metadata": {},
   "outputs": [
    {
     "data": {
      "text/plain": [
       "<matplotlib.image.AxesImage at 0x7f0f06b7b050>"
      ]
     },
     "execution_count": 141,
     "metadata": {},
     "output_type": "execute_result"
    },
    {
     "data": {
      "image/png": "[encoded data removed]",
      "text/plain": [
       "<matplotlib.figure.Figure at 0x7f0f06dc0150>"
      ]
     },
     "metadata": {},
     "output_type": "display_data"
    }
   ],
   "source": [
    "img_TM=threshold_M(img)\n",
    "plt.imshow(img_TM)"
   ]
  },
  {
   "cell_type": "code",
   "execution_count": 41,
   "metadata": {},
   "outputs": [
    {
     "data": {
      "text/plain": [
       "array([3, 3, 7, ..., 2, 2, 2], dtype=uint8)"
      ]
     },
     "execution_count": 41,
     "metadata": {},
     "output_type": "execute_result"
    }
   ],
   "source": [
    "from scipy import ndimage\n",
    "labels, nlabels = ndimage.label(img_t)  #labelling masks - nuclei\n",
    "\n",
    "# label_arrays = []\n",
    "for label_num in range(1, nlabels+1):\n",
    "    label_mask = np.where(labels == label_num, 1, 0)\n",
    "#     label_arrays.append(label_mask)\n",
    "\n",
    "# print('There are {} separate components / objects detected.'.format(nlabels))\n",
    "\n",
    "# print(mask)\n",
    "# print(label_mask)\n",
    "range(1,nlabels+1)\n",
    "label_mask[519]\n",
    "labels[519]\n",
    "img.shape\n",
    "520*696\n",
    "\n",
    "img.flatten()[]"
   ]
  },
  {
   "cell_type": "code",
   "execution_count": 34,
   "metadata": {},
   "outputs": [
    {
     "data": {
      "text/plain": [
       "array([1, 1, 0, 0])"
      ]
     },
     "execution_count": 34,
     "metadata": {},
     "output_type": "execute_result"
    }
   ],
   "source": [
    "#img[0]\n",
    "a=np.array([2,2,1,1])\n",
    "np.where(a==2,1,0)"
   ]
  },
  {
   "cell_type": "code",
   "execution_count": 81,
   "metadata": {},
   "outputs": [
    {
     "data": {
      "text/plain": [
       "(520, 696)"
      ]
     },
     "execution_count": 81,
     "metadata": {},
     "output_type": "execute_result"
    }
   ],
   "source": [
    "img.shape"
   ]
  },
  {
   "cell_type": "code",
   "execution_count": 85,
   "metadata": {},
   "outputs": [
    {
     "data": {
      "text/plain": [
       "(520, 696)"
      ]
     },
     "execution_count": 85,
     "metadata": {},
     "output_type": "execute_result"
    }
   ],
   "source": [
    "a=np.empty([520,696])\n",
    "a.shape"
   ]
  },
  {
   "cell_type": "code",
   "execution_count": 44,
   "metadata": {
    "collapsed": true
   },
   "outputs": [],
   "source": [
    "def rle_encoding(x):\n",
    "    '''\n",
    "    x: numpy array of shape (height, width), 1 - mask, 0 - background\n",
    "    Returns run length as list\n",
    "    '''\n",
    "    dots = np.where(x.T.flatten()==1)[0] # .T sets Fortran order down-then-right\n",
    "    run_lengths = []\n",
    "    prev = -2\n",
    "    for b in dots:\n",
    "        if (b>prev+1): run_lengths.extend((b+1, 0))\n",
    "        run_lengths[-1] += 1\n",
    "        prev = b\n",
    "    return \" \".join([str(i) for i in run_lengths])\n",
    "\n",
    "#print('RLE Encoding for the current mask is: {}'.format(rle_encoding(label_mask)))"
   ]
  },
  {
   "cell_type": "code",
   "execution_count": 46,
   "metadata": {},
   "outputs": [
    {
     "data": {
      "text/plain": [
       "'3 3 7 1 10 1'"
      ]
     },
     "execution_count": 46,
     "metadata": {},
     "output_type": "execute_result"
    }
   ],
   "source": [
    "x=np.array([0,0,1,1,1,0,1,0,0,1])\n",
    "rle_encoding(x)"
   ]
  },
  {
   "cell_type": "code",
   "execution_count": 147,
   "metadata": {},
   "outputs": [
    {
     "data": {
      "text/plain": [
       "array([ 0.,  0.,  0.,  1.,  1.,  1.,  1.,  1.,  1.,  1.,  1.,  1.,  1.,\n",
       "        1.,  1.,  1.,  1.,  1.,  1.,  1.,  1.,  1.,  1.,  1.,  1.,  1.,\n",
       "        1.,  1.,  1.,  1.,  1.,  1.,  1.,  1.,  1.,  1.,  1.,  1.,  1.,\n",
       "        1.,  1.,  1.,  1.,  0.,  0.,  0.,  0.,  0.,  0.,  0.,  0.,  0.,\n",
       "        0.,  0.,  0.,  0.,  0.,  0.,  0.,  0.,  0.,  0.,  0.,  0.,  0.,\n",
       "        0.,  0.,  0.,  0.,  0.,  0.,  0.,  0.,  0.,  0.,  0.,  0.,  0.,\n",
       "        0.,  0.,  0.,  0.,  0.,  0.,  0.,  0.,  0.,  0.,  0.,  0.,  0.,\n",
       "        0.,  0.,  0.,  0.,  0.,  0.,  0.,  0.,  0.,  0.,  0.,  0.,  0.,\n",
       "        0.,  0.,  0.,  0.,  0.,  0.,  0.,  0.,  0.,  0.,  0.,  0.,  0.,\n",
       "        0.,  0.,  0.,  0.,  0.,  0.,  0.,  0.,  0.,  0.,  0.,  0.,  0.,\n",
       "        0.,  0.,  0.,  0.,  0.,  0.,  0.,  0.,  0.,  0.,  0.,  0.,  0.,\n",
       "        0.,  0.,  0.,  0.,  0.,  0.,  0.,  0.,  0.,  0.,  0.,  0.,  0.,\n",
       "        0.,  0.,  0.,  0.,  0.,  0.,  0.,  0.,  0.,  0.,  0.,  0.,  0.,\n",
       "        0.,  0.,  0.,  0.,  0.,  0.,  0.,  0.,  0.,  0.,  0.,  0.,  0.,\n",
       "        0.,  0.,  0.,  0.,  0.,  0.,  0.,  0.,  0.,  0.,  0.,  0.,  0.,\n",
       "        0.,  0.,  0.,  0.,  0.,  0.,  0.,  0.,  0.,  0.,  0.,  0.,  0.,\n",
       "        0.,  0.,  0.,  0.,  0.,  0.,  0.,  0.,  0.,  0.,  0.,  0.,  0.,\n",
       "        0.,  0.,  0.,  0.,  0.,  0.,  0.,  0.,  0.,  0.,  0.,  0.,  0.,\n",
       "        0.,  0.,  0.,  0.,  0.,  0.,  0.,  0.,  0.,  0.,  0.,  0.,  0.,\n",
       "        0.,  0.,  0.,  0.,  0.,  0.,  0.,  0.,  0.,  0.,  0.,  0.,  0.,\n",
       "        0.,  0.,  0.,  0.,  0.,  0.,  0.,  0.,  0.,  0.,  0.,  0.,  0.,\n",
       "        0.,  0.,  0.,  0.,  0.,  0.,  0.,  0.,  0.,  0.,  0.,  0.,  0.,\n",
       "        0.,  0.,  0.,  0.,  0.,  0.,  0.,  0.,  0.,  0.,  0.,  0.,  0.,\n",
       "        0.,  0.,  0.,  0.,  0.,  0.,  0.,  0.,  0.,  0.,  0.,  0.,  0.,\n",
       "        0.,  0.,  0.,  0.,  0.,  0.,  0.,  1.,  1.,  1.,  1.,  1.,  1.,\n",
       "        1.,  1.,  1.,  1.,  1.,  1.,  1.,  1.,  1.,  1.,  1.,  1.,  1.,\n",
       "        1.,  1.,  1.,  1.,  1.,  1.,  1.,  1.,  1.,  1.,  0.,  0.,  0.,\n",
       "        0.,  0.,  0.,  0.,  0.,  0.,  0.,  0.,  0.,  0.,  0.,  0.,  0.,\n",
       "        0.,  0.,  0.,  0.,  0.,  0.,  0.,  0.,  0.,  0.,  0.,  0.,  0.,\n",
       "        0.,  0.,  0.,  0.,  0.,  0.,  0.,  0.,  0.,  0.,  0.,  0.,  0.,\n",
       "        0.,  0.,  0.,  0.,  0.,  0.,  0.,  0.,  0.,  0.,  0.,  0.,  0.,\n",
       "        0.,  0.,  0.,  0.,  0.,  0.,  0.,  0.,  0.,  0.,  0.,  0.,  0.,\n",
       "        0.,  0.,  0.,  0.,  0.,  0.,  0.,  0.,  0.,  0.,  0.,  0.,  0.,\n",
       "        0.,  0.,  0.,  0.,  0.,  0.,  0.,  0.,  0.,  0.,  0.,  0.,  0.,\n",
       "        0.,  0.,  0.,  0.,  0.,  0.,  0.,  0.,  0.,  0.,  0.,  0.,  0.,\n",
       "        0.,  0.,  0.,  0.,  0.,  0.,  0.,  0.,  0.,  0.,  0.,  0.,  0.,\n",
       "        0.,  0.,  0.,  0.,  0.,  0.,  0.,  0.,  0.,  0.,  0.,  0.,  0.,\n",
       "        0.,  0.,  0.,  0.,  0.,  1.,  1.,  1.,  1.,  1.,  1.,  1.,  1.,\n",
       "        1.,  1.,  1.,  1.,  1.,  1.,  1.,  1.,  1.,  1.,  1.,  0.,  0.,\n",
       "        0.,  0.,  0.,  0.,  0.,  0.,  0.,  0.,  0.,  0.,  0.,  0.,  0.,\n",
       "        0.,  0.,  0.,  0.,  0.,  0.,  0.,  0.,  0.,  0.,  0.,  0.,  0.,\n",
       "        0.,  0.,  0.,  0.,  0.,  0.,  0.,  0.,  0.,  0.,  0.,  0.,  0.,\n",
       "        0.,  0.,  0.,  0.,  0.,  0.,  1.,  1.,  1.,  1.,  1.,  1.,  1.,\n",
       "        1.,  1.,  1.,  1.,  1.,  1.,  1.,  1.,  1.,  1.,  1.,  1.,  1.,\n",
       "        1.,  1.,  1.,  1.,  1.,  1.,  0.,  0.,  0.,  0.,  0.,  0.,  0.,\n",
       "        0.,  0.,  0.,  0.,  0.,  0.,  0.,  0.,  0.,  0.,  0.,  0.,  0.,\n",
       "        0.,  0.,  0.,  0.,  0.,  0.,  0.,  0.,  0.,  0.,  0.,  0.,  0.,\n",
       "        0.,  0.,  0.,  0.,  0.,  0.,  0.,  0.,  0.,  0.,  0.,  0.,  0.,\n",
       "        0.,  0.,  0.,  0.,  0.,  0.,  0.,  0.,  0.,  0.,  0.,  0.,  0.,\n",
       "        0.,  0.,  0.,  0.,  0.,  0.,  0.,  0.,  0.,  0.,  0.,  0.,  0.,\n",
       "        0.,  0.,  0.,  0.,  0.,  0.,  0.,  0.,  0.,  0.,  0.,  0.,  0.,\n",
       "        0.,  0.,  0.,  0.,  0.,  0.,  0.,  0.,  0.,  0.,  0.,  0.,  0.,\n",
       "        0.,  0.,  0.,  0.,  0.,  0.,  0.,  0.,  0.,  0.,  0.,  0.,  0.,\n",
       "        0.,  0.,  0.,  0.,  0.,  0.,  0.])"
      ]
     },
     "execution_count": 147,
     "metadata": {},
     "output_type": "execute_result"
    }
   ],
   "source": [
    "rle_encoding(img_t)\n",
    "#img_t[0]"
   ]
  },
  {
   "cell_type": "code",
   "execution_count": 135,
   "metadata": {},
   "outputs": [
    {
     "data": {
      "text/plain": [
       "array([0, 1, 1])"
      ]
     },
     "execution_count": 135,
     "metadata": {},
     "output_type": "execute_result"
    }
   ],
   "source": [
    "a=np.array([1.0,2.0,3.0])\n",
    "np.where(a>1.0,1,0)\n"
   ]
  },
  {
   "cell_type": "code",
   "execution_count": 131,
   "metadata": {},
   "outputs": [
    {
     "data": {
      "text/plain": [
       "array([[[ 0.,  1.,  2.],\n",
       "        [ 0.,  1.,  2.],\n",
       "        [ 0.,  1.,  2.]],\n",
       "\n",
       "       [[ 0.,  1.,  2.],\n",
       "        [ 0.,  1.,  2.],\n",
       "        [ 0.,  1.,  2.]],\n",
       "\n",
       "       [[ 3.,  4.,  5.],\n",
       "        [ 3.,  4.,  5.],\n",
       "        [ 3.,  4.,  5.]]])"
      ]
     },
     "execution_count": 131,
     "metadata": {},
     "output_type": "execute_result"
    }
   ],
   "source": [
    "x = np.arange(9.).reshape(3, 3)\n",
    "x[np.where( x > 5 ,1,0 )]"
   ]
  },
  {
   "cell_type": "code",
   "execution_count": 140,
   "metadata": {},
   "outputs": [
    {
     "data": {
      "text/plain": [
       "(520, 696)"
      ]
     },
     "execution_count": 140,
     "metadata": {},
     "output_type": "execute_result"
    }
   ],
   "source": [
    "mask=np.where(img>5.0,1,0)\n",
    "mask.shape"
   ]
  },
  {
   "cell_type": "code",
   "execution_count": 141,
   "metadata": {},
   "outputs": [
    {
     "data": {
      "text/plain": [
       "<matplotlib.image.AxesImage at 0x7f2a5918fe50>"
      ]
     },
     "execution_count": 141,
     "metadata": {},
     "output_type": "execute_result"
    },
    {
     "data": {
      "image/png": "[encoded data removed]",
      "text/plain": [
       "<matplotlib.figure.Figure at 0x7f2a59206dd0>"
      ]
     },
     "metadata": {},
     "output_type": "display_data"
    }
   ],
   "source": [
    "plt.imshow(mask)"
   ]
  },
  {
   "cell_type": "code",
   "execution_count": 198,
   "metadata": {
    "collapsed": true
   },
   "outputs": [],
   "source": [
    "import pandas as pd\n",
    "from skimage.color import rgb2gray\n",
    "from skimage.filters import threshold_otsu\n",
    "\n",
    "def analyze_image_otsuT(im_path):\n",
    "    '''\n",
    "    Take an image_path (pathlib.Path object), preprocess and label it, extract the RLE strings \n",
    "    and dump it into a Pandas DataFrame.\n",
    "    '''\n",
    "    # Read in data and convert to grayscale\n",
    "    im_id = im_path.parts[-3]\n",
    "    im = imageio.imread(str(im_path))\n",
    "    im_gray = rgb2gray(im)\n",
    "    \n",
    "    # Mask out background and extract connected objects\n",
    "    thresh_val = threshold_otsu(im_gray)\n",
    "    mask = np.where(im_gray > thresh_val, 1, 0)\n",
    "    if np.sum(mask==0) < np.sum(mask==1):\n",
    "        mask = np.where(mask, 0, 1)    \n",
    "        labels, nlabels = ndimage.label(mask)\n",
    "    labels, nlabels = ndimage.label(mask)\n",
    "    \n",
    "    # Loop through labels and add each to a DataFrame\n",
    "    im_df = pd.DataFrame()\n",
    "    for label_num in range(1, nlabels+1):\n",
    "        label_mask = np.where(labels == label_num, 1, 0)\n",
    "        if label_mask.flatten().sum() > 10:\n",
    "            rle = rle_encoding(label_mask)\n",
    "            s = pd.Series({'ImageId': im_id, 'EncodedPixels': rle})\n",
    "            im_df = im_df.append(s, ignore_index=True)\n",
    "    \n",
    "    return im_df\n",
    "\n",
    "\n",
    "def analyze_list_of_images_otsuT(im_path_list):\n",
    "    '''\n",
    "    Takes a list of image paths (pathlib.Path objects), analyzes each,\n",
    "    and returns a submission-ready DataFrame.'''\n",
    "    all_df = pd.DataFrame()\n",
    "    for im_path in im_path_list:\n",
    "        im_df = analyze_image_otsuT(im_path)\n",
    "        all_df = all_df.append(im_df, ignore_index=True)\n",
    "    \n",
    "    return all_df"
   ]
  },
  {
   "cell_type": "code",
   "execution_count": 199,
   "metadata": {},
   "outputs": [
    {
     "name": "stdout",
     "output_type": "stream",
     "text": [
      "9.20859313011\n"
     ]
    }
   ],
   "source": [
    "import time\n",
    "t0 = time.time()\n",
    "\n",
    "testing = pathlib.Path('../input/stage1_test/').glob('*/images/*.png')\n",
    "df = analyze_list_of_images_otsuT(list(testing))\n",
    "df.to_csv('submissionThresh_otsu.csv', index=None)\n",
    "\n",
    "t1=time.time()\n",
    "total=t1-t0\n",
    "print(total)"
   ]
  },
  {
   "cell_type": "code",
   "execution_count": 200,
   "metadata": {},
   "outputs": [
    {
     "data": {
      "text/html": [
       "<div>\n",
       "<table border=\"1\" class=\"dataframe\">\n",
       "  <thead>\n",
       "    <tr style=\"text-align: right;\">\n",
       "      <th></th>\n",
       "      <th>EncodedPixels</th>\n",
       "      <th>ImageId</th>\n",
       "    </tr>\n",
       "  </thead>\n",
       "  <tbody>\n",
       "    <tr>\n",
       "      <th>0</th>\n",
       "      <td>15366 1 15619 4 15874 6 16130 5 16385 4 16641 ...</td>\n",
       "      <td>912a679e4b9b1d1a75170254fd675b8c24b664d80ad7ea...</td>\n",
       "    </tr>\n",
       "    <tr>\n",
       "      <th>1</th>\n",
       "      <td>37889 1 37891 2 38145 5 38401 5 38657 6 38913 ...</td>\n",
       "      <td>912a679e4b9b1d1a75170254fd675b8c24b664d80ad7ea...</td>\n",
       "    </tr>\n",
       "    <tr>\n",
       "      <th>2</th>\n",
       "      <td>61186 2 61441 3 61697 6 61953 6 62209 6 62465 ...</td>\n",
       "      <td>912a679e4b9b1d1a75170254fd675b8c24b664d80ad7ea...</td>\n",
       "    </tr>\n",
       "    <tr>\n",
       "      <th>3</th>\n",
       "      <td>8201 2 8454 9 8710 10 8965 12 9221 12 9477 12 ...</td>\n",
       "      <td>912a679e4b9b1d1a75170254fd675b8c24b664d80ad7ea...</td>\n",
       "    </tr>\n",
       "    <tr>\n",
       "      <th>4</th>\n",
       "      <td>27916 1 27918 2 28172 7 28427 9 28682 11 28938...</td>\n",
       "      <td>912a679e4b9b1d1a75170254fd675b8c24b664d80ad7ea...</td>\n",
       "    </tr>\n",
       "    <tr>\n",
       "      <th>5</th>\n",
       "      <td>50446 5 50701 7 50957 8 51212 9 51469 9 51724 ...</td>\n",
       "      <td>912a679e4b9b1d1a75170254fd675b8c24b664d80ad7ea...</td>\n",
       "    </tr>\n",
       "    <tr>\n",
       "      <th>6</th>\n",
       "      <td>34834 6 35089 8 35344 10 35598 13 35853 14 361...</td>\n",
       "      <td>912a679e4b9b1d1a75170254fd675b8c24b664d80ad7ea...</td>\n",
       "    </tr>\n",
       "    <tr>\n",
       "      <th>7</th>\n",
       "      <td>56855 6 57109 9 57364 10 57620 10 57875 11 581...</td>\n",
       "      <td>912a679e4b9b1d1a75170254fd675b8c24b664d80ad7ea...</td>\n",
       "    </tr>\n",
       "    <tr>\n",
       "      <th>8</th>\n",
       "      <td>61464 2 61719 4 61973 7 62228 10 62484 9 62740...</td>\n",
       "      <td>912a679e4b9b1d1a75170254fd675b8c24b664d80ad7ea...</td>\n",
       "    </tr>\n",
       "    <tr>\n",
       "      <th>9</th>\n",
       "      <td>18715 7 18969 10 19224 12 19480 12 19735 13 19...</td>\n",
       "      <td>912a679e4b9b1d1a75170254fd675b8c24b664d80ad7ea...</td>\n",
       "    </tr>\n",
       "    <tr>\n",
       "      <th>10</th>\n",
       "      <td>50459 7 50715 11 50970 13 51226 14 51482 14 51...</td>\n",
       "      <td>912a679e4b9b1d1a75170254fd675b8c24b664d80ad7ea...</td>\n",
       "    </tr>\n",
       "    <tr>\n",
       "      <th>11</th>\n",
       "      <td>34339 2 34594 3 34849 7 35104 9 35359 10 35615...</td>\n",
       "      <td>912a679e4b9b1d1a75170254fd675b8c24b664d80ad7ea...</td>\n",
       "    </tr>\n",
       "    <tr>\n",
       "      <th>12</th>\n",
       "      <td>55844 4 56099 7 56355 8 56611 8 56867 8 57125 ...</td>\n",
       "      <td>912a679e4b9b1d1a75170254fd675b8c24b664d80ad7ea...</td>\n",
       "    </tr>\n",
       "    <tr>\n",
       "      <th>13</th>\n",
       "      <td>51762 1 52015 1 52017 4 52270 8 52526 7 52781 ...</td>\n",
       "      <td>912a679e4b9b1d1a75170254fd675b8c24b664d80ad7ea...</td>\n",
       "    </tr>\n",
       "    <tr>\n",
       "      <th>14</th>\n",
       "      <td>39472 5 39727 7 39983 8 40238 9 40494 10 40750...</td>\n",
       "      <td>912a679e4b9b1d1a75170254fd675b8c24b664d80ad7ea...</td>\n",
       "    </tr>\n",
       "    <tr>\n",
       "      <th>15</th>\n",
       "      <td>46895 1 47149 3 47405 6 47657 11 47912 13 4816...</td>\n",
       "      <td>912a679e4b9b1d1a75170254fd675b8c24b664d80ad7ea...</td>\n",
       "    </tr>\n",
       "    <tr>\n",
       "      <th>16</th>\n",
       "      <td>25646 5 25901 7 26156 9 26411 10 26667 10 2692...</td>\n",
       "      <td>912a679e4b9b1d1a75170254fd675b8c24b664d80ad7ea...</td>\n",
       "    </tr>\n",
       "    <tr>\n",
       "      <th>17</th>\n",
       "      <td>817 4 1072 6 1327 8 1581 10 1837 10 2093 11 23...</td>\n",
       "      <td>912a679e4b9b1d1a75170254fd675b8c24b664d80ad7ea...</td>\n",
       "    </tr>\n",
       "    <tr>\n",
       "      <th>18</th>\n",
       "      <td>52030 8 52286 8 52541 9 52795 13 53051 14 5330...</td>\n",
       "      <td>912a679e4b9b1d1a75170254fd675b8c24b664d80ad7ea...</td>\n",
       "    </tr>\n",
       "    <tr>\n",
       "      <th>19</th>\n",
       "      <td>4407 4 4662 6 4918 7 5173 9 5429 9 5685 9 5941...</td>\n",
       "      <td>912a679e4b9b1d1a75170254fd675b8c24b664d80ad7ea...</td>\n",
       "    </tr>\n",
       "    <tr>\n",
       "      <th>20</th>\n",
       "      <td>35133 1 35386 5 35641 7 35896 8 36151 10 36407...</td>\n",
       "      <td>912a679e4b9b1d1a75170254fd675b8c24b664d80ad7ea...</td>\n",
       "    </tr>\n",
       "    <tr>\n",
       "      <th>21</th>\n",
       "      <td>59968 3 60221 8 60476 10 60731 11 60987 11 612...</td>\n",
       "      <td>912a679e4b9b1d1a75170254fd675b8c24b664d80ad7ea...</td>\n",
       "    </tr>\n",
       "    <tr>\n",
       "      <th>22</th>\n",
       "      <td>44106 4 44362 6 44616 8 44871 10 45127 10 4538...</td>\n",
       "      <td>912a679e4b9b1d1a75170254fd675b8c24b664d80ad7ea...</td>\n",
       "    </tr>\n",
       "    <tr>\n",
       "      <th>23</th>\n",
       "      <td>24393 1 24395 1 24647 6 24902 7 25157 9 25413 ...</td>\n",
       "      <td>912a679e4b9b1d1a75170254fd675b8c24b664d80ad7ea...</td>\n",
       "    </tr>\n",
       "    <tr>\n",
       "      <th>24</th>\n",
       "      <td>36172 5 36428 7 36683 8 36938 8 37194 8 37450 ...</td>\n",
       "      <td>912a679e4b9b1d1a75170254fd675b8c24b664d80ad7ea...</td>\n",
       "    </tr>\n",
       "    <tr>\n",
       "      <th>25</th>\n",
       "      <td>63053 2 63308 8 63562 11 63818 11 64074 11 643...</td>\n",
       "      <td>912a679e4b9b1d1a75170254fd675b8c24b664d80ad7ea...</td>\n",
       "    </tr>\n",
       "    <tr>\n",
       "      <th>26</th>\n",
       "      <td>46165 3 46421 5 46675 7 46931 6 47186 7 47442 ...</td>\n",
       "      <td>912a679e4b9b1d1a75170254fd675b8c24b664d80ad7ea...</td>\n",
       "    </tr>\n",
       "    <tr>\n",
       "      <th>27</th>\n",
       "      <td>60756 4 61011 6 61266 8 61522 8 61778 8 62034 ...</td>\n",
       "      <td>912a679e4b9b1d1a75170254fd675b8c24b664d80ad7ea...</td>\n",
       "    </tr>\n",
       "    <tr>\n",
       "      <th>28</th>\n",
       "      <td>37730 1 37984 4 38237 9 38492 11 38748 12 3900...</td>\n",
       "      <td>912a679e4b9b1d1a75170254fd675b8c24b664d80ad7ea...</td>\n",
       "    </tr>\n",
       "    <tr>\n",
       "      <th>29</th>\n",
       "      <td>28513 6 28768 8 29024 9 29279 11 29535 11 2979...</td>\n",
       "      <td>912a679e4b9b1d1a75170254fd675b8c24b664d80ad7ea...</td>\n",
       "    </tr>\n",
       "    <tr>\n",
       "      <th>...</th>\n",
       "      <td>...</td>\n",
       "      <td>...</td>\n",
       "    </tr>\n",
       "    <tr>\n",
       "      <th>2515</th>\n",
       "      <td>223394 1 223913 5 224430 10 224950 13 225469 1...</td>\n",
       "      <td>f0d0ab13ff53adc3c4d57e95a5f83d80b06f2cbc0bf002...</td>\n",
       "    </tr>\n",
       "    <tr>\n",
       "      <th>2516</th>\n",
       "      <td>295217 1 295219 1 295227 3 295235 1 295737 4 2...</td>\n",
       "      <td>f0d0ab13ff53adc3c4d57e95a5f83d80b06f2cbc0bf002...</td>\n",
       "    </tr>\n",
       "    <tr>\n",
       "      <th>2517</th>\n",
       "      <td>156937 4 157454 1 157456 7 157965 5 157972 18 ...</td>\n",
       "      <td>f0d0ab13ff53adc3c4d57e95a5f83d80b06f2cbc0bf002...</td>\n",
       "    </tr>\n",
       "    <tr>\n",
       "      <th>2518</th>\n",
       "      <td>298375 3 298894 5 299412 10 299932 13 300452 1...</td>\n",
       "      <td>f0d0ab13ff53adc3c4d57e95a5f83d80b06f2cbc0bf002...</td>\n",
       "    </tr>\n",
       "    <tr>\n",
       "      <th>2519</th>\n",
       "      <td>165286 1 165804 3 166322 10 166840 17 167359 1...</td>\n",
       "      <td>f0d0ab13ff53adc3c4d57e95a5f83d80b06f2cbc0bf002...</td>\n",
       "    </tr>\n",
       "    <tr>\n",
       "      <th>2520</th>\n",
       "      <td>318184 3 318701 9 319219 15 319738 18 320257 2...</td>\n",
       "      <td>f0d0ab13ff53adc3c4d57e95a5f83d80b06f2cbc0bf002...</td>\n",
       "    </tr>\n",
       "    <tr>\n",
       "      <th>2521</th>\n",
       "      <td>21304 6 21821 13 22338 17 22856 20 23375 22 23...</td>\n",
       "      <td>f0d0ab13ff53adc3c4d57e95a5f83d80b06f2cbc0bf002...</td>\n",
       "    </tr>\n",
       "    <tr>\n",
       "      <th>2522</th>\n",
       "      <td>159636 4 160144 3 160156 5 160663 7 160676 5 1...</td>\n",
       "      <td>f0d0ab13ff53adc3c4d57e95a5f83d80b06f2cbc0bf002...</td>\n",
       "    </tr>\n",
       "    <tr>\n",
       "      <th>2523</th>\n",
       "      <td>183541 3 184061 4 184581 4</td>\n",
       "      <td>f0d0ab13ff53adc3c4d57e95a5f83d80b06f2cbc0bf002...</td>\n",
       "    </tr>\n",
       "    <tr>\n",
       "      <th>2524</th>\n",
       "      <td>105040 1 105559 2 106075 6 106594 7 107113 8 1...</td>\n",
       "      <td>f0d0ab13ff53adc3c4d57e95a5f83d80b06f2cbc0bf002...</td>\n",
       "    </tr>\n",
       "    <tr>\n",
       "      <th>2525</th>\n",
       "      <td>178350 1 178866 6 179385 7 179905 7 180426 7 1...</td>\n",
       "      <td>f0d0ab13ff53adc3c4d57e95a5f83d80b06f2cbc0bf002...</td>\n",
       "    </tr>\n",
       "    <tr>\n",
       "      <th>2526</th>\n",
       "      <td>268840 1 269360 1 269880 1 270400 1 270920 1 2...</td>\n",
       "      <td>f0d0ab13ff53adc3c4d57e95a5f83d80b06f2cbc0bf002...</td>\n",
       "    </tr>\n",
       "    <tr>\n",
       "      <th>2527</th>\n",
       "      <td>338590 1 338594 5 339108 12 339627 14 340146 1...</td>\n",
       "      <td>ade080c6618cbbb0a25680cf847f312b5e19b22bfe1caf...</td>\n",
       "    </tr>\n",
       "    <tr>\n",
       "      <th>2528</th>\n",
       "      <td>171148 12 171666 17 172185 20 172703 24 173222...</td>\n",
       "      <td>ade080c6618cbbb0a25680cf847f312b5e19b22bfe1caf...</td>\n",
       "    </tr>\n",
       "    <tr>\n",
       "      <th>2529</th>\n",
       "      <td>338058 4 338576 7 339096 7 339616 5 340136 5 3...</td>\n",
       "      <td>ade080c6618cbbb0a25680cf847f312b5e19b22bfe1caf...</td>\n",
       "    </tr>\n",
       "    <tr>\n",
       "      <th>2530</th>\n",
       "      <td>277784 1 278294 4 278299 10 278310 1 278815 9 ...</td>\n",
       "      <td>ade080c6618cbbb0a25680cf847f312b5e19b22bfe1caf...</td>\n",
       "    </tr>\n",
       "    <tr>\n",
       "      <th>2531</th>\n",
       "      <td>335989 2 336507 4 337027 4 337547 3</td>\n",
       "      <td>ade080c6618cbbb0a25680cf847f312b5e19b22bfe1caf...</td>\n",
       "    </tr>\n",
       "    <tr>\n",
       "      <th>2532</th>\n",
       "      <td>75496 1 76014 4 76533 5 77052 7 77563 2 77571 ...</td>\n",
       "      <td>ade080c6618cbbb0a25680cf847f312b5e19b22bfe1caf...</td>\n",
       "    </tr>\n",
       "    <tr>\n",
       "      <th>2533</th>\n",
       "      <td>81267 9 81762 11 81783 16 82280 15 82300 21 82...</td>\n",
       "      <td>ade080c6618cbbb0a25680cf847f312b5e19b22bfe1caf...</td>\n",
       "    </tr>\n",
       "    <tr>\n",
       "      <th>2534</th>\n",
       "      <td>276316 9 276829 1 276833 16 277344 27 277862 3...</td>\n",
       "      <td>ade080c6618cbbb0a25680cf847f312b5e19b22bfe1caf...</td>\n",
       "    </tr>\n",
       "    <tr>\n",
       "      <th>2535</th>\n",
       "      <td>356936 7 357455 10 357974 12 358493 20 359006 ...</td>\n",
       "      <td>ade080c6618cbbb0a25680cf847f312b5e19b22bfe1caf...</td>\n",
       "    </tr>\n",
       "    <tr>\n",
       "      <th>2536</th>\n",
       "      <td>283140 2 283658 5 283666 2 284177 13 284695 17...</td>\n",
       "      <td>ade080c6618cbbb0a25680cf847f312b5e19b22bfe1caf...</td>\n",
       "    </tr>\n",
       "    <tr>\n",
       "      <th>2537</th>\n",
       "      <td>27369 6 27886 13 28403 19 28921 22 29426 12 29...</td>\n",
       "      <td>ade080c6618cbbb0a25680cf847f312b5e19b22bfe1caf...</td>\n",
       "    </tr>\n",
       "    <tr>\n",
       "      <th>2538</th>\n",
       "      <td>323217 1 323727 17 324245 22 324763 27 325282 ...</td>\n",
       "      <td>ade080c6618cbbb0a25680cf847f312b5e19b22bfe1caf...</td>\n",
       "    </tr>\n",
       "    <tr>\n",
       "      <th>2539</th>\n",
       "      <td>232334 5 232837 3 232842 21 233353 32 233872 3...</td>\n",
       "      <td>ade080c6618cbbb0a25680cf847f312b5e19b22bfe1caf...</td>\n",
       "    </tr>\n",
       "    <tr>\n",
       "      <th>2540</th>\n",
       "      <td>31087 10 31603 17 32121 22 32641 25 33160 29 3...</td>\n",
       "      <td>ade080c6618cbbb0a25680cf847f312b5e19b22bfe1caf...</td>\n",
       "    </tr>\n",
       "    <tr>\n",
       "      <th>2541</th>\n",
       "      <td>283367 1 283369 1 283887 5 284403 1 284405 11 ...</td>\n",
       "      <td>ade080c6618cbbb0a25680cf847f312b5e19b22bfe1caf...</td>\n",
       "    </tr>\n",
       "    <tr>\n",
       "      <th>2542</th>\n",
       "      <td>160608 14 161124 25 161642 31 162159 38 162678...</td>\n",
       "      <td>ade080c6618cbbb0a25680cf847f312b5e19b22bfe1caf...</td>\n",
       "    </tr>\n",
       "    <tr>\n",
       "      <th>2543</th>\n",
       "      <td>113863 2 113866 3 114382 12 114901 15 115421 1...</td>\n",
       "      <td>ade080c6618cbbb0a25680cf847f312b5e19b22bfe1caf...</td>\n",
       "    </tr>\n",
       "    <tr>\n",
       "      <th>2544</th>\n",
       "      <td>78513 8 79031 10 79549 12 80067 14 80585 16 81...</td>\n",
       "      <td>ade080c6618cbbb0a25680cf847f312b5e19b22bfe1caf...</td>\n",
       "    </tr>\n",
       "  </tbody>\n",
       "</table>\n",
       "<p>2545 rows × 2 columns</p>\n",
       "</div>"
      ],
      "text/plain": [
       "                                          EncodedPixels  \\\n",
       "0     15366 1 15619 4 15874 6 16130 5 16385 4 16641 ...   \n",
       "1     37889 1 37891 2 38145 5 38401 5 38657 6 38913 ...   \n",
       "2     61186 2 61441 3 61697 6 61953 6 62209 6 62465 ...   \n",
       "3     8201 2 8454 9 8710 10 8965 12 9221 12 9477 12 ...   \n",
       "4     27916 1 27918 2 28172 7 28427 9 28682 11 28938...   \n",
       "5     50446 5 50701 7 50957 8 51212 9 51469 9 51724 ...   \n",
       "6     34834 6 35089 8 35344 10 35598 13 35853 14 361...   \n",
       "7     56855 6 57109 9 57364 10 57620 10 57875 11 581...   \n",
       "8     61464 2 61719 4 61973 7 62228 10 62484 9 62740...   \n",
       "9     18715 7 18969 10 19224 12 19480 12 19735 13 19...   \n",
       "10    50459 7 50715 11 50970 13 51226 14 51482 14 51...   \n",
       "11    34339 2 34594 3 34849 7 35104 9 35359 10 35615...   \n",
       "12    55844 4 56099 7 56355 8 56611 8 56867 8 57125 ...   \n",
       "13    51762 1 52015 1 52017 4 52270 8 52526 7 52781 ...   \n",
       "14    39472 5 39727 7 39983 8 40238 9 40494 10 40750...   \n",
       "15    46895 1 47149 3 47405 6 47657 11 47912 13 4816...   \n",
       "16    25646 5 25901 7 26156 9 26411 10 26667 10 2692...   \n",
       "17    817 4 1072 6 1327 8 1581 10 1837 10 2093 11 23...   \n",
       "18    52030 8 52286 8 52541 9 52795 13 53051 14 5330...   \n",
       "19    4407 4 4662 6 4918 7 5173 9 5429 9 5685 9 5941...   \n",
       "20    35133 1 35386 5 35641 7 35896 8 36151 10 36407...   \n",
       "21    59968 3 60221 8 60476 10 60731 11 60987 11 612...   \n",
       "22    44106 4 44362 6 44616 8 44871 10 45127 10 4538...   \n",
       "23    24393 1 24395 1 24647 6 24902 7 25157 9 25413 ...   \n",
       "24    36172 5 36428 7 36683 8 36938 8 37194 8 37450 ...   \n",
       "25    63053 2 63308 8 63562 11 63818 11 64074 11 643...   \n",
       "26    46165 3 46421 5 46675 7 46931 6 47186 7 47442 ...   \n",
       "27    60756 4 61011 6 61266 8 61522 8 61778 8 62034 ...   \n",
       "28    37730 1 37984 4 38237 9 38492 11 38748 12 3900...   \n",
       "29    28513 6 28768 8 29024 9 29279 11 29535 11 2979...   \n",
       "...                                                 ...   \n",
       "2515  223394 1 223913 5 224430 10 224950 13 225469 1...   \n",
       "2516  295217 1 295219 1 295227 3 295235 1 295737 4 2...   \n",
       "2517  156937 4 157454 1 157456 7 157965 5 157972 18 ...   \n",
       "2518  298375 3 298894 5 299412 10 299932 13 300452 1...   \n",
       "2519  165286 1 165804 3 166322 10 166840 17 167359 1...   \n",
       "2520  318184 3 318701 9 319219 15 319738 18 320257 2...   \n",
       "2521  21304 6 21821 13 22338 17 22856 20 23375 22 23...   \n",
       "2522  159636 4 160144 3 160156 5 160663 7 160676 5 1...   \n",
       "2523                         183541 3 184061 4 184581 4   \n",
       "2524  105040 1 105559 2 106075 6 106594 7 107113 8 1...   \n",
       "2525  178350 1 178866 6 179385 7 179905 7 180426 7 1...   \n",
       "2526  268840 1 269360 1 269880 1 270400 1 270920 1 2...   \n",
       "2527  338590 1 338594 5 339108 12 339627 14 340146 1...   \n",
       "2528  171148 12 171666 17 172185 20 172703 24 173222...   \n",
       "2529  338058 4 338576 7 339096 7 339616 5 340136 5 3...   \n",
       "2530  277784 1 278294 4 278299 10 278310 1 278815 9 ...   \n",
       "2531                335989 2 336507 4 337027 4 337547 3   \n",
       "2532  75496 1 76014 4 76533 5 77052 7 77563 2 77571 ...   \n",
       "2533  81267 9 81762 11 81783 16 82280 15 82300 21 82...   \n",
       "2534  276316 9 276829 1 276833 16 277344 27 277862 3...   \n",
       "2535  356936 7 357455 10 357974 12 358493 20 359006 ...   \n",
       "2536  283140 2 283658 5 283666 2 284177 13 284695 17...   \n",
       "2537  27369 6 27886 13 28403 19 28921 22 29426 12 29...   \n",
       "2538  323217 1 323727 17 324245 22 324763 27 325282 ...   \n",
       "2539  232334 5 232837 3 232842 21 233353 32 233872 3...   \n",
       "2540  31087 10 31603 17 32121 22 32641 25 33160 29 3...   \n",
       "2541  283367 1 283369 1 283887 5 284403 1 284405 11 ...   \n",
       "2542  160608 14 161124 25 161642 31 162159 38 162678...   \n",
       "2543  113863 2 113866 3 114382 12 114901 15 115421 1...   \n",
       "2544  78513 8 79031 10 79549 12 80067 14 80585 16 81...   \n",
       "\n",
       "                                                ImageId  \n",
       "0     912a679e4b9b1d1a75170254fd675b8c24b664d80ad7ea...  \n",
       "1     912a679e4b9b1d1a75170254fd675b8c24b664d80ad7ea...  \n",
       "2     912a679e4b9b1d1a75170254fd675b8c24b664d80ad7ea...  \n",
       "3     912a679e4b9b1d1a75170254fd675b8c24b664d80ad7ea...  \n",
       "4     912a679e4b9b1d1a75170254fd675b8c24b664d80ad7ea...  \n",
       "5     912a679e4b9b1d1a75170254fd675b8c24b664d80ad7ea...  \n",
       "6     912a679e4b9b1d1a75170254fd675b8c24b664d80ad7ea...  \n",
       "7     912a679e4b9b1d1a75170254fd675b8c24b664d80ad7ea...  \n",
       "8     912a679e4b9b1d1a75170254fd675b8c24b664d80ad7ea...  \n",
       "9     912a679e4b9b1d1a75170254fd675b8c24b664d80ad7ea...  \n",
       "10    912a679e4b9b1d1a75170254fd675b8c24b664d80ad7ea...  \n",
       "11    912a679e4b9b1d1a75170254fd675b8c24b664d80ad7ea...  \n",
       "12    912a679e4b9b1d1a75170254fd675b8c24b664d80ad7ea...  \n",
       "13    912a679e4b9b1d1a75170254fd675b8c24b664d80ad7ea...  \n",
       "14    912a679e4b9b1d1a75170254fd675b8c24b664d80ad7ea...  \n",
       "15    912a679e4b9b1d1a75170254fd675b8c24b664d80ad7ea...  \n",
       "16    912a679e4b9b1d1a75170254fd675b8c24b664d80ad7ea...  \n",
       "17    912a679e4b9b1d1a75170254fd675b8c24b664d80ad7ea...  \n",
       "18    912a679e4b9b1d1a75170254fd675b8c24b664d80ad7ea...  \n",
       "19    912a679e4b9b1d1a75170254fd675b8c24b664d80ad7ea...  \n",
       "20    912a679e4b9b1d1a75170254fd675b8c24b664d80ad7ea...  \n",
       "21    912a679e4b9b1d1a75170254fd675b8c24b664d80ad7ea...  \n",
       "22    912a679e4b9b1d1a75170254fd675b8c24b664d80ad7ea...  \n",
       "23    912a679e4b9b1d1a75170254fd675b8c24b664d80ad7ea...  \n",
       "24    912a679e4b9b1d1a75170254fd675b8c24b664d80ad7ea...  \n",
       "25    912a679e4b9b1d1a75170254fd675b8c24b664d80ad7ea...  \n",
       "26    912a679e4b9b1d1a75170254fd675b8c24b664d80ad7ea...  \n",
       "27    912a679e4b9b1d1a75170254fd675b8c24b664d80ad7ea...  \n",
       "28    912a679e4b9b1d1a75170254fd675b8c24b664d80ad7ea...  \n",
       "29    912a679e4b9b1d1a75170254fd675b8c24b664d80ad7ea...  \n",
       "...                                                 ...  \n",
       "2515  f0d0ab13ff53adc3c4d57e95a5f83d80b06f2cbc0bf002...  \n",
       "2516  f0d0ab13ff53adc3c4d57e95a5f83d80b06f2cbc0bf002...  \n",
       "2517  f0d0ab13ff53adc3c4d57e95a5f83d80b06f2cbc0bf002...  \n",
       "2518  f0d0ab13ff53adc3c4d57e95a5f83d80b06f2cbc0bf002...  \n",
       "2519  f0d0ab13ff53adc3c4d57e95a5f83d80b06f2cbc0bf002...  \n",
       "2520  f0d0ab13ff53adc3c4d57e95a5f83d80b06f2cbc0bf002...  \n",
       "2521  f0d0ab13ff53adc3c4d57e95a5f83d80b06f2cbc0bf002...  \n",
       "2522  f0d0ab13ff53adc3c4d57e95a5f83d80b06f2cbc0bf002...  \n",
       "2523  f0d0ab13ff53adc3c4d57e95a5f83d80b06f2cbc0bf002...  \n",
       "2524  f0d0ab13ff53adc3c4d57e95a5f83d80b06f2cbc0bf002...  \n",
       "2525  f0d0ab13ff53adc3c4d57e95a5f83d80b06f2cbc0bf002...  \n",
       "2526  f0d0ab13ff53adc3c4d57e95a5f83d80b06f2cbc0bf002...  \n",
       "2527  ade080c6618cbbb0a25680cf847f312b5e19b22bfe1caf...  \n",
       "2528  ade080c6618cbbb0a25680cf847f312b5e19b22bfe1caf...  \n",
       "2529  ade080c6618cbbb0a25680cf847f312b5e19b22bfe1caf...  \n",
       "2530  ade080c6618cbbb0a25680cf847f312b5e19b22bfe1caf...  \n",
       "2531  ade080c6618cbbb0a25680cf847f312b5e19b22bfe1caf...  \n",
       "2532  ade080c6618cbbb0a25680cf847f312b5e19b22bfe1caf...  \n",
       "2533  ade080c6618cbbb0a25680cf847f312b5e19b22bfe1caf...  \n",
       "2534  ade080c6618cbbb0a25680cf847f312b5e19b22bfe1caf...  \n",
       "2535  ade080c6618cbbb0a25680cf847f312b5e19b22bfe1caf...  \n",
       "2536  ade080c6618cbbb0a25680cf847f312b5e19b22bfe1caf...  \n",
       "2537  ade080c6618cbbb0a25680cf847f312b5e19b22bfe1caf...  \n",
       "2538  ade080c6618cbbb0a25680cf847f312b5e19b22bfe1caf...  \n",
       "2539  ade080c6618cbbb0a25680cf847f312b5e19b22bfe1caf...  \n",
       "2540  ade080c6618cbbb0a25680cf847f312b5e19b22bfe1caf...  \n",
       "2541  ade080c6618cbbb0a25680cf847f312b5e19b22bfe1caf...  \n",
       "2542  ade080c6618cbbb0a25680cf847f312b5e19b22bfe1caf...  \n",
       "2543  ade080c6618cbbb0a25680cf847f312b5e19b22bfe1caf...  \n",
       "2544  ade080c6618cbbb0a25680cf847f312b5e19b22bfe1caf...  \n",
       "\n",
       "[2545 rows x 2 columns]"
      ]
     },
     "execution_count": 200,
     "metadata": {},
     "output_type": "execute_result"
    }
   ],
   "source": [
    "df"
   ]
  },
  {
   "cell_type": "code",
   "execution_count": 201,
   "metadata": {
    "collapsed": true
   },
   "outputs": [],
   "source": [
    "\n",
    "\n",
    "def analyze_image_meanT(im_path):\n",
    "    '''\n",
    "    Take an image_path (pathlib.Path object), preprocess and label it, extract the RLE strings \n",
    "    and dump it into a Pandas DataFrame.\n",
    "    '''\n",
    "    # Read in data and convert to grayscale\n",
    "#     im_id = im_path.parts[-3]\n",
    "#     im = imageio.imread(str(im_path))\n",
    "#     im_gray = rgb2gray(im)\n",
    "    im_id = im_path.parts[-3]\n",
    "    im=cv2.imread(str(im_path),0)\n",
    "    \n",
    "    # Mask out background and extract connected objects\n",
    "#     thresh_val = threshold_otsu(im_gray)\n",
    "#     mask = np.where(im_gray > thresh_val, 1, 0)\n",
    "#     if np.sum(mask==0) < np.sum(mask==1):\n",
    "#         mask = np.where(mask, 0, 1)    \n",
    "#         labels, nlabels = ndimage.label(mask)\n",
    "#     labels, nlabels = ndimage.label(mask)\n",
    "    thresh_val = np.mean(im)\n",
    "    mask=np.where(im>thresh_val,1,0)\n",
    "    labels, nlabels = ndimage.label(mask)\n",
    "    if np.sum(mask==0) < np.sum(mask==1):\n",
    "        mask = np.where(mask, 0, 1)    \n",
    "        labels, nlabels = ndimage.label(mask)\n",
    "    labels, nlabels = ndimage.label(mask)\n",
    "    \n",
    "    # Loop through labels and add each to a DataFrame\n",
    "    im_df = pd.DataFrame()\n",
    "    for label_num in range(1, nlabels+1):\n",
    "        label_mask = np.where(labels == label_num, 1, 0)\n",
    "        if label_mask.flatten().sum() > 10:\n",
    "            rle = rle_encoding(label_mask)\n",
    "            s = pd.Series({'ImageId': im_id, 'EncodedPixels': rle})\n",
    "            im_df = im_df.append(s, ignore_index=True)\n",
    "    \n",
    "    return im_df\n",
    "\n",
    "\n",
    "def analyze_list_of_images_meanT(im_path_list):\n",
    "    '''\n",
    "    Takes a list of image paths (pathlib.Path objects), analyzes each,\n",
    "    and returns a submission-ready DataFrame.'''\n",
    "    all_df = pd.DataFrame()\n",
    "    for im_path in im_path_list:\n",
    "        im_df = analyze_image_meanT(im_path)\n",
    "        all_df = all_df.append(im_df, ignore_index=True)\n",
    "    \n",
    "    return all_df"
   ]
  },
  {
   "cell_type": "code",
   "execution_count": 202,
   "metadata": {},
   "outputs": [
    {
     "name": "stdout",
     "output_type": "stream",
     "text": [
      "96.6517291069\n"
     ]
    }
   ],
   "source": [
    "import time\n",
    "t0 = time.time()\n",
    "testing = pathlib.Path('../input/stage1_test/').glob('*/images/*.png')\n",
    "df = analyze_list_of_images_meanT(list(testing))\n",
    "df.to_csv('submissionThres_mean.csv', index=None)\n",
    "t1 = time.time()\n",
    "\n",
    "total=t1-t0\n",
    "print(total)"
   ]
  },
  {
   "cell_type": "code",
   "execution_count": 197,
   "metadata": {},
   "outputs": [
    {
     "data": {
      "text/html": [
       "<div>\n",
       "<table border=\"1\" class=\"dataframe\">\n",
       "  <thead>\n",
       "    <tr style=\"text-align: right;\">\n",
       "      <th></th>\n",
       "      <th>EncodedPixels</th>\n",
       "      <th>ImageId</th>\n",
       "    </tr>\n",
       "  </thead>\n",
       "  <tbody>\n",
       "    <tr>\n",
       "      <th>0</th>\n",
       "      <td>14341 3 14594 11 14849 13 15105 13 15361 14 15...</td>\n",
       "      <td>912a679e4b9b1d1a75170254fd675b8c24b664d80ad7ea...</td>\n",
       "    </tr>\n",
       "    <tr>\n",
       "      <th>1</th>\n",
       "      <td>36866 3 37121 6 37377 7 37633 8 37889 9 38145 ...</td>\n",
       "      <td>912a679e4b9b1d1a75170254fd675b8c24b664d80ad7ea...</td>\n",
       "    </tr>\n",
       "    <tr>\n",
       "      <th>2</th>\n",
       "      <td>60929 3 61185 5 61441 6 61697 7 61953 7 62209 ...</td>\n",
       "      <td>912a679e4b9b1d1a75170254fd675b8c24b664d80ad7ea...</td>\n",
       "    </tr>\n",
       "    <tr>\n",
       "      <th>3</th>\n",
       "      <td>7435 1 7686 8 7941 11 8196 13 8452 14 8707 16 ...</td>\n",
       "      <td>912a679e4b9b1d1a75170254fd675b8c24b664d80ad7ea...</td>\n",
       "    </tr>\n",
       "    <tr>\n",
       "      <th>4</th>\n",
       "      <td>26895 1 27148 7 27403 9 27658 11 27672 4 27913...</td>\n",
       "      <td>912a679e4b9b1d1a75170254fd675b8c24b664d80ad7ea...</td>\n",
       "    </tr>\n",
       "    <tr>\n",
       "      <th>5</th>\n",
       "      <td>49677 8 49932 10 50187 12 50202 12 50442 13 50...</td>\n",
       "      <td>912a679e4b9b1d1a75170254fd675b8c24b664d80ad7ea...</td>\n",
       "    </tr>\n",
       "    <tr>\n",
       "      <th>6</th>\n",
       "      <td>34066 6 34082 4 34320 9 34336 8 34575 12 34591...</td>\n",
       "      <td>912a679e4b9b1d1a75170254fd675b8c24b664d80ad7ea...</td>\n",
       "    </tr>\n",
       "    <tr>\n",
       "      <th>7</th>\n",
       "      <td>60949 7 61203 11 61458 13 61472 1 61713 16 619...</td>\n",
       "      <td>912a679e4b9b1d1a75170254fd675b8c24b664d80ad7ea...</td>\n",
       "    </tr>\n",
       "    <tr>\n",
       "      <th>8</th>\n",
       "      <td>17948 6 18201 11 18456 13 18711 14 18966 16 19...</td>\n",
       "      <td>912a679e4b9b1d1a75170254fd675b8c24b664d80ad7ea...</td>\n",
       "    </tr>\n",
       "    <tr>\n",
       "      <th>9</th>\n",
       "      <td>38960 6 39214 9 39470 10 39725 11 39980 13 402...</td>\n",
       "      <td>912a679e4b9b1d1a75170254fd675b8c24b664d80ad7ea...</td>\n",
       "    </tr>\n",
       "    <tr>\n",
       "      <th>10</th>\n",
       "      <td>6187 4 6441 7 6696 8 6951 9 7207 8 7463 5 7720 1</td>\n",
       "      <td>912a679e4b9b1d1a75170254fd675b8c24b664d80ad7ea...</td>\n",
       "    </tr>\n",
       "    <tr>\n",
       "      <th>11</th>\n",
       "      <td>24878 5 25133 7 25387 10 25643 11 25898 12 261...</td>\n",
       "      <td>912a679e4b9b1d1a75170254fd675b8c24b664d80ad7ea...</td>\n",
       "    </tr>\n",
       "    <tr>\n",
       "      <th>12</th>\n",
       "      <td>307 1 559 7 813 10 1068 12 1324 12 1579 14 183...</td>\n",
       "      <td>912a679e4b9b1d1a75170254fd675b8c24b664d80ad7ea...</td>\n",
       "    </tr>\n",
       "    <tr>\n",
       "      <th>13</th>\n",
       "      <td>34619 5 34873 8 35128 10 35383 11 35638 13 358...</td>\n",
       "      <td>912a679e4b9b1d1a75170254fd675b8c24b664d80ad7ea...</td>\n",
       "    </tr>\n",
       "    <tr>\n",
       "      <th>14</th>\n",
       "      <td>59455 4 59709 8 59963 11 60218 12 60474 13 607...</td>\n",
       "      <td>912a679e4b9b1d1a75170254fd675b8c24b664d80ad7ea...</td>\n",
       "    </tr>\n",
       "    <tr>\n",
       "      <th>15</th>\n",
       "      <td>60244 4 60499 7 60754 8 61009 10 61264 11 6152...</td>\n",
       "      <td>912a679e4b9b1d1a75170254fd675b8c24b664d80ad7ea...</td>\n",
       "    </tr>\n",
       "    <tr>\n",
       "      <th>16</th>\n",
       "      <td>23368 1 23623 5 23878 8 24133 10 24387 13 2464...</td>\n",
       "      <td>912a679e4b9b1d1a75170254fd675b8c24b664d80ad7ea...</td>\n",
       "    </tr>\n",
       "    <tr>\n",
       "      <th>17</th>\n",
       "      <td>35405 5 35660 7 35915 9 36170 11 36425 12 3668...</td>\n",
       "      <td>912a679e4b9b1d1a75170254fd675b8c24b664d80ad7ea...</td>\n",
       "    </tr>\n",
       "    <tr>\n",
       "      <th>18</th>\n",
       "      <td>37473 3 37482 1 37484 1 37725 18 37980 19 3823...</td>\n",
       "      <td>912a679e4b9b1d1a75170254fd675b8c24b664d80ad7ea...</td>\n",
       "    </tr>\n",
       "    <tr>\n",
       "      <th>19</th>\n",
       "      <td>25453 4 25706 10 25961 12 26217 13 26472 15 26...</td>\n",
       "      <td>912a679e4b9b1d1a75170254fd675b8c24b664d80ad7ea...</td>\n",
       "    </tr>\n",
       "    <tr>\n",
       "      <th>20</th>\n",
       "      <td>16999 7 17253 10 17508 12 17764 13 18019 14 18...</td>\n",
       "      <td>912a679e4b9b1d1a75170254fd675b8c24b664d80ad7ea...</td>\n",
       "    </tr>\n",
       "    <tr>\n",
       "      <th>21</th>\n",
       "      <td>63076 5 63330 8 63585 10 63841 11 64096 12 643...</td>\n",
       "      <td>912a679e4b9b1d1a75170254fd675b8c24b664d80ad7ea...</td>\n",
       "    </tr>\n",
       "    <tr>\n",
       "      <th>22</th>\n",
       "      <td>4968 8 5223 10 5478 13 5734 14 5990 16 6245 18...</td>\n",
       "      <td>912a679e4b9b1d1a75170254fd675b8c24b664d80ad7ea...</td>\n",
       "    </tr>\n",
       "    <tr>\n",
       "      <th>23</th>\n",
       "      <td>11893 8 12147 13 12402 15 12658 16 12913 17 13...</td>\n",
       "      <td>912a679e4b9b1d1a75170254fd675b8c24b664d80ad7ea...</td>\n",
       "    </tr>\n",
       "    <tr>\n",
       "      <th>24</th>\n",
       "      <td>15229 3 15483 6 15738 8 15993 10 16249 11 1650...</td>\n",
       "      <td>912a679e4b9b1d1a75170254fd675b8c24b664d80ad7ea...</td>\n",
       "    </tr>\n",
       "    <tr>\n",
       "      <th>25</th>\n",
       "      <td>41347 1 41599 10 41854 12 42109 14 42365 14 42...</td>\n",
       "      <td>912a679e4b9b1d1a75170254fd675b8c24b664d80ad7ea...</td>\n",
       "    </tr>\n",
       "    <tr>\n",
       "      <th>26</th>\n",
       "      <td>55698 1 55952 6 56206 11 56460 14 56714 17 569...</td>\n",
       "      <td>912a679e4b9b1d1a75170254fd675b8c24b664d80ad7ea...</td>\n",
       "    </tr>\n",
       "    <tr>\n",
       "      <th>27</th>\n",
       "      <td>37517 2 37770 7 38025 9 38280 11 38536 12 3879...</td>\n",
       "      <td>912a679e4b9b1d1a75170254fd675b8c24b664d80ad7ea...</td>\n",
       "    </tr>\n",
       "    <tr>\n",
       "      <th>28</th>\n",
       "      <td>3475 5 3729 9 3984 11 4239 13 4494 14 4750 15 ...</td>\n",
       "      <td>912a679e4b9b1d1a75170254fd675b8c24b664d80ad7ea...</td>\n",
       "    </tr>\n",
       "    <tr>\n",
       "      <th>29</th>\n",
       "      <td>31637 4 31891 8 32145 11 32400 13 32655 14 329...</td>\n",
       "      <td>912a679e4b9b1d1a75170254fd675b8c24b664d80ad7ea...</td>\n",
       "    </tr>\n",
       "    <tr>\n",
       "      <th>...</th>\n",
       "      <td>...</td>\n",
       "      <td>...</td>\n",
       "    </tr>\n",
       "    <tr>\n",
       "      <th>11129</th>\n",
       "      <td>57788 1 57790 3 57795 1 58306 12 58827 13 5934...</td>\n",
       "      <td>f0d0ab13ff53adc3c4d57e95a5f83d80b06f2cbc0bf002...</td>\n",
       "    </tr>\n",
       "    <tr>\n",
       "      <th>11130</th>\n",
       "      <td>243475 1 243990 4 243995 5 244002 1 244004 1 2...</td>\n",
       "      <td>f0d0ab13ff53adc3c4d57e95a5f83d80b06f2cbc0bf002...</td>\n",
       "    </tr>\n",
       "    <tr>\n",
       "      <th>11131</th>\n",
       "      <td>193137 2 193140 1 193142 1 193144 1 193652 2 1...</td>\n",
       "      <td>f0d0ab13ff53adc3c4d57e95a5f83d80b06f2cbc0bf002...</td>\n",
       "    </tr>\n",
       "    <tr>\n",
       "      <th>11132</th>\n",
       "      <td>259772 2 259775 1 259778 1 260288 11 260806 13...</td>\n",
       "      <td>f0d0ab13ff53adc3c4d57e95a5f83d80b06f2cbc0bf002...</td>\n",
       "    </tr>\n",
       "    <tr>\n",
       "      <th>11133</th>\n",
       "      <td>283 45 802 44 1321 45 1839 47 2358 1 2360 45 2...</td>\n",
       "      <td>f0d0ab13ff53adc3c4d57e95a5f83d80b06f2cbc0bf002...</td>\n",
       "    </tr>\n",
       "    <tr>\n",
       "      <th>11134</th>\n",
       "      <td>219752 8 220271 11 220789 15 221307 19 221826 ...</td>\n",
       "      <td>f0d0ab13ff53adc3c4d57e95a5f83d80b06f2cbc0bf002...</td>\n",
       "    </tr>\n",
       "    <tr>\n",
       "      <th>11135</th>\n",
       "      <td>290531 13 290545 1 291050 21 291569 26 291596 ...</td>\n",
       "      <td>f0d0ab13ff53adc3c4d57e95a5f83d80b06f2cbc0bf002...</td>\n",
       "    </tr>\n",
       "    <tr>\n",
       "      <th>11136</th>\n",
       "      <td>153292 2 153295 1 153298 1 153810 16 154326 22...</td>\n",
       "      <td>f0d0ab13ff53adc3c4d57e95a5f83d80b06f2cbc0bf002...</td>\n",
       "    </tr>\n",
       "    <tr>\n",
       "      <th>11137</th>\n",
       "      <td>315582 8 316099 15 316618 20 317136 23 317654 ...</td>\n",
       "      <td>f0d0ab13ff53adc3c4d57e95a5f83d80b06f2cbc0bf002...</td>\n",
       "    </tr>\n",
       "    <tr>\n",
       "      <th>11138</th>\n",
       "      <td>19219 1 19221 11 19233 1 19738 17 20254 24 207...</td>\n",
       "      <td>f0d0ab13ff53adc3c4d57e95a5f83d80b06f2cbc0bf002...</td>\n",
       "    </tr>\n",
       "    <tr>\n",
       "      <th>11139</th>\n",
       "      <td>101400 1 101917 4 102435 6 102951 10 103470 11...</td>\n",
       "      <td>f0d0ab13ff53adc3c4d57e95a5f83d80b06f2cbc0bf002...</td>\n",
       "    </tr>\n",
       "    <tr>\n",
       "      <th>11140</th>\n",
       "      <td>154949 8 155469 12 155987 14 156506 15 157024 ...</td>\n",
       "      <td>f0d0ab13ff53adc3c4d57e95a5f83d80b06f2cbc0bf002...</td>\n",
       "    </tr>\n",
       "    <tr>\n",
       "      <th>11141</th>\n",
       "      <td>228799 1 229319 2 229839 2 230358 3 230878 3 2...</td>\n",
       "      <td>f0d0ab13ff53adc3c4d57e95a5f83d80b06f2cbc0bf002...</td>\n",
       "    </tr>\n",
       "    <tr>\n",
       "      <th>11142</th>\n",
       "      <td>263640 1 264160 1 264680 1 265198 3 265717 4 2...</td>\n",
       "      <td>f0d0ab13ff53adc3c4d57e95a5f83d80b06f2cbc0bf002...</td>\n",
       "    </tr>\n",
       "    <tr>\n",
       "      <th>11143</th>\n",
       "      <td>296921 1 297441 1 297961 2 298481 2 299001 2 2...</td>\n",
       "      <td>ade080c6618cbbb0a25680cf847f312b5e19b22bfe1caf...</td>\n",
       "    </tr>\n",
       "    <tr>\n",
       "      <th>11144</th>\n",
       "      <td>325057 1 325059 5 325065 1 325575 14 325590 1 ...</td>\n",
       "      <td>ade080c6618cbbb0a25680cf847f312b5e19b22bfe1caf...</td>\n",
       "    </tr>\n",
       "    <tr>\n",
       "      <th>11145</th>\n",
       "      <td>168030 1 168032 4 168038 2 168548 15 169065 20...</td>\n",
       "      <td>ade080c6618cbbb0a25680cf847f312b5e19b22bfe1caf...</td>\n",
       "    </tr>\n",
       "    <tr>\n",
       "      <th>11146</th>\n",
       "      <td>272577 1 272580 1 273088 1 273090 15 273106 1 ...</td>\n",
       "      <td>ade080c6618cbbb0a25680cf847f312b5e19b22bfe1caf...</td>\n",
       "    </tr>\n",
       "    <tr>\n",
       "      <th>11147</th>\n",
       "      <td>71847 11 71859 1 72362 20 72880 24 73398 27 73...</td>\n",
       "      <td>ade080c6618cbbb0a25680cf847f312b5e19b22bfe1caf...</td>\n",
       "    </tr>\n",
       "    <tr>\n",
       "      <th>11148</th>\n",
       "      <td>272676 2 272679 2 272682 4 273189 5 273195 15 ...</td>\n",
       "      <td>ade080c6618cbbb0a25680cf847f312b5e19b22bfe1caf...</td>\n",
       "    </tr>\n",
       "    <tr>\n",
       "      <th>11149</th>\n",
       "      <td>353297 3 353302 1 353813 15 354330 1 354333 17...</td>\n",
       "      <td>ade080c6618cbbb0a25680cf847f312b5e19b22bfe1caf...</td>\n",
       "    </tr>\n",
       "    <tr>\n",
       "      <th>11150</th>\n",
       "      <td>24770 1 24772 1 25285 15 25796 1 25800 23 2630...</td>\n",
       "      <td>ade080c6618cbbb0a25680cf847f312b5e19b22bfe1caf...</td>\n",
       "    </tr>\n",
       "    <tr>\n",
       "      <th>11151</th>\n",
       "      <td>319572 1 319575 1 320088 13 320102 1 320104 1 ...</td>\n",
       "      <td>ade080c6618cbbb0a25680cf847f312b5e19b22bfe1caf...</td>\n",
       "    </tr>\n",
       "    <tr>\n",
       "      <th>11152</th>\n",
       "      <td>229206 8 229716 27 230234 32 230752 35 231270 ...</td>\n",
       "      <td>ade080c6618cbbb0a25680cf847f312b5e19b22bfe1caf...</td>\n",
       "    </tr>\n",
       "    <tr>\n",
       "      <th>11153</th>\n",
       "      <td>27966 2 27970 1 27972 7 28484 19 29001 23 2902...</td>\n",
       "      <td>ade080c6618cbbb0a25680cf847f312b5e19b22bfe1caf...</td>\n",
       "    </tr>\n",
       "    <tr>\n",
       "      <th>11154</th>\n",
       "      <td>191749 3 192269 5 192788 8 193308 9 193828 9 1...</td>\n",
       "      <td>ade080c6618cbbb0a25680cf847f312b5e19b22bfe1caf...</td>\n",
       "    </tr>\n",
       "    <tr>\n",
       "      <th>11155</th>\n",
       "      <td>279201 1 279204 4 279210 1 279719 14 280234 24...</td>\n",
       "      <td>ade080c6618cbbb0a25680cf847f312b5e19b22bfe1caf...</td>\n",
       "    </tr>\n",
       "    <tr>\n",
       "      <th>11156</th>\n",
       "      <td>156973 1 156975 1 156977 1 156981 1 157488 1 1...</td>\n",
       "      <td>ade080c6618cbbb0a25680cf847f312b5e19b22bfe1caf...</td>\n",
       "    </tr>\n",
       "    <tr>\n",
       "      <th>11157</th>\n",
       "      <td>111262 2 111266 2 111269 2 111272 1 111780 14 ...</td>\n",
       "      <td>ade080c6618cbbb0a25680cf847f312b5e19b22bfe1caf...</td>\n",
       "    </tr>\n",
       "    <tr>\n",
       "      <th>11158</th>\n",
       "      <td>75391 2 75395 6 75910 11 76428 13 76946 15 774...</td>\n",
       "      <td>ade080c6618cbbb0a25680cf847f312b5e19b22bfe1caf...</td>\n",
       "    </tr>\n",
       "  </tbody>\n",
       "</table>\n",
       "<p>11159 rows × 2 columns</p>\n",
       "</div>"
      ],
      "text/plain": [
       "                                           EncodedPixels  \\\n",
       "0      14341 3 14594 11 14849 13 15105 13 15361 14 15...   \n",
       "1      36866 3 37121 6 37377 7 37633 8 37889 9 38145 ...   \n",
       "2      60929 3 61185 5 61441 6 61697 7 61953 7 62209 ...   \n",
       "3      7435 1 7686 8 7941 11 8196 13 8452 14 8707 16 ...   \n",
       "4      26895 1 27148 7 27403 9 27658 11 27672 4 27913...   \n",
       "5      49677 8 49932 10 50187 12 50202 12 50442 13 50...   \n",
       "6      34066 6 34082 4 34320 9 34336 8 34575 12 34591...   \n",
       "7      60949 7 61203 11 61458 13 61472 1 61713 16 619...   \n",
       "8      17948 6 18201 11 18456 13 18711 14 18966 16 19...   \n",
       "9      38960 6 39214 9 39470 10 39725 11 39980 13 402...   \n",
       "10      6187 4 6441 7 6696 8 6951 9 7207 8 7463 5 7720 1   \n",
       "11     24878 5 25133 7 25387 10 25643 11 25898 12 261...   \n",
       "12     307 1 559 7 813 10 1068 12 1324 12 1579 14 183...   \n",
       "13     34619 5 34873 8 35128 10 35383 11 35638 13 358...   \n",
       "14     59455 4 59709 8 59963 11 60218 12 60474 13 607...   \n",
       "15     60244 4 60499 7 60754 8 61009 10 61264 11 6152...   \n",
       "16     23368 1 23623 5 23878 8 24133 10 24387 13 2464...   \n",
       "17     35405 5 35660 7 35915 9 36170 11 36425 12 3668...   \n",
       "18     37473 3 37482 1 37484 1 37725 18 37980 19 3823...   \n",
       "19     25453 4 25706 10 25961 12 26217 13 26472 15 26...   \n",
       "20     16999 7 17253 10 17508 12 17764 13 18019 14 18...   \n",
       "21     63076 5 63330 8 63585 10 63841 11 64096 12 643...   \n",
       "22     4968 8 5223 10 5478 13 5734 14 5990 16 6245 18...   \n",
       "23     11893 8 12147 13 12402 15 12658 16 12913 17 13...   \n",
       "24     15229 3 15483 6 15738 8 15993 10 16249 11 1650...   \n",
       "25     41347 1 41599 10 41854 12 42109 14 42365 14 42...   \n",
       "26     55698 1 55952 6 56206 11 56460 14 56714 17 569...   \n",
       "27     37517 2 37770 7 38025 9 38280 11 38536 12 3879...   \n",
       "28     3475 5 3729 9 3984 11 4239 13 4494 14 4750 15 ...   \n",
       "29     31637 4 31891 8 32145 11 32400 13 32655 14 329...   \n",
       "...                                                  ...   \n",
       "11129  57788 1 57790 3 57795 1 58306 12 58827 13 5934...   \n",
       "11130  243475 1 243990 4 243995 5 244002 1 244004 1 2...   \n",
       "11131  193137 2 193140 1 193142 1 193144 1 193652 2 1...   \n",
       "11132  259772 2 259775 1 259778 1 260288 11 260806 13...   \n",
       "11133  283 45 802 44 1321 45 1839 47 2358 1 2360 45 2...   \n",
       "11134  219752 8 220271 11 220789 15 221307 19 221826 ...   \n",
       "11135  290531 13 290545 1 291050 21 291569 26 291596 ...   \n",
       "11136  153292 2 153295 1 153298 1 153810 16 154326 22...   \n",
       "11137  315582 8 316099 15 316618 20 317136 23 317654 ...   \n",
       "11138  19219 1 19221 11 19233 1 19738 17 20254 24 207...   \n",
       "11139  101400 1 101917 4 102435 6 102951 10 103470 11...   \n",
       "11140  154949 8 155469 12 155987 14 156506 15 157024 ...   \n",
       "11141  228799 1 229319 2 229839 2 230358 3 230878 3 2...   \n",
       "11142  263640 1 264160 1 264680 1 265198 3 265717 4 2...   \n",
       "11143  296921 1 297441 1 297961 2 298481 2 299001 2 2...   \n",
       "11144  325057 1 325059 5 325065 1 325575 14 325590 1 ...   \n",
       "11145  168030 1 168032 4 168038 2 168548 15 169065 20...   \n",
       "11146  272577 1 272580 1 273088 1 273090 15 273106 1 ...   \n",
       "11147  71847 11 71859 1 72362 20 72880 24 73398 27 73...   \n",
       "11148  272676 2 272679 2 272682 4 273189 5 273195 15 ...   \n",
       "11149  353297 3 353302 1 353813 15 354330 1 354333 17...   \n",
       "11150  24770 1 24772 1 25285 15 25796 1 25800 23 2630...   \n",
       "11151  319572 1 319575 1 320088 13 320102 1 320104 1 ...   \n",
       "11152  229206 8 229716 27 230234 32 230752 35 231270 ...   \n",
       "11153  27966 2 27970 1 27972 7 28484 19 29001 23 2902...   \n",
       "11154  191749 3 192269 5 192788 8 193308 9 193828 9 1...   \n",
       "11155  279201 1 279204 4 279210 1 279719 14 280234 24...   \n",
       "11156  156973 1 156975 1 156977 1 156981 1 157488 1 1...   \n",
       "11157  111262 2 111266 2 111269 2 111272 1 111780 14 ...   \n",
       "11158  75391 2 75395 6 75910 11 76428 13 76946 15 774...   \n",
       "\n",
       "                                                 ImageId  \n",
       "0      912a679e4b9b1d1a75170254fd675b8c24b664d80ad7ea...  \n",
       "1      912a679e4b9b1d1a75170254fd675b8c24b664d80ad7ea...  \n",
       "2      912a679e4b9b1d1a75170254fd675b8c24b664d80ad7ea...  \n",
       "3      912a679e4b9b1d1a75170254fd675b8c24b664d80ad7ea...  \n",
       "4      912a679e4b9b1d1a75170254fd675b8c24b664d80ad7ea...  \n",
       "5      912a679e4b9b1d1a75170254fd675b8c24b664d80ad7ea...  \n",
       "6      912a679e4b9b1d1a75170254fd675b8c24b664d80ad7ea...  \n",
       "7      912a679e4b9b1d1a75170254fd675b8c24b664d80ad7ea...  \n",
       "8      912a679e4b9b1d1a75170254fd675b8c24b664d80ad7ea...  \n",
       "9      912a679e4b9b1d1a75170254fd675b8c24b664d80ad7ea...  \n",
       "10     912a679e4b9b1d1a75170254fd675b8c24b664d80ad7ea...  \n",
       "11     912a679e4b9b1d1a75170254fd675b8c24b664d80ad7ea...  \n",
       "12     912a679e4b9b1d1a75170254fd675b8c24b664d80ad7ea...  \n",
       "13     912a679e4b9b1d1a75170254fd675b8c24b664d80ad7ea...  \n",
       "14     912a679e4b9b1d1a75170254fd675b8c24b664d80ad7ea...  \n",
       "15     912a679e4b9b1d1a75170254fd675b8c24b664d80ad7ea...  \n",
       "16     912a679e4b9b1d1a75170254fd675b8c24b664d80ad7ea...  \n",
       "17     912a679e4b9b1d1a75170254fd675b8c24b664d80ad7ea...  \n",
       "18     912a679e4b9b1d1a75170254fd675b8c24b664d80ad7ea...  \n",
       "19     912a679e4b9b1d1a75170254fd675b8c24b664d80ad7ea...  \n",
       "20     912a679e4b9b1d1a75170254fd675b8c24b664d80ad7ea...  \n",
       "21     912a679e4b9b1d1a75170254fd675b8c24b664d80ad7ea...  \n",
       "22     912a679e4b9b1d1a75170254fd675b8c24b664d80ad7ea...  \n",
       "23     912a679e4b9b1d1a75170254fd675b8c24b664d80ad7ea...  \n",
       "24     912a679e4b9b1d1a75170254fd675b8c24b664d80ad7ea...  \n",
       "25     912a679e4b9b1d1a75170254fd675b8c24b664d80ad7ea...  \n",
       "26     912a679e4b9b1d1a75170254fd675b8c24b664d80ad7ea...  \n",
       "27     912a679e4b9b1d1a75170254fd675b8c24b664d80ad7ea...  \n",
       "28     912a679e4b9b1d1a75170254fd675b8c24b664d80ad7ea...  \n",
       "29     912a679e4b9b1d1a75170254fd675b8c24b664d80ad7ea...  \n",
       "...                                                  ...  \n",
       "11129  f0d0ab13ff53adc3c4d57e95a5f83d80b06f2cbc0bf002...  \n",
       "11130  f0d0ab13ff53adc3c4d57e95a5f83d80b06f2cbc0bf002...  \n",
       "11131  f0d0ab13ff53adc3c4d57e95a5f83d80b06f2cbc0bf002...  \n",
       "11132  f0d0ab13ff53adc3c4d57e95a5f83d80b06f2cbc0bf002...  \n",
       "11133  f0d0ab13ff53adc3c4d57e95a5f83d80b06f2cbc0bf002...  \n",
       "11134  f0d0ab13ff53adc3c4d57e95a5f83d80b06f2cbc0bf002...  \n",
       "11135  f0d0ab13ff53adc3c4d57e95a5f83d80b06f2cbc0bf002...  \n",
       "11136  f0d0ab13ff53adc3c4d57e95a5f83d80b06f2cbc0bf002...  \n",
       "11137  f0d0ab13ff53adc3c4d57e95a5f83d80b06f2cbc0bf002...  \n",
       "11138  f0d0ab13ff53adc3c4d57e95a5f83d80b06f2cbc0bf002...  \n",
       "11139  f0d0ab13ff53adc3c4d57e95a5f83d80b06f2cbc0bf002...  \n",
       "11140  f0d0ab13ff53adc3c4d57e95a5f83d80b06f2cbc0bf002...  \n",
       "11141  f0d0ab13ff53adc3c4d57e95a5f83d80b06f2cbc0bf002...  \n",
       "11142  f0d0ab13ff53adc3c4d57e95a5f83d80b06f2cbc0bf002...  \n",
       "11143  ade080c6618cbbb0a25680cf847f312b5e19b22bfe1caf...  \n",
       "11144  ade080c6618cbbb0a25680cf847f312b5e19b22bfe1caf...  \n",
       "11145  ade080c6618cbbb0a25680cf847f312b5e19b22bfe1caf...  \n",
       "11146  ade080c6618cbbb0a25680cf847f312b5e19b22bfe1caf...  \n",
       "11147  ade080c6618cbbb0a25680cf847f312b5e19b22bfe1caf...  \n",
       "11148  ade080c6618cbbb0a25680cf847f312b5e19b22bfe1caf...  \n",
       "11149  ade080c6618cbbb0a25680cf847f312b5e19b22bfe1caf...  \n",
       "11150  ade080c6618cbbb0a25680cf847f312b5e19b22bfe1caf...  \n",
       "11151  ade080c6618cbbb0a25680cf847f312b5e19b22bfe1caf...  \n",
       "11152  ade080c6618cbbb0a25680cf847f312b5e19b22bfe1caf...  \n",
       "11153  ade080c6618cbbb0a25680cf847f312b5e19b22bfe1caf...  \n",
       "11154  ade080c6618cbbb0a25680cf847f312b5e19b22bfe1caf...  \n",
       "11155  ade080c6618cbbb0a25680cf847f312b5e19b22bfe1caf...  \n",
       "11156  ade080c6618cbbb0a25680cf847f312b5e19b22bfe1caf...  \n",
       "11157  ade080c6618cbbb0a25680cf847f312b5e19b22bfe1caf...  \n",
       "11158  ade080c6618cbbb0a25680cf847f312b5e19b22bfe1caf...  \n",
       "\n",
       "[11159 rows x 2 columns]"
      ]
     },
     "execution_count": 197,
     "metadata": {},
     "output_type": "execute_result"
    }
   ],
   "source": [
    "df"
   ]
  },
  {
   "cell_type": "code",
   "execution_count": 119,
   "metadata": {},
   "outputs": [
    {
     "data": {
      "text/plain": [
       "'0114f484a16c152baa2d82fdd43740880a762c93f436c8988ac461c5c9dbe7d5'"
      ]
     },
     "execution_count": 119,
     "metadata": {},
     "output_type": "execute_result"
    }
   ],
   "source": [
    "testing_paths = pathlib.Path('../input/stage1_test').glob('*/images/*.png')\n",
    "testing_sorted = sorted([x for x in testing_paths])\n",
    "testing_sorted[0].parts[-3]"
   ]
  },
  {
   "cell_type": "code",
   "execution_count": 122,
   "metadata": {
    "collapsed": true
   },
   "outputs": [],
   "source": [
    "from skimage.morphology import label\n",
    "\n",
    "def iou_metric(y_true_in, y_pred_in, print_table=False):\n",
    "    labels = label(y_true_in > 0.5)\n",
    "    y_pred = label(y_pred_in > 0.5)\n",
    "    \n",
    "    true_objects = len(np.unique(labels))\n",
    "    pred_objects = len(np.unique(y_pred))\n",
    "\n",
    "    intersection = np.histogram2d(labels.flatten(), y_pred.flatten(), bins=(true_objects, pred_objects))[0]\n",
    "\n",
    "    # Compute areas (needed for finding the union between all objects)\n",
    "    area_true = np.histogram(labels, bins = true_objects)[0]\n",
    "    area_pred = np.histogram(y_pred, bins = pred_objects)[0]\n",
    "    area_true = np.expand_dims(area_true, -1)\n",
    "    area_pred = np.expand_dims(area_pred, 0)\n",
    "\n",
    "    # Compute union\n",
    "    union = area_true + area_pred - intersection\n",
    "\n",
    "    # Exclude background from the analysis\n",
    "    intersection = intersection[1:,1:]\n",
    "    union = union[1:,1:]\n",
    "    union[union == 0] = 1e-9\n",
    "\n",
    "    # Compute the intersection over union\n",
    "    iou = intersection / union\n",
    "\n",
    "    # Precision helper function\n",
    "    def precision_at(threshold, iou):\n",
    "        matches = iou > threshold\n",
    "        true_positives = np.sum(matches, axis=1) == 1   # Correct objects\n",
    "        false_positives = np.sum(matches, axis=0) == 0  # Missed objects\n",
    "        false_negatives = np.sum(matches, axis=1) == 0  # Extra objects\n",
    "        tp, fp, fn = np.sum(true_positives), np.sum(false_positives), np.sum(false_negatives)\n",
    "        return tp, fp, fn\n",
    "\n",
    "    # Loop over IoU thresholds\n",
    "    prec = []\n",
    "    if print_table:\n",
    "        print(\"Thresh\\tTP\\tFP\\tFN\\tPrec.\")\n",
    "    for t in np.arange(0.5, 1.0, 0.05):\n",
    "        tp, fp, fn = precision_at(t, iou)\n",
    "        if (tp + fp + fn) > 0:\n",
    "            p = tp / (tp + fp + fn)\n",
    "        else:\n",
    "            p = 0\n",
    "        if print_table:\n",
    "            print(\"{:1.3f}\\t{}\\t{}\\t{}\\t{:1.3f}\".format(t, tp, fp, fn, p))\n",
    "        prec.append(p)\n",
    "    \n",
    "    if print_table:\n",
    "        print(\"AP\\t-\\t-\\t-\\t{:1.3f}\".format(np.mean(prec)))\n",
    "    return np.mean(prec)\n"
   ]
  },
  {
   "cell_type": "code",
   "execution_count": 218,
   "metadata": {
    "collapsed": true
   },
   "outputs": [],
   "source": [
    "img = cv2.imread(str(im_path),0)\n",
    "imgT_mean=np.where(img>np.mean(img),1,0)\n",
    "imgT_otsu=np.where(img>threshold_otsu(img),1,0)\n",
    "imgT=np.where(img>25,1,0)"
   ]
  },
  {
   "cell_type": "code",
   "execution_count": 180,
   "metadata": {},
   "outputs": [
    {
     "name": "stdout",
     "output_type": "stream",
     "text": [
      "Thresh\tTP\tFP\tFN\tPrec.\n",
      "0.500\t0\t67\t1\t0.000\n",
      "0.550\t0\t67\t1\t0.000\n",
      "0.600\t0\t67\t1\t0.000\n",
      "0.650\t0\t67\t1\t0.000\n",
      "0.700\t0\t67\t1\t0.000\n",
      "0.750\t0\t67\t1\t0.000\n",
      "0.800\t0\t67\t1\t0.000\n",
      "0.850\t0\t67\t1\t0.000\n",
      "0.900\t0\t67\t1\t0.000\n",
      "0.950\t0\t67\t1\t0.000\n",
      "AP\t-\t-\t-\t0.000\n"
     ]
    },
    {
     "data": {
      "text/plain": [
       "0.0"
      ]
     },
     "execution_count": 180,
     "metadata": {},
     "output_type": "execute_result"
    }
   ],
   "source": [
    "iou_metric(img,imgT_otsu,True)"
   ]
  },
  {
   "cell_type": "code",
   "execution_count": 211,
   "metadata": {},
   "outputs": [
    {
     "data": {
      "text/plain": [
       "<matplotlib.image.AxesImage at 0x7f0f007e4850>"
      ]
     },
     "execution_count": 211,
     "metadata": {},
     "output_type": "execute_result"
    },
    {
     "data": {
      "image/png": "[encoded data removed]",
      "text/plain": [
       "<matplotlib.figure.Figure at 0x7f0f0281ff90>"
      ]
     },
     "metadata": {},
     "output_type": "display_data"
    }
   ],
   "source": [
    "plt.imshow(imgT_mean)"
   ]
  },
  {
   "cell_type": "code",
   "execution_count": 212,
   "metadata": {},
   "outputs": [
    {
     "data": {
      "text/plain": [
       "<matplotlib.image.AxesImage at 0x7f0f00734310>"
      ]
     },
     "execution_count": 212,
     "metadata": {},
     "output_type": "execute_result"
    },
    {
     "data": {
      "image/png": "[encoded data removed]",
      "text/plain": [
       "<matplotlib.figure.Figure at 0x7f0f0fbfd8d0>"
      ]
     },
     "metadata": {},
     "output_type": "display_data"
    }
   ],
   "source": [
    "plt.imshow(imgT_otsu)"
   ]
  },
  {
   "cell_type": "code",
   "execution_count": 219,
   "metadata": {},
   "outputs": [
    {
     "data": {
      "text/plain": [
       "<matplotlib.image.AxesImage at 0x7f0f00503950>"
      ]
     },
     "execution_count": 219,
     "metadata": {},
     "output_type": "execute_result"
    },
    {
     "data": {
      "image/png": "[encoded data removed]",
      "text/plain": [
       "<matplotlib.figure.Figure at 0x7f0f00563510>"
      ]
     },
     "metadata": {},
     "output_type": "display_data"
    }
   ],
   "source": [
    "plt.imshow(imgT)"
   ]
  },
  {
   "cell_type": "code",
   "execution_count": 40,
   "metadata": {
    "collapsed": true
   },
   "outputs": [],
   "source": [
    "training_masks = pathlib.Path('../input/stage1_train').glob('*/masks/*.png')\n",
    "training_masks_sorted = sorted([x for x in training_masks])\n",
    "len(training_masks_sorted)\n",
    "mask_path=training_masks_sorted[1]"
   ]
  },
  {
   "cell_type": "code",
   "execution_count": 41,
   "metadata": {},
   "outputs": [
    {
     "data": {
      "text/plain": [
       "str"
      ]
     },
     "execution_count": 41,
     "metadata": {},
     "output_type": "execute_result"
    }
   ],
   "source": [
    "img = cv2.imread(str(mask_path),0) \n",
    "type(str(mask_path))"
   ]
  },
  {
   "cell_type": "code",
   "execution_count": 247,
   "metadata": {},
   "outputs": [
    {
     "data": {
      "text/plain": [
       "<matplotlib.image.AxesImage at 0x7f0eff3797d0>"
      ]
     },
     "execution_count": 247,
     "metadata": {},
     "output_type": "execute_result"
    },
    {
     "data": {
      "image/png": "[encoded data removed]",
      "text/plain": [
       "<matplotlib.figure.Figure at 0x7f0efeb02cd0>"
      ]
     },
     "metadata": {},
     "output_type": "display_data"
    }
   ],
   "source": [
    "plt.imshow(img)"
   ]
  },
  {
   "cell_type": "code",
   "execution_count": 248,
   "metadata": {},
   "outputs": [
    {
     "data": {
      "text/plain": [
       "array([  0,   0,   0,   0,   0,   0,   0,   0,   0,   0,   0,   0,   0,\n",
       "         0,   0,   0,   0,   0,   0,   0,   0,   0,   0,   0,   0,   0,\n",
       "         0, 255, 255, 255, 255, 255, 255, 255, 255, 255, 255, 255, 255,\n",
       "       255, 255,   0,   0,   0,   0,   0,   0,   0,   0,   0,   0,   0,\n",
       "         0,   0,   0,   0,   0,   0,   0,   0,   0,   0,   0,   0,   0,\n",
       "         0,   0,   0,   0,   0,   0,   0,   0,   0,   0,   0,   0,   0,\n",
       "         0,   0,   0,   0,   0,   0,   0,   0,   0,   0,   0,   0,   0,\n",
       "         0,   0,   0,   0,   0,   0,   0,   0,   0,   0,   0,   0,   0,\n",
       "         0,   0,   0,   0,   0,   0,   0,   0,   0,   0,   0,   0,   0,\n",
       "         0,   0,   0,   0,   0,   0,   0,   0,   0,   0,   0,   0,   0,\n",
       "         0,   0,   0,   0,   0,   0,   0,   0,   0,   0,   0,   0,   0,\n",
       "         0,   0,   0,   0,   0,   0,   0,   0,   0,   0,   0,   0,   0,\n",
       "         0,   0,   0,   0,   0,   0,   0,   0,   0,   0,   0,   0,   0,\n",
       "         0,   0,   0,   0,   0,   0,   0,   0,   0,   0,   0,   0,   0,\n",
       "         0,   0,   0,   0,   0,   0,   0,   0,   0,   0,   0,   0,   0,\n",
       "         0,   0,   0,   0,   0,   0,   0,   0,   0,   0,   0,   0,   0,\n",
       "         0,   0,   0,   0,   0,   0,   0,   0,   0,   0,   0,   0,   0,\n",
       "         0,   0,   0,   0,   0,   0,   0,   0,   0,   0,   0,   0,   0,\n",
       "         0,   0,   0,   0,   0,   0,   0,   0,   0,   0,   0,   0,   0,\n",
       "         0,   0,   0,   0,   0,   0,   0,   0,   0], dtype=uint8)"
      ]
     },
     "execution_count": 248,
     "metadata": {},
     "output_type": "execute_result"
    }
   ],
   "source": [
    "img[252]"
   ]
  },
  {
   "cell_type": "code",
   "execution_count": 81,
   "metadata": {},
   "outputs": [],
   "source": [
    "def zero_count(x):\n",
    "    k=0\n",
    "    for i in range(x.shape[0]):\n",
    "        for j in range(x.shape[1]):\n",
    "            if x[i][j]==0:\n",
    "                k+=1\n",
    "    return k\n",
    "\n",
    "def one_count(x):\n",
    "    k=0\n",
    "    for i in range(x.shape[0]):\n",
    "        for j in range(x.shape[1]):\n",
    "            if x[i][j]==255:\n",
    "                k+=1\n",
    "    return k"
   ]
  },
  {
   "cell_type": "code",
   "execution_count": 250,
   "metadata": {},
   "outputs": [
    {
     "name": "stdout",
     "output_type": "stream",
     "text": [
      "65424\n",
      "112\n",
      "65536\n",
      "65536\n"
     ]
    }
   ],
   "source": [
    "print(zero_count(img))\n",
    "print(one_count(img))\n",
    "print(zero_count(img)+one_count(img))\n",
    "print(img.shape[0]*img.shape[1])"
   ]
  },
  {
   "cell_type": "code",
   "execution_count": 55,
   "metadata": {},
   "outputs": [],
   "source": [
    "image_1 = ''.join([\"../input/stage1_train/\"\n",
    "                  \"0a7d30b252359a10fd298b638b90cb9ada3acced4e0c0e5a3692013f432ee4e9/\"\n",
    "                  \"images/0a7d30b252359a10fd298b638b90cb9ada3acced4e0c0e5a3692013f432ee4e9.png\"])"
   ]
  },
  {
   "cell_type": "code",
   "execution_count": 59,
   "metadata": {},
   "outputs": [],
   "source": [
    "img=cv2.imread(image_1,0)"
   ]
  },
  {
   "cell_type": "code",
   "execution_count": 57,
   "metadata": {},
   "outputs": [
    {
     "data": {
      "text/plain": [
       "'../input/stage1_train/0a7d30b252359a10fd298b638b90cb9ada3acced4e0c0e5a3692013f432ee4e9/images/0a7d30b252359a10fd298b638b90cb9ada3acced4e0c0e5a3692013f432ee4e9.png'"
      ]
     },
     "execution_count": 57,
     "metadata": {},
     "output_type": "execute_result"
    }
   ],
   "source": [
    "image_1"
   ]
  },
  {
   "cell_type": "code",
   "execution_count": 91,
   "metadata": {},
   "outputs": [
    {
     "data": {
      "text/plain": [
       "<matplotlib.image.AxesImage at 0x7fec526a3d90>"
      ]
     },
     "execution_count": 91,
     "metadata": {},
     "output_type": "execute_result"
    },
    {
     "data": {
      "image/png": "[encoded data removed]",
      "text/plain": [
       "<matplotlib.figure.Figure at 0x7fec551ae7d0>"
      ]
     },
     "metadata": {},
     "output_type": "display_data"
    }
   ],
   "source": [
    "plt.imshow(img)"
   ]
  },
  {
   "cell_type": "code",
   "execution_count": 70,
   "metadata": {},
   "outputs": [
    {
     "data": {
      "text/plain": [
       "'../input/stage1_train/0a7d30b252359a10fd298b638b90cb9ada3acced4e0c0e5a3692013f432ee4e9/masks/*.png'"
      ]
     },
     "execution_count": 70,
     "metadata": {},
     "output_type": "execute_result"
    }
   ],
   "source": [
    "masks_1 = ''.join([\"../input/stage1_train/\", \n",
    "                   \"0a7d30b252359a10fd298b638b90cb9ada3acced4e0c0e5a3692013f432ee4e9/masks\"])\n",
    "path_masks_1=''.join([masks_1,\"/*.png\"])\n",
    "path_masks_1"
   ]
  },
  {
   "cell_type": "code",
   "execution_count": 100,
   "metadata": {
    "collapsed": true
   },
   "outputs": [],
   "source": [
    "\n",
    "\n",
    "import glob\n",
    "\n",
    "\n",
    "\n",
    "images = [cv2.imread(file,0) for file in glob.glob(path_masks_1)]\n",
    "\n"
   ]
  },
  {
   "cell_type": "code",
   "execution_count": 89,
   "metadata": {},
   "outputs": [
    {
     "name": "stdout",
     "output_type": "stream",
     "text": [
      "65278\n",
      "270\n",
      "65536\n"
     ]
    }
   ],
   "source": [
    "print(zero_count(images[0]))\n",
    "print(one_count(images[1]))\n",
    "print(images[0].shape[0]*images[0].shape[1])"
   ]
  },
  {
   "cell_type": "code",
   "execution_count": 92,
   "metadata": {},
   "outputs": [
    {
     "data": {
      "text/plain": [
       "<matplotlib.image.AxesImage at 0x7fec525dea90>"
      ]
     },
     "execution_count": 92,
     "metadata": {},
     "output_type": "execute_result"
    },
    {
     "data": {
      "image/png": "[encoded data removed]",
      "text/plain": [
       "<matplotlib.figure.Figure at 0x7fec526d8850>"
      ]
     },
     "metadata": {},
     "output_type": "display_data"
    }
   ],
   "source": [
    "plt.imshow(images[1])"
   ]
  },
  {
   "cell_type": "code",
   "execution_count": 93,
   "metadata": {
    "collapsed": true
   },
   "outputs": [],
   "source": [
    "images=np.where(images>0,1,0)"
   ]
  },
  {
   "cell_type": "code",
   "execution_count": 94,
   "metadata": {
    "collapsed": true
   },
   "outputs": [],
   "source": [
    "imgT_mean=np.where(img>np.mean(img),1,0)\n",
    "#imgT_otsu=np.where(img>threshold_otsu(img),1,0)"
   ]
  },
  {
   "cell_type": "code",
   "execution_count": 97,
   "metadata": {},
   "outputs": [
    {
     "data": {
      "text/plain": [
       "<matplotlib.image.AxesImage at 0x7fec52526cd0>"
      ]
     },
     "execution_count": 97,
     "metadata": {},
     "output_type": "execute_result"
    },
    {
     "data": {
      "image/png": "[encoded data removed]",
      "text/plain": [
       "<matplotlib.figure.Figure at 0x7fec5261df90>"
      ]
     },
     "metadata": {},
     "output_type": "display_data"
    }
   ],
   "source": [
    "plt.imshow(imgT_mean)"
   ]
  },
  {
   "cell_type": "code",
   "execution_count": 98,
   "metadata": {},
   "outputs": [
    {
     "data": {
      "text/plain": [
       "array([[0, 0, 0, ..., 1, 1, 1],\n",
       "       [0, 0, 0, ..., 1, 1, 1],\n",
       "       [0, 0, 0, ..., 1, 1, 1],\n",
       "       ..., \n",
       "       [0, 0, 0, ..., 0, 0, 0],\n",
       "       [0, 0, 0, ..., 0, 0, 0],\n",
       "       [0, 0, 0, ..., 0, 0, 0]])"
      ]
     },
     "execution_count": 98,
     "metadata": {},
     "output_type": "execute_result"
    }
   ],
   "source": [
    "imgT_mean"
   ]
  },
  {
   "cell_type": "code",
   "execution_count": 102,
   "metadata": {},
   "outputs": [
    {
     "data": {
      "text/plain": [
       "array([[0, 0, 0, ..., 0, 0, 0],\n",
       "       [0, 0, 0, ..., 0, 0, 0],\n",
       "       [0, 0, 0, ..., 0, 0, 0],\n",
       "       ..., \n",
       "       [0, 0, 0, ..., 0, 0, 0],\n",
       "       [0, 0, 0, ..., 0, 0, 0],\n",
       "       [0, 0, 0, ..., 0, 0, 0]], dtype=uint8)"
      ]
     },
     "execution_count": 102,
     "metadata": {},
     "output_type": "execute_result"
    }
   ],
   "source": [
    "images[0]"
   ]
  },
  {
   "cell_type": "code",
   "execution_count": null,
   "metadata": {
    "collapsed": true
   },
   "outputs": [],
   "source": []
  }
 ],
 "metadata": {
  "kernelspec": {
   "display_name": "Python 2",
   "language": "python",
   "name": "python2"
  },
  "language_info": {
   "codemirror_mode": {
    "name": "ipython",
    "version": 2
   },
   "file_extension": ".py",
   "mimetype": "text/x-python",
   "name": "python",
   "nbconvert_exporter": "python",
   "pygments_lexer": "ipython2",
   "version": "2.7.12"
  }
 },
 "nbformat": 4,
 "nbformat_minor": 2
}
