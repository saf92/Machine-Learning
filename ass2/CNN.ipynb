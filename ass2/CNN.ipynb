{
 "cells": [
  {
   "cell_type": "code",
   "execution_count": 2,
   "metadata": {
    "collapsed": true
   },
   "outputs": [],
   "source": [
    "import numpy as np # linear algebra\n",
    "import pandas as pd # data processing, CSV file I/O (e.g. pd.read_csv)\n",
    "from glob import glob\n",
    "import os\n",
    "from skimage.io import imread\n",
    "import matplotlib.pyplot as plt\n",
    "import seaborn as sns\n",
    "%matplotlib inline\n",
    "dsb_data_dir = os.path.join('..', 'input')\n",
    "stage_label = 'stage1'"
   ]
  },
  {
   "cell_type": "code",
   "execution_count": 3,
   "metadata": {
    "collapsed": true
   },
   "outputs": [],
   "source": [
    "train_labels = pd.read_csv(os.path.join(dsb_data_dir,'{}_train_labels.csv'.format(stage_label)))"
   ]
  },
  {
   "cell_type": "code",
   "execution_count": 4,
   "metadata": {
    "collapsed": true
   },
   "outputs": [],
   "source": [
    "train_labels['EncodedPixels'] = train_labels['EncodedPixels'].map(lambda ep: [int(x) for x in ep.split(' ')])"
   ]
  },
  {
   "cell_type": "code",
   "execution_count": 5,
   "metadata": {},
   "outputs": [
    {
     "data": {
      "text/html": [
       "<div>\n",
       "<table border=\"1\" class=\"dataframe\">\n",
       "  <thead>\n",
       "    <tr style=\"text-align: right;\">\n",
       "      <th></th>\n",
       "      <th>path</th>\n",
       "      <th>ImageId</th>\n",
       "      <th>ImageType</th>\n",
       "      <th>TrainingSplit</th>\n",
       "      <th>Stage</th>\n",
       "    </tr>\n",
       "  </thead>\n",
       "  <tbody>\n",
       "    <tr>\n",
       "      <th>14050</th>\n",
       "      <td>../input/stage1_train/b1eb0123fe2d8c825694b193...</td>\n",
       "      <td>b1eb0123fe2d8c825694b193efb7b923d95effac9558ee...</td>\n",
       "      <td>masks</td>\n",
       "      <td>train</td>\n",
       "      <td>stage1</td>\n",
       "    </tr>\n",
       "    <tr>\n",
       "      <th>12034</th>\n",
       "      <td>../input/stage1_train/cb4df20a83b2f38b394c67f1...</td>\n",
       "      <td>cb4df20a83b2f38b394c67f1d9d4aef29f9794d5345da3...</td>\n",
       "      <td>masks</td>\n",
       "      <td>train</td>\n",
       "      <td>stage1</td>\n",
       "    </tr>\n",
       "  </tbody>\n",
       "</table>\n",
       "</div>"
      ],
      "text/plain": [
       "                                                    path  \\\n",
       "14050  ../input/stage1_train/b1eb0123fe2d8c825694b193...   \n",
       "12034  ../input/stage1_train/cb4df20a83b2f38b394c67f1...   \n",
       "\n",
       "                                                 ImageId ImageType  \\\n",
       "14050  b1eb0123fe2d8c825694b193efb7b923d95effac9558ee...     masks   \n",
       "12034  cb4df20a83b2f38b394c67f1d9d4aef29f9794d5345da3...     masks   \n",
       "\n",
       "      TrainingSplit   Stage  \n",
       "14050         train  stage1  \n",
       "12034         train  stage1  "
      ]
     },
     "execution_count": 5,
     "metadata": {},
     "output_type": "execute_result"
    }
   ],
   "source": [
    "all_images = glob(os.path.join(dsb_data_dir, 'stage1_*', '*', '*', '*'))\n",
    "img_df = pd.DataFrame({'path': all_images})\n",
    "img_id = lambda in_path: in_path.split('/')[-3]\n",
    "img_type = lambda in_path: in_path.split('/')[-2]\n",
    "img_group = lambda in_path: in_path.split('/')[-4].split('_')[1]\n",
    "img_stage = lambda in_path: in_path.split('/')[-4].split('_')[0]\n",
    "img_df['ImageId'] = img_df['path'].map(img_id)\n",
    "img_df['ImageType'] = img_df['path'].map(img_type)\n",
    "img_df['TrainingSplit'] = img_df['path'].map(img_group)\n",
    "img_df['Stage'] = img_df['path'].map(img_stage)\n",
    "img_df.sample(2)"
   ]
  },
  {
   "cell_type": "code",
   "execution_count": 6,
   "metadata": {},
   "outputs": [
    {
     "name": "stdout",
     "output_type": "stream",
     "text": [
      "CPU times: user 28.9 s, sys: 1.78 s, total: 30.6 s\n",
      "Wall time: 34.5 s\n"
     ]
    }
   ],
   "source": [
    "%%time\n",
    "train_df = img_df.query('TrainingSplit==\"train\"')\n",
    "train_rows = []\n",
    "group_cols = ['Stage', 'ImageId']\n",
    "for n_group, n_rows in train_df.groupby(group_cols):\n",
    "    c_row = {col_name: col_value for col_name, col_value in zip(group_cols, n_group)}\n",
    "    c_row['masks'] = n_rows.query('ImageType == \"masks\"')['path'].values.tolist()\n",
    "    c_row['images'] = n_rows.query('ImageType == \"images\"')['path'].values.tolist()\n",
    "    train_rows += [c_row]\n",
    "train_img_df = pd.DataFrame(train_rows)    \n",
    "IMG_CHANNELS = 3\n",
    "def read_and_stack(in_img_list):\n",
    "    return np.sum(np.stack([imread(c_img) for c_img in in_img_list], 0), 0)/255.0\n",
    "train_img_df['images'] = train_img_df['images'].map(read_and_stack).map(lambda x: x[:,:,:IMG_CHANNELS])\n",
    "train_img_df['masks'] = train_img_df['masks'].map(read_and_stack).map(lambda x: x.astype(int))"
   ]
  },
  {
   "cell_type": "code",
   "execution_count": 7,
   "metadata": {},
   "outputs": [
    {
     "data": {
      "text/html": [
       "<div>\n",
       "<table border=\"1\" class=\"dataframe\">\n",
       "  <thead>\n",
       "    <tr style=\"text-align: right;\">\n",
       "      <th></th>\n",
       "      <th>ImageId</th>\n",
       "      <th>Stage</th>\n",
       "      <th>images</th>\n",
       "      <th>masks</th>\n",
       "    </tr>\n",
       "  </thead>\n",
       "  <tbody>\n",
       "    <tr>\n",
       "      <th>18</th>\n",
       "      <td>072ff14c1d3245bf49ad6f1d4c71cdb18f1cb78a8e06fd...</td>\n",
       "      <td>stage1</td>\n",
       "      <td>[[[0.0117647058824, 0.0117647058824, 0.0117647...</td>\n",
       "      <td>[[0, 0, 0, 0, 0, 0, 0, 0, 0, 0, 0, 0, 0, 0, 0,...</td>\n",
       "    </tr>\n",
       "  </tbody>\n",
       "</table>\n",
       "</div>"
      ],
      "text/plain": [
       "                                              ImageId   Stage  \\\n",
       "18  072ff14c1d3245bf49ad6f1d4c71cdb18f1cb78a8e06fd...  stage1   \n",
       "\n",
       "                                               images  \\\n",
       "18  [[[0.0117647058824, 0.0117647058824, 0.0117647...   \n",
       "\n",
       "                                                masks  \n",
       "18  [[0, 0, 0, 0, 0, 0, 0, 0, 0, 0, 0, 0, 0, 0, 0,...  "
      ]
     },
     "execution_count": 7,
     "metadata": {},
     "output_type": "execute_result"
    }
   ],
   "source": [
    "train_img_df.sample(1)"
   ]
  },
  {
   "cell_type": "code",
   "execution_count": 11,
   "metadata": {},
   "outputs": [
    {
     "data": {
      "text/plain": [
       "(256, 256, 3)"
      ]
     },
     "execution_count": 11,
     "metadata": {},
     "output_type": "execute_result"
    }
   ],
   "source": [
    "np.shape(train_img_df['images'][0])"
   ]
  },
  {
   "cell_type": "code",
   "execution_count": 66,
   "metadata": {},
   "outputs": [
    {
     "data": {
      "text/plain": [
       "array([[[ 0.01960784,  0.01960784,  0.01960784],\n",
       "        [ 0.01960784,  0.01960784,  0.01960784],\n",
       "        [ 0.01960784,  0.01960784,  0.01960784],\n",
       "        ..., \n",
       "        [ 0.01568627,  0.01568627,  0.01568627],\n",
       "        [ 0.01176471,  0.01176471,  0.01176471],\n",
       "        [ 0.01176471,  0.01176471,  0.01176471]],\n",
       "\n",
       "       [[ 0.02352941,  0.02352941,  0.02352941],\n",
       "        [ 0.01960784,  0.01960784,  0.01960784],\n",
       "        [ 0.01960784,  0.01960784,  0.01960784],\n",
       "        ..., \n",
       "        [ 0.01568627,  0.01568627,  0.01568627],\n",
       "        [ 0.01568627,  0.01568627,  0.01568627],\n",
       "        [ 0.01176471,  0.01176471,  0.01176471]],\n",
       "\n",
       "       [[ 0.02352941,  0.02352941,  0.02352941],\n",
       "        [ 0.01960784,  0.01960784,  0.01960784],\n",
       "        [ 0.01960784,  0.01960784,  0.01960784],\n",
       "        ..., \n",
       "        [ 0.01960784,  0.01960784,  0.01960784],\n",
       "        [ 0.01568627,  0.01568627,  0.01568627],\n",
       "        [ 0.01176471,  0.01176471,  0.01176471]],\n",
       "\n",
       "       ..., \n",
       "       [[ 0.01176471,  0.01176471,  0.01176471],\n",
       "        [ 0.01176471,  0.01176471,  0.01176471],\n",
       "        [ 0.01176471,  0.01176471,  0.01176471],\n",
       "        ..., \n",
       "        [ 0.00784314,  0.00784314,  0.00784314],\n",
       "        [ 0.00784314,  0.00784314,  0.00784314],\n",
       "        [ 0.01176471,  0.01176471,  0.01176471]],\n",
       "\n",
       "       [[ 0.01176471,  0.01176471,  0.01176471],\n",
       "        [ 0.01176471,  0.01176471,  0.01176471],\n",
       "        [ 0.01176471,  0.01176471,  0.01176471],\n",
       "        ..., \n",
       "        [ 0.00784314,  0.00784314,  0.00784314],\n",
       "        [ 0.00784314,  0.00784314,  0.00784314],\n",
       "        [ 0.00784314,  0.00784314,  0.00784314]],\n",
       "\n",
       "       [[ 0.01176471,  0.01176471,  0.01176471],\n",
       "        [ 0.00784314,  0.00784314,  0.00784314],\n",
       "        [ 0.01176471,  0.01176471,  0.01176471],\n",
       "        ..., \n",
       "        [ 0.00784314,  0.00784314,  0.00784314],\n",
       "        [ 0.00784314,  0.00784314,  0.00784314],\n",
       "        [ 0.00784314,  0.00784314,  0.00784314]]])"
      ]
     },
     "execution_count": 66,
     "metadata": {},
     "output_type": "execute_result"
    }
   ],
   "source": [
    "X=train_img_df['images']\n",
    "Y=train_img_df['masks']\n",
    "a=X.as_matrix()\n",
    "X[0]"
   ]
  },
  {
   "cell_type": "code",
   "execution_count": 80,
   "metadata": {
    "collapsed": true
   },
   "outputs": [],
   "source": [
    "from skimage.transform import resize\n",
    "\n",
    "l=X.shape[0]\n",
    "images=[None]*l\n",
    "masks=[None]*l\n",
    "for i in range(l):\n",
    "    images[i]=resize(X[i],(256, 256,3), mode='constant', preserve_range=True)\n",
    "    masks[i]=resize(Y[i],(256, 256,1), mode='constant', preserve_range=True)\n",
    "    masks[i]=masks[i].astype(int)\n",
    "    \n",
    "images=np.asarray(images)\n",
    "masks=np.asarray(masks)\n",
    "\n",
    "# images=np.concatenate(images,axis=0)\n",
    "# masks=np.concatenate(masks,axis=0)"
   ]
  },
  {
   "cell_type": "code",
   "execution_count": 128,
   "metadata": {},
   "outputs": [
    {
     "data": {
      "text/plain": [
       "(670, 256, 256, 1)"
      ]
     },
     "execution_count": 128,
     "metadata": {},
     "output_type": "execute_result"
    }
   ],
   "source": [
    "images[0].shape\n",
    "masks.shape"
   ]
  },
  {
   "cell_type": "code",
   "execution_count": 15,
   "metadata": {
    "collapsed": true
   },
   "outputs": [],
   "source": [
    "from keras.models import Sequential\n",
    "from keras.layers import Dense, Dropout, Activation, Flatten\n",
    "from keras.layers import Convolution2D, MaxPooling2D\n",
    "from keras.utils import np_utils"
   ]
  },
  {
   "cell_type": "code",
   "execution_count": 82,
   "metadata": {},
   "outputs": [
    {
     "name": "stdout",
     "output_type": "stream",
     "text": [
      "_________________________________________________________________\n",
      "Layer (type)                 Output Shape              Param #   \n",
      "=================================================================\n",
      "NormalizeInput (BatchNormali (None, 256, 256, 3)       12        \n",
      "_________________________________________________________________\n",
      "conv2d_42 (Conv2D)           (None, 256, 256, 8)       224       \n",
      "_________________________________________________________________\n",
      "conv2d_43 (Conv2D)           (None, 256, 256, 8)       584       \n",
      "_________________________________________________________________\n",
      "conv2d_44 (Conv2D)           (None, 256, 256, 16)      1168      \n",
      "_________________________________________________________________\n",
      "conv2d_45 (Conv2D)           (None, 256, 256, 16)      2320      \n",
      "_________________________________________________________________\n",
      "conv2d_46 (Conv2D)           (None, 256, 256, 32)      4640      \n",
      "_________________________________________________________________\n",
      "conv2d_47 (Conv2D)           (None, 256, 256, 16)      528       \n",
      "_________________________________________________________________\n",
      "conv2d_48 (Conv2D)           (None, 256, 256, 1)       17        \n",
      "=================================================================\n",
      "Total params: 9,493\n",
      "Trainable params: 9,487\n",
      "Non-trainable params: 6\n",
      "_________________________________________________________________\n"
     ]
    }
   ],
   "source": [
    "\n",
    "\n",
    "from keras.models import Sequential\n",
    "from keras.layers import BatchNormalization, Conv2D, UpSampling2D, Lambda\n",
    "model = Sequential()\n",
    "model.add(BatchNormalization(input_shape = (256, 256, 3), \n",
    "                                  name = 'NormalizeInput'))\n",
    "model.add(Conv2D(8, kernel_size = (3,3), padding = 'same'))\n",
    "model.add(Conv2D(8, kernel_size = (3,3), padding = 'same'))\n",
    "# use dilations to get a slightly larger field of view\n",
    "model.add(Conv2D(16, kernel_size = (3,3), dilation_rate = 2, padding = 'same'))\n",
    "model.add(Conv2D(16, kernel_size = (3,3), dilation_rate = 2, padding = 'same'))\n",
    "model.add(Conv2D(32, kernel_size = (3,3), dilation_rate = 3, padding = 'same'))\n",
    "\n",
    "# the final processing\n",
    "model.add(Conv2D(16, kernel_size = (1,1), padding = 'same'))\n",
    "model.add(Conv2D(1, kernel_size = (1,1), padding = 'same', activation = 'sigmoid'))\n",
    "model.summary()\n",
    "\n"
   ]
  },
  {
   "cell_type": "code",
   "execution_count": 83,
   "metadata": {
    "collapsed": true
   },
   "outputs": [],
   "source": [
    "model.compile(optimizer='rmsprop',\n",
    "              loss='binary_crossentropy',\n",
    "              metrics=['accuracy'])"
   ]
  },
  {
   "cell_type": "code",
   "execution_count": 84,
   "metadata": {},
   "outputs": [
    {
     "name": "stdout",
     "output_type": "stream",
     "text": [
      "Epoch 1/10\n",
      "670/670 [==============================] - 99s - loss: 0.5000 - acc: 0.7840    \n",
      "Epoch 2/10\n",
      "670/670 [==============================] - 94s - loss: 0.3580 - acc: 0.8694    \n",
      "Epoch 3/10\n",
      "670/670 [==============================] - 94s - loss: 0.3393 - acc: 0.8743    \n",
      "Epoch 4/10\n",
      "670/670 [==============================] - 96s - loss: 0.3211 - acc: 0.8831    \n",
      "Epoch 5/10\n",
      "670/670 [==============================] - 94s - loss: 0.2989 - acc: 0.8943    \n",
      "Epoch 6/10\n",
      "670/670 [==============================] - 94s - loss: 0.2798 - acc: 0.9053    \n",
      "Epoch 7/10\n",
      "670/670 [==============================] - 95s - loss: 0.2701 - acc: 0.9097    \n",
      "Epoch 8/10\n",
      "670/670 [==============================] - 95s - loss: 0.2754 - acc: 0.9086    \n",
      "Epoch 9/10\n",
      "670/670 [==============================] - 95s - loss: 0.2656 - acc: 0.9125    \n",
      "Epoch 10/10\n",
      "670/670 [==============================] - 95s - loss: 0.2628 - acc: 0.9143    \n"
     ]
    },
    {
     "data": {
      "text/plain": [
       "<keras.callbacks.History at 0x7fa4976b9310>"
      ]
     },
     "execution_count": 84,
     "metadata": {},
     "output_type": "execute_result"
    }
   ],
   "source": [
    "model.fit(images,masks)"
   ]
  },
  {
   "cell_type": "code",
   "execution_count": 153,
   "metadata": {},
   "outputs": [
    {
     "data": {
      "text/plain": [
       "(256, 256)"
      ]
     },
     "execution_count": 153,
     "metadata": {},
     "output_type": "execute_result"
    }
   ],
   "source": [
    "\n",
    "images[1:2,:,:,:]\n",
    "p=model.predict(images[5:6,:,:,:])\n",
    "p=p[0,:,:,0]\n",
    "p.shape"
   ]
  },
  {
   "cell_type": "code",
   "execution_count": 159,
   "metadata": {},
   "outputs": [
    {
     "data": {
      "text/plain": [
       "(1, 256, 256, 3)"
      ]
     },
     "execution_count": 159,
     "metadata": {},
     "output_type": "execute_result"
    }
   ],
   "source": [
    "images[1:2,:,:,:].shape"
   ]
  },
  {
   "cell_type": "code",
   "execution_count": 123,
   "metadata": {},
   "outputs": [
    {
     "data": {
      "text/plain": [
       "array([[ 0.19329433,  0.16240408,  0.13567562, ...,  0.12285695,\n",
       "         0.13295954,  0.16113703],\n",
       "       [ 0.20411317,  0.16414572,  0.12689263, ...,  0.10215145,\n",
       "         0.11492375,  0.15869655],\n",
       "       [ 0.16907933,  0.12323346,  0.09385417, ...,  0.09563072,\n",
       "         0.11049543,  0.15298377],\n",
       "       ..., \n",
       "       [ 0.19664577,  0.19238484,  0.15427722, ...,  0.10931989,\n",
       "         0.15449119,  0.15264128],\n",
       "       [ 0.16549689,  0.16758621,  0.13912554, ...,  0.1575571 ,\n",
       "         0.21149664,  0.20014483],\n",
       "       [ 0.20203349,  0.21650185,  0.18175137, ...,  0.16097085,\n",
       "         0.20341112,  0.19073872]], dtype=float32)"
      ]
     },
     "execution_count": 123,
     "metadata": {},
     "output_type": "execute_result"
    }
   ],
   "source": [
    "p"
   ]
  },
  {
   "cell_type": "code",
   "execution_count": 154,
   "metadata": {
    "collapsed": true
   },
   "outputs": [],
   "source": [
    "from skimage.filters import threshold_otsu\n",
    "\n",
    "thresh_val = threshold_otsu(p)\n",
    "a = np.where(p > thresh_val, 1, 0)"
   ]
  },
  {
   "cell_type": "code",
   "execution_count": 155,
   "metadata": {
    "collapsed": true
   },
   "outputs": [],
   "source": [
    "b=np.where(p>0.5,1,0)"
   ]
  },
  {
   "cell_type": "code",
   "execution_count": 156,
   "metadata": {},
   "outputs": [
    {
     "data": {
      "text/plain": [
       "<matplotlib.image.AxesImage at 0x7fa45818f350>"
      ]
     },
     "execution_count": 156,
     "metadata": {},
     "output_type": "execute_result"
    },
    {
     "data": {
      "image/png": "[encoded data removed]",
      "text/plain": [
       "<matplotlib.figure.Figure at 0x7fa46c0e4090>"
      ]
     },
     "metadata": {},
     "output_type": "display_data"
    }
   ],
   "source": [
    "plt.imshow(a)"
   ]
  },
  {
   "cell_type": "code",
   "execution_count": 157,
   "metadata": {},
   "outputs": [
    {
     "data": {
      "text/plain": [
       "<matplotlib.image.AxesImage at 0x7fa458131fd0>"
      ]
     },
     "execution_count": 157,
     "metadata": {},
     "output_type": "execute_result"
    },
    {
     "data": {
      "image/png": "[encoded data removed]",
      "text/plain": [
       "<matplotlib.figure.Figure at 0x7fa45819c290>"
      ]
     },
     "metadata": {},
     "output_type": "display_data"
    }
   ],
   "source": [
    "plt.imshow(b)"
   ]
  },
  {
   "cell_type": "code",
   "execution_count": 152,
   "metadata": {},
   "outputs": [
    {
     "data": {
      "text/plain": [
       "<matplotlib.image.AxesImage at 0x7fa4591933d0>"
      ]
     },
     "execution_count": 152,
     "metadata": {},
     "output_type": "execute_result"
    },
    {
     "data": {
      "image/png": "[encoded data removed]",
      "text/plain": [
       "<matplotlib.figure.Figure at 0x7fa459210250>"
      ]
     },
     "metadata": {},
     "output_type": "display_data"
    }
   ],
   "source": [
    "plt.imshow(masks[5,:,:,0])"
   ]
  },
  {
   "cell_type": "code",
   "execution_count": 121,
   "metadata": {},
   "outputs": [
    {
     "data": {
      "text/plain": [
       "array([[[ 0.01960784,  0.01960784,  0.01960784],\n",
       "        [ 0.01960784,  0.01960784,  0.01960784],\n",
       "        [ 0.01960784,  0.01960784,  0.01960784],\n",
       "        ..., \n",
       "        [ 0.01568627,  0.01568627,  0.01568627],\n",
       "        [ 0.01176471,  0.01176471,  0.01176471],\n",
       "        [ 0.01176471,  0.01176471,  0.01176471]],\n",
       "\n",
       "       [[ 0.02352941,  0.02352941,  0.02352941],\n",
       "        [ 0.01960784,  0.01960784,  0.01960784],\n",
       "        [ 0.01960784,  0.01960784,  0.01960784],\n",
       "        ..., \n",
       "        [ 0.01568627,  0.01568627,  0.01568627],\n",
       "        [ 0.01568627,  0.01568627,  0.01568627],\n",
       "        [ 0.01176471,  0.01176471,  0.01176471]],\n",
       "\n",
       "       [[ 0.02352941,  0.02352941,  0.02352941],\n",
       "        [ 0.01960784,  0.01960784,  0.01960784],\n",
       "        [ 0.01960784,  0.01960784,  0.01960784],\n",
       "        ..., \n",
       "        [ 0.01960784,  0.01960784,  0.01960784],\n",
       "        [ 0.01568627,  0.01568627,  0.01568627],\n",
       "        [ 0.01176471,  0.01176471,  0.01176471]],\n",
       "\n",
       "       ..., \n",
       "       [[ 0.01176471,  0.01176471,  0.01176471],\n",
       "        [ 0.01176471,  0.01176471,  0.01176471],\n",
       "        [ 0.01176471,  0.01176471,  0.01176471],\n",
       "        ..., \n",
       "        [ 0.00784314,  0.00784314,  0.00784314],\n",
       "        [ 0.00784314,  0.00784314,  0.00784314],\n",
       "        [ 0.01176471,  0.01176471,  0.01176471]],\n",
       "\n",
       "       [[ 0.01176471,  0.01176471,  0.01176471],\n",
       "        [ 0.01176471,  0.01176471,  0.01176471],\n",
       "        [ 0.01176471,  0.01176471,  0.01176471],\n",
       "        ..., \n",
       "        [ 0.00784314,  0.00784314,  0.00784314],\n",
       "        [ 0.00784314,  0.00784314,  0.00784314],\n",
       "        [ 0.00784314,  0.00784314,  0.00784314]],\n",
       "\n",
       "       [[ 0.01176471,  0.01176471,  0.01176471],\n",
       "        [ 0.00784314,  0.00784314,  0.00784314],\n",
       "        [ 0.01176471,  0.01176471,  0.01176471],\n",
       "        ..., \n",
       "        [ 0.00784314,  0.00784314,  0.00784314],\n",
       "        [ 0.00784314,  0.00784314,  0.00784314],\n",
       "        [ 0.00784314,  0.00784314,  0.00784314]]])"
      ]
     },
     "execution_count": 121,
     "metadata": {},
     "output_type": "execute_result"
    }
   ],
   "source": [
    "images[0]"
   ]
  },
  {
   "cell_type": "code",
   "execution_count": 104,
   "metadata": {},
   "outputs": [
    {
     "data": {
      "text/plain": [
       "numpy.ndarray"
      ]
     },
     "execution_count": 104,
     "metadata": {},
     "output_type": "execute_result"
    }
   ],
   "source": [
    "type(images)"
   ]
  },
  {
   "cell_type": "code",
   "execution_count": 105,
   "metadata": {},
   "outputs": [
    {
     "data": {
      "text/plain": [
       "numpy.ndarray"
      ]
     },
     "execution_count": 105,
     "metadata": {},
     "output_type": "execute_result"
    }
   ],
   "source": [
    "type(images[0])"
   ]
  },
  {
   "cell_type": "code",
   "execution_count": 158,
   "metadata": {
    "collapsed": true
   },
   "outputs": [],
   "source": [
    "def rle_encoding(x):\n",
    "    '''\n",
    "    x: numpy array of shape (height, width), 1 - mask, 0 - background\n",
    "    Returns run length as list\n",
    "    '''\n",
    "    dots = np.where(x.T.flatten()==1)[0] # .T sets Fortran order down-then-right\n",
    "    run_lengths = []\n",
    "    prev = -2\n",
    "    for b in dots:\n",
    "        if (b>prev+1): run_lengths.extend((b+1, 0))\n",
    "        run_lengths[-1] += 1\n",
    "        prev = b\n",
    "    return \" \".join([str(i) for i in run_lengths])"
   ]
  },
  {
   "cell_type": "code",
   "execution_count": 168,
   "metadata": {
    "collapsed": true
   },
   "outputs": [],
   "source": [
    "import cv2\n",
    "import pandas as pd\n",
    "from scipy import ndimage\n",
    "\n",
    "def analyze_image(im_path):\n",
    "    '''\n",
    "    Take an image_path (pathlib.Path object), preprocess and label it, extract the RLE strings \n",
    "    and dump it into a Pandas DataFrame.\n",
    "    '''\n",
    "    # Read in data and convert to grayscale\n",
    "    im_id = im_path.parts[-3]\n",
    "    im = cv2.imread(str(im_path),1)\n",
    "    im=resize(im,(256,256,3))\n",
    "    im=np.array([im])\n",
    "    #im_gray = rgb2gray(im)\n",
    "    \n",
    "    # Mask out background and extract connected objects\n",
    "    \n",
    "    p = model.predict(im)\n",
    "    p=p[0,:,:,0]\n",
    "    \n",
    "    \n",
    "    thresh_val = threshold_otsu(p)\n",
    "    mask = np.where(p > thresh_val, 1, 0)\n",
    "    \n",
    "    if np.sum(mask==0) < np.sum(mask==1):\n",
    "        mask = np.where(mask, 0, 1)    \n",
    "        labels, nlabels = ndimage.label(mask)\n",
    "    labels, nlabels = ndimage.label(mask)\n",
    "    \n",
    "    # Loop through labels and add each to a DataFrame\n",
    "    im_df = pd.DataFrame()\n",
    "    for label_num in range(1, nlabels+1):\n",
    "        label_mask = np.where(labels == label_num, 1, 0)\n",
    "        if label_mask.flatten().sum() > 10:\n",
    "            rle = rle_encoding(label_mask)\n",
    "            s = pd.Series({'ImageId': im_id, 'EncodedPixels': rle})\n",
    "            im_df = im_df.append(s, ignore_index=True)\n",
    "    \n",
    "    return im_df\n",
    "\n",
    "\n",
    "def analyze_list_of_images(im_path_list):\n",
    "    '''\n",
    "    Takes a list of image paths (pathlib.Path objects), analyzes each,\n",
    "    and returns a submission-ready DataFrame.'''\n",
    "    all_df = pd.DataFrame()\n",
    "    for im_path in im_path_list:\n",
    "        im_df = analyze_image(im_path)\n",
    "        all_df = all_df.append(im_df, ignore_index=True)\n",
    "    \n",
    "    return all_df"
   ]
  },
  {
   "cell_type": "code",
   "execution_count": 169,
   "metadata": {},
   "outputs": [
    {
     "name": "stdout",
     "output_type": "stream",
     "text": [
      "10.4269208908\n"
     ]
    }
   ],
   "source": [
    "import pathlib\n",
    "import time\n",
    "t0 = time.time()\n",
    "\n",
    "testing = pathlib.Path('../input/stage1_test/').glob('*/images/*.png')\n",
    "df = analyze_list_of_images(list(testing))\n",
    "df.to_csv('submissionCNN.csv', index=None)\n",
    "\n",
    "t1=time.time()\n",
    "total=t1-t0\n",
    "print(total)"
   ]
  },
  {
   "cell_type": "code",
   "execution_count": 167,
   "metadata": {},
   "outputs": [
    {
     "data": {
      "text/plain": [
       "(1, 256, 256, 3)"
      ]
     },
     "execution_count": 167,
     "metadata": {},
     "output_type": "execute_result"
    }
   ],
   "source": [
    "np.array([images[0]]).shape"
   ]
  },
  {
   "cell_type": "code",
   "execution_count": 171,
   "metadata": {},
   "outputs": [
    {
     "name": "stdout",
     "output_type": "stream",
     "text": [
      "_________________________________________________________________\n",
      "Layer (type)                 Output Shape              Param #   \n",
      "=================================================================\n",
      "NormalizeInput (BatchNormali (None, 256, 256, 3)       12        \n",
      "_________________________________________________________________\n",
      "conv2d_66 (Conv2D)           (None, 256, 256, 8)       224       \n",
      "_________________________________________________________________\n",
      "conv2d_67 (Conv2D)           (None, 256, 256, 8)       584       \n",
      "_________________________________________________________________\n",
      "conv2d_68 (Conv2D)           (None, 256, 256, 16)      1168      \n",
      "_________________________________________________________________\n",
      "conv2d_69 (Conv2D)           (None, 256, 256, 16)      2320      \n",
      "_________________________________________________________________\n",
      "conv2d_70 (Conv2D)           (None, 256, 256, 32)      4640      \n",
      "_________________________________________________________________\n",
      "conv2d_71 (Conv2D)           (None, 256, 256, 32)      9248      \n",
      "_________________________________________________________________\n",
      "conv2d_72 (Conv2D)           (None, 256, 256, 64)      18496     \n",
      "_________________________________________________________________\n",
      "conv2d_73 (Conv2D)           (None, 256, 256, 64)      36928     \n",
      "_________________________________________________________________\n",
      "conv2d_74 (Conv2D)           (None, 256, 256, 128)     73856     \n",
      "_________________________________________________________________\n",
      "conv2d_75 (Conv2D)           (None, 256, 256, 128)     147584    \n",
      "_________________________________________________________________\n",
      "conv2d_76 (Conv2D)           (None, 256, 256, 64)      73792     \n",
      "_________________________________________________________________\n",
      "conv2d_77 (Conv2D)           (None, 256, 256, 64)      36928     \n",
      "_________________________________________________________________\n",
      "conv2d_78 (Conv2D)           (None, 256, 256, 16)      9232      \n",
      "_________________________________________________________________\n",
      "conv2d_79 (Conv2D)           (None, 256, 256, 16)      2320      \n",
      "_________________________________________________________________\n",
      "conv2d_80 (Conv2D)           (None, 256, 256, 8)       1160      \n",
      "_________________________________________________________________\n",
      "conv2d_81 (Conv2D)           (None, 256, 256, 8)       584       \n",
      "_________________________________________________________________\n",
      "conv2d_82 (Conv2D)           (None, 256, 256, 1)       9         \n",
      "=================================================================\n",
      "Total params: 419,085\n",
      "Trainable params: 419,079\n",
      "Non-trainable params: 6\n",
      "_________________________________________________________________\n"
     ]
    }
   ],
   "source": [
    "from keras.models import Sequential\n",
    "from keras.layers import BatchNormalization, Conv2D, UpSampling2D, Lambda\n",
    "model1 = Sequential()\n",
    "model1.add(BatchNormalization(input_shape = (256, 256, 3), \n",
    "                                  name = 'NormalizeInput'))\n",
    "model1.add(Conv2D(8, kernel_size = (3,3), padding = 'same'))\n",
    "model1.add(Conv2D(8, kernel_size = (3,3), padding = 'same'))\n",
    "\n",
    "model1.add(Conv2D(16, kernel_size = (3,3), padding = 'same'))\n",
    "model1.add(Conv2D(16, kernel_size = (3,3), padding = 'same'))\n",
    "\n",
    "model1.add(Conv2D(32, kernel_size = (3,3), padding = 'same'))\n",
    "model1.add(Conv2D(32, kernel_size = (3,3), padding = 'same'))\n",
    "\n",
    "model1.add(Conv2D(64, kernel_size = (3,3), dilation_rate = 3, padding = 'same'))\n",
    "model1.add(Conv2D(64, kernel_size = (3,3), dilation_rate = 3, padding = 'same'))\n",
    "\n",
    "model1.add(Conv2D(128, kernel_size = (3,3), dilation_rate = 3, padding = 'same'))\n",
    "model1.add(Conv2D(128, kernel_size = (3,3), dilation_rate = 3, padding = 'same'))\n",
    "\n",
    "model1.add(Conv2D(64, kernel_size = (3,3), dilation_rate = 3, padding = 'same'))\n",
    "model1.add(Conv2D(64, kernel_size = (3,3), dilation_rate = 3, padding = 'same'))\n",
    "\n",
    "model1.add(Conv2D(16, kernel_size = (3,3), dilation_rate = 3, padding = 'same'))\n",
    "model1.add(Conv2D(16, kernel_size = (3,3), dilation_rate = 3, padding = 'same'))\n",
    "\n",
    "model1.add(Conv2D(8, kernel_size = (3,3), dilation_rate = 3, padding = 'same'))\n",
    "model1.add(Conv2D(8, kernel_size = (3,3), dilation_rate = 3, padding = 'same'))\n",
    "\n",
    "model1.add(Conv2D(1, kernel_size = (1,1), padding = 'same', activation = 'sigmoid'))\n",
    "model1.summary()"
   ]
  },
  {
   "cell_type": "code",
   "execution_count": 173,
   "metadata": {
    "collapsed": true
   },
   "outputs": [],
   "source": [
    "model1.compile(optimizer='rmsprop',\n",
    "              loss='binary_crossentropy',\n",
    "              metrics=['accuracy'])"
   ]
  },
  {
   "cell_type": "code",
   "execution_count": 174,
   "metadata": {},
   "outputs": [
    {
     "name": "stdout",
     "output_type": "stream",
     "text": [
      "Train on 603 samples, validate on 67 samples\n",
      "Epoch 1/5\n",
      "603/603 [==============================] - 1871s - loss: 0.8176 - acc: 0.8049 - val_loss: 0.4011 - val_acc: 0.8220\n",
      "Epoch 2/5\n",
      "603/603 [==============================] - 1892s - loss: 0.4515 - acc: 0.8674 - val_loss: 0.3095 - val_acc: 0.8883\n",
      "Epoch 3/5\n",
      "603/603 [==============================] - 1881s - loss: 0.3850 - acc: 0.8791 - val_loss: 0.3022 - val_acc: 0.8941\n",
      "Epoch 4/5\n",
      "603/603 [==============================] - 1896s - loss: 0.4017 - acc: 0.8862 - val_loss: 0.3488 - val_acc: 0.8965\n",
      "Epoch 5/5\n",
      "603/603 [==============================] - 1871s - loss: 0.3381 - acc: 0.8912 - val_loss: 0.3842 - val_acc: 0.8777\n"
     ]
    },
    {
     "data": {
      "text/plain": [
       "<keras.callbacks.History at 0x7fa4776ddd50>"
      ]
     },
     "execution_count": 174,
     "metadata": {},
     "output_type": "execute_result"
    }
   ],
   "source": [
    "model1.fit(images, masks, validation_split=0.1, batch_size=8, epochs=5)"
   ]
  },
  {
   "cell_type": "code",
   "execution_count": 183,
   "metadata": {},
   "outputs": [
    {
     "data": {
      "text/plain": [
       "(256, 256)"
      ]
     },
     "execution_count": 183,
     "metadata": {},
     "output_type": "execute_result"
    }
   ],
   "source": [
    "images[1:2,:,:,:]\n",
    "p=model1.predict(images[0:1,:,:,:])\n",
    "p=p[0,:,:,0]\n",
    "p.shape"
   ]
  },
  {
   "cell_type": "code",
   "execution_count": 184,
   "metadata": {
    "collapsed": true
   },
   "outputs": [],
   "source": [
    "from skimage.filters import threshold_otsu\n",
    "\n",
    "thresh_val = threshold_otsu(p)\n",
    "a = np.where(p > thresh_val, 1, 0)"
   ]
  },
  {
   "cell_type": "code",
   "execution_count": 185,
   "metadata": {
    "collapsed": true
   },
   "outputs": [],
   "source": [
    "b=np.where(p>0.3,1,0)"
   ]
  },
  {
   "cell_type": "code",
   "execution_count": 186,
   "metadata": {},
   "outputs": [
    {
     "data": {
      "text/plain": [
       "<matplotlib.image.AxesImage at 0x7fa445956fd0>"
      ]
     },
     "execution_count": 186,
     "metadata": {},
     "output_type": "execute_result"
    },
    {
     "data": {
      "image/png": "[encoded data removed]",
      "text/plain": [
       "<matplotlib.figure.Figure at 0x7fa445a3d710>"
      ]
     },
     "metadata": {},
     "output_type": "display_data"
    }
   ],
   "source": [
    "plt.imshow(a)"
   ]
  },
  {
   "cell_type": "code",
   "execution_count": 187,
   "metadata": {},
   "outputs": [
    {
     "data": {
      "text/plain": [
       "<matplotlib.image.AxesImage at 0x7fa445886c90>"
      ]
     },
     "execution_count": 187,
     "metadata": {},
     "output_type": "execute_result"
    },
    {
     "data": {
      "image/png": "[encoded data removed]",
      "text/plain": [
       "<matplotlib.figure.Figure at 0x7fa44597b310>"
      ]
     },
     "metadata": {},
     "output_type": "display_data"
    }
   ],
   "source": [
    "plt.imshow(b)"
   ]
  },
  {
   "cell_type": "code",
   "execution_count": 189,
   "metadata": {},
   "outputs": [
    {
     "data": {
      "text/plain": [
       "<matplotlib.image.AxesImage at 0x7fa445774b10>"
      ]
     },
     "execution_count": 189,
     "metadata": {},
     "output_type": "execute_result"
    },
    {
     "data": {
      "image/png": "[encoded data removed]",
      "text/plain": [
       "<matplotlib.figure.Figure at 0x7fa4457ddcd0>"
      ]
     },
     "metadata": {},
     "output_type": "display_data"
    }
   ],
   "source": [
    "plt.imshow(masks[0,:,:,0])"
   ]
  },
  {
   "cell_type": "code",
   "execution_count": 197,
   "metadata": {
    "collapsed": true
   },
   "outputs": [],
   "source": [
    "def iou_metric(y_true_in, y_pred_in, print_table=False):\n",
    "    labels = label(y_true_in > 0.5)\n",
    "    y_pred = label(y_pred_in > 0.5)\n",
    "    \n",
    "    true_objects = len(np.unique(labels))\n",
    "    pred_objects = len(np.unique(y_pred))\n",
    "\n",
    "    intersection = np.histogram2d(labels.flatten(), y_pred.flatten(), bins=(true_objects, pred_objects))[0]\n",
    "\n",
    "    # Compute areas (needed for finding the union between all objects)\n",
    "    area_true = np.histogram(labels, bins = true_objects)[0]\n",
    "    area_pred = np.histogram(y_pred, bins = pred_objects)[0]\n",
    "    area_true = np.expand_dims(area_true, -1)\n",
    "    area_pred = np.expand_dims(area_pred, 0)\n",
    "\n",
    "    # Compute union\n",
    "    union = area_true + area_pred - intersection\n",
    "\n",
    "    # Exclude background from the analysis\n",
    "    intersection = intersection[1:,1:]\n",
    "    union = union[1:,1:]\n",
    "    union[union == 0] = 1e-9\n",
    "\n",
    "    # Compute the intersection over union\n",
    "    iou = intersection / union\n",
    "\n",
    "    # Precision helper function\n",
    "    def precision_at(threshold, iou):\n",
    "        matches = iou > threshold\n",
    "        true_positives = np.sum(matches, axis=1) == 1   # Correct objects\n",
    "        false_positives = np.sum(matches, axis=0) == 0  # Missed objects\n",
    "        false_negatives = np.sum(matches, axis=1) == 0  # Extra objects\n",
    "        tp, fp, fn = np.sum(true_positives), np.sum(false_positives), np.sum(false_negatives)\n",
    "        return tp, fp, fn\n",
    "\n",
    "    # Loop over IoU thresholds\n",
    "    prec = []\n",
    "    if print_table:\n",
    "        print(\"Thresh\\tTP\\tFP\\tFN\\tPrec.\")\n",
    "    for t in np.arange(0.5, 1.0, 0.05):\n",
    "        tp, fp, fn = precision_at(t, iou)\n",
    "        if (tp + fp + fn) > 0:\n",
    "            p = tp / (tp + fp + fn)\n",
    "        else:\n",
    "            p = 0\n",
    "        if print_table:\n",
    "            print(\"{:1.3f}\\t{}\\t{}\\t{}\\t{:1.3f}\".format(t, tp, fp, fn, p))\n",
    "        prec.append(p)\n",
    "    \n",
    "    if print_table:\n",
    "        print(\"AP\\t-\\t-\\t-\\t{:1.3f}\".format(np.mean(prec)))\n",
    "    return np.mean(prec)\n",
    "\n",
    "def iou_metric_batch(y_true_in, y_pred_in):\n",
    "    batch_size = y_true_in.shape[0]\n",
    "    metric = []\n",
    "    for batch in range(batch_size):\n",
    "        value = iou_metric(y_true_in[batch], y_pred_in[batch])\n",
    "        metric.append(value)\n",
    "    return np.array(np.mean(metric), dtype=np.float32)\n",
    "\n",
    "def my_iou_metric(label, pred):\n",
    "    metric_value = tf.py_func(iou_metric_batch, [label, pred], tf.float32)\n",
    "    return metric_value"
   ]
  },
  {
   "cell_type": "code",
   "execution_count": 190,
   "metadata": {
    "collapsed": true
   },
   "outputs": [],
   "source": [
    "def mean_iou(y_true, y_pred):\n",
    "    prec = []\n",
    "    for t in np.arange(0.5, 1.0, 0.05):\n",
    "        y_pred_ = tf.to_int32(y_pred > t)\n",
    "        score, up_opt = tf.metrics.mean_iou(y_true, y_pred_, 2)\n",
    "        K.get_session().run(tf.local_variables_initializer())\n",
    "        with tf.control_dependencies([up_opt]):\n",
    "            score = tf.identity(score)\n",
    "        prec.append(score)\n",
    "    return K.mean(K.stack(prec), axis=0)"
   ]
  },
  {
   "cell_type": "code",
   "execution_count": 201,
   "metadata": {},
   "outputs": [
    {
     "name": "stdout",
     "output_type": "stream",
     "text": [
      "____________________________________________________________________________________________________\n",
      "Layer (type)                     Output Shape          Param #     Connected to                     \n",
      "====================================================================================================\n",
      "input_1 (InputLayer)             (None, 256, 256, 3)   0                                            \n",
      "____________________________________________________________________________________________________\n",
      "lambda_1 (Lambda)                (None, 256, 256, 3)   0           input_1[0][0]                    \n",
      "____________________________________________________________________________________________________\n",
      "conv2d_1 (Conv2D)                (None, 256, 256, 8)   224         lambda_1[0][0]                   \n",
      "____________________________________________________________________________________________________\n",
      "conv2d_2 (Conv2D)                (None, 256, 256, 8)   584         conv2d_1[0][0]                   \n",
      "____________________________________________________________________________________________________\n",
      "max_pooling2d_1 (MaxPooling2D)   (None, 128, 128, 8)   0           conv2d_2[0][0]                   \n",
      "____________________________________________________________________________________________________\n",
      "conv2d_3 (Conv2D)                (None, 128, 128, 16)  1168        max_pooling2d_1[0][0]            \n",
      "____________________________________________________________________________________________________\n",
      "conv2d_4 (Conv2D)                (None, 128, 128, 16)  2320        conv2d_3[0][0]                   \n",
      "____________________________________________________________________________________________________\n",
      "max_pooling2d_2 (MaxPooling2D)   (None, 64, 64, 16)    0           conv2d_4[0][0]                   \n",
      "____________________________________________________________________________________________________\n",
      "conv2d_5 (Conv2D)                (None, 64, 64, 32)    4640        max_pooling2d_2[0][0]            \n",
      "____________________________________________________________________________________________________\n",
      "conv2d_6 (Conv2D)                (None, 64, 64, 32)    9248        conv2d_5[0][0]                   \n",
      "____________________________________________________________________________________________________\n",
      "max_pooling2d_3 (MaxPooling2D)   (None, 32, 32, 32)    0           conv2d_6[0][0]                   \n",
      "____________________________________________________________________________________________________\n",
      "conv2d_7 (Conv2D)                (None, 32, 32, 64)    18496       max_pooling2d_3[0][0]            \n",
      "____________________________________________________________________________________________________\n",
      "conv2d_8 (Conv2D)                (None, 32, 32, 64)    36928       conv2d_7[0][0]                   \n",
      "____________________________________________________________________________________________________\n",
      "max_pooling2d_4 (MaxPooling2D)   (None, 16, 16, 64)    0           conv2d_8[0][0]                   \n",
      "____________________________________________________________________________________________________\n",
      "conv2d_9 (Conv2D)                (None, 16, 16, 128)   73856       max_pooling2d_4[0][0]            \n",
      "____________________________________________________________________________________________________\n",
      "conv2d_10 (Conv2D)               (None, 16, 16, 128)   147584      conv2d_9[0][0]                   \n",
      "____________________________________________________________________________________________________\n",
      "conv2d_transpose_1 (Conv2DTransp (None, 32, 32, 64)    32832       conv2d_10[0][0]                  \n",
      "____________________________________________________________________________________________________\n",
      "concatenate_1 (Concatenate)      (None, 32, 32, 128)   0           conv2d_transpose_1[0][0]         \n",
      "                                                                   conv2d_8[0][0]                   \n",
      "____________________________________________________________________________________________________\n",
      "conv2d_11 (Conv2D)               (None, 32, 32, 64)    73792       concatenate_1[0][0]              \n",
      "____________________________________________________________________________________________________\n",
      "conv2d_12 (Conv2D)               (None, 32, 32, 64)    36928       conv2d_11[0][0]                  \n",
      "____________________________________________________________________________________________________\n",
      "conv2d_transpose_2 (Conv2DTransp (None, 64, 64, 32)    8224        conv2d_12[0][0]                  \n",
      "____________________________________________________________________________________________________\n",
      "concatenate_2 (Concatenate)      (None, 64, 64, 64)    0           conv2d_transpose_2[0][0]         \n",
      "                                                                   conv2d_6[0][0]                   \n",
      "____________________________________________________________________________________________________\n",
      "conv2d_13 (Conv2D)               (None, 64, 64, 32)    18464       concatenate_2[0][0]              \n",
      "____________________________________________________________________________________________________\n",
      "conv2d_14 (Conv2D)               (None, 64, 64, 32)    9248        conv2d_13[0][0]                  \n",
      "____________________________________________________________________________________________________\n",
      "conv2d_transpose_3 (Conv2DTransp (None, 128, 128, 16)  2064        conv2d_14[0][0]                  \n",
      "____________________________________________________________________________________________________\n",
      "concatenate_3 (Concatenate)      (None, 128, 128, 32)  0           conv2d_transpose_3[0][0]         \n",
      "                                                                   conv2d_4[0][0]                   \n",
      "____________________________________________________________________________________________________\n",
      "conv2d_15 (Conv2D)               (None, 128, 128, 16)  4624        concatenate_3[0][0]              \n",
      "____________________________________________________________________________________________________\n",
      "conv2d_16 (Conv2D)               (None, 128, 128, 16)  2320        conv2d_15[0][0]                  \n",
      "____________________________________________________________________________________________________\n",
      "conv2d_transpose_4 (Conv2DTransp (None, 256, 256, 8)   520         conv2d_16[0][0]                  \n",
      "____________________________________________________________________________________________________\n",
      "concatenate_4 (Concatenate)      (None, 256, 256, 16)  0           conv2d_transpose_4[0][0]         \n",
      "                                                                   conv2d_2[0][0]                   \n",
      "____________________________________________________________________________________________________\n",
      "conv2d_17 (Conv2D)               (None, 256, 256, 8)   1160        concatenate_4[0][0]              \n",
      "____________________________________________________________________________________________________\n",
      "conv2d_18 (Conv2D)               (None, 256, 256, 8)   584         conv2d_17[0][0]                  \n",
      "____________________________________________________________________________________________________\n",
      "conv2d_19 (Conv2D)               (None, 256, 256, 1)   9           conv2d_18[0][0]                  \n",
      "====================================================================================================\n",
      "Total params: 485,817\n",
      "Trainable params: 485,817\n",
      "Non-trainable params: 0\n",
      "____________________________________________________________________________________________________\n"
     ]
    }
   ],
   "source": [
    "from tqdm import tqdm\n",
    "from itertools import chain\n",
    "from skimage.io import imread, imshow, imread_collection, concatenate_images\n",
    "from skimage.transform import resize\n",
    "from skimage.morphology import label\n",
    "\n",
    "from keras.models import Model, load_model\n",
    "from keras.layers import Input\n",
    "from keras.layers.core import Lambda\n",
    "from keras.layers.convolutional import Conv2D, Conv2DTranspose\n",
    "from keras.layers.pooling import MaxPooling2D\n",
    "from keras.layers.merge import concatenate\n",
    "from keras.callbacks import EarlyStopping, ModelCheckpoint\n",
    "from keras import backend as K\n",
    "\n",
    "import tensorflow as tf\n",
    "K.clear_session()\n",
    "\n",
    "# Build U-Net model\n",
    "inputs = Input((256, 256, 3))\n",
    "s = Lambda(lambda x: x ) (inputs)\n",
    "\n",
    "c1 = Conv2D(8, (3, 3), activation='relu', padding='same') (s)\n",
    "c1 = Conv2D(8, (3, 3), activation='relu', padding='same') (c1)\n",
    "p1 = MaxPooling2D((2, 2)) (c1)\n",
    "\n",
    "c2 = Conv2D(16, (3, 3), activation='relu', padding='same') (p1)\n",
    "c2 = Conv2D(16, (3, 3), activation='relu', padding='same') (c2)\n",
    "p2 = MaxPooling2D((2, 2)) (c2)\n",
    "\n",
    "c3 = Conv2D(32, (3, 3), activation='relu', padding='same') (p2)\n",
    "c3 = Conv2D(32, (3, 3), activation='relu', padding='same') (c3)\n",
    "p3 = MaxPooling2D((2, 2)) (c3)\n",
    "\n",
    "c4 = Conv2D(64, (3, 3), activation='relu', padding='same') (p3)\n",
    "c4 = Conv2D(64, (3, 3), activation='relu', padding='same') (c4)\n",
    "p4 = MaxPooling2D(pool_size=(2, 2)) (c4)\n",
    "\n",
    "c5 = Conv2D(128, (3, 3), activation='relu', padding='same') (p4)\n",
    "c5 = Conv2D(128, (3, 3), activation='relu', padding='same') (c5)\n",
    "\n",
    "u6 = Conv2DTranspose(64, (2, 2), strides=(2, 2), padding='same') (c5)\n",
    "u6 = concatenate([u6, c4])\n",
    "c6 = Conv2D(64, (3, 3), activation='relu', padding='same') (u6)\n",
    "c6 = Conv2D(64, (3, 3), activation='relu', padding='same') (c6)\n",
    "\n",
    "u7 = Conv2DTranspose(32, (2, 2), strides=(2, 2), padding='same') (c6)\n",
    "u7 = concatenate([u7, c3])\n",
    "c7 = Conv2D(32, (3, 3), activation='relu', padding='same') (u7)\n",
    "c7 = Conv2D(32, (3, 3), activation='relu', padding='same') (c7)\n",
    "\n",
    "u8 = Conv2DTranspose(16, (2, 2), strides=(2, 2), padding='same') (c7)\n",
    "u8 = concatenate([u8, c2])\n",
    "c8 = Conv2D(16, (3, 3), activation='relu', padding='same') (u8)\n",
    "c8 = Conv2D(16, (3, 3), activation='relu', padding='same') (c8)\n",
    "\n",
    "u9 = Conv2DTranspose(8, (2, 2), strides=(2, 2), padding='same') (c8)\n",
    "u9 = concatenate([u9, c1], axis=3)\n",
    "c9 = Conv2D(8, (3, 3), activation='relu', padding='same') (u9)\n",
    "c9 = Conv2D(8, (3, 3), activation='relu', padding='same') (c9)\n",
    "\n",
    "outputs = Conv2D(1, (1, 1), activation='sigmoid') (c9)\n",
    "\n",
    "model = Model(inputs=[inputs], outputs=[outputs])\n",
    "model.compile(optimizer='rmsprop', loss='binary_crossentropy', metrics=[my_iou_metric])\n",
    "model.summary()"
   ]
  },
  {
   "cell_type": "code",
   "execution_count": 202,
   "metadata": {},
   "outputs": [
    {
     "name": "stdout",
     "output_type": "stream",
     "text": [
      "Train on 603 samples, validate on 67 samples\n",
      "Epoch 1/5\n",
      "603/603 [==============================] - 98s - loss: 0.3595 - my_iou_metric: 0.0000e+00 - val_loss: 0.1821 - val_my_iou_metric: 0.0000e+00\n",
      "Epoch 2/5\n",
      "603/603 [==============================] - 98s - loss: 0.2230 - my_iou_metric: 6.6335e-04 - val_loss: 0.2108 - val_my_iou_metric: 0.0269\n",
      "Epoch 3/5\n",
      "603/603 [==============================] - 101s - loss: 0.2200 - my_iou_metric: 0.0192 - val_loss: 0.1653 - val_my_iou_metric: 0.0358\n",
      "Epoch 4/5\n",
      "603/603 [==============================] - 100s - loss: 0.1614 - my_iou_metric: 0.0244 - val_loss: 0.1409 - val_my_iou_metric: 0.0075\n",
      "Epoch 5/5\n",
      "603/603 [==============================] - 106s - loss: 0.1403 - my_iou_metric: 0.0337 - val_loss: 0.1104 - val_my_iou_metric: 0.0403\n"
     ]
    },
    {
     "data": {
      "text/plain": [
       "<keras.callbacks.History at 0x7fa38b201110>"
      ]
     },
     "execution_count": 202,
     "metadata": {},
     "output_type": "execute_result"
    }
   ],
   "source": [
    "model.fit(images, masks, validation_split=0.1, batch_size=8, epochs=5)"
   ]
  },
  {
   "cell_type": "code",
   "execution_count": 209,
   "metadata": {},
   "outputs": [
    {
     "data": {
      "text/plain": [
       "(256, 256)"
      ]
     },
     "execution_count": 209,
     "metadata": {},
     "output_type": "execute_result"
    }
   ],
   "source": [
    "images[1:2,:,:,:]\n",
    "p=model.predict(images[10:11,:,:,:])\n",
    "p=p[0,:,:,0]\n",
    "p.shape"
   ]
  },
  {
   "cell_type": "code",
   "execution_count": 210,
   "metadata": {
    "collapsed": true
   },
   "outputs": [],
   "source": [
    "from skimage.filters import threshold_otsu\n",
    "\n",
    "thresh_val = threshold_otsu(p)\n",
    "a = np.where(p > thresh_val, 1, 0)"
   ]
  },
  {
   "cell_type": "code",
   "execution_count": 211,
   "metadata": {
    "collapsed": true
   },
   "outputs": [],
   "source": [
    "b=np.where(p>0.5,1,0)"
   ]
  },
  {
   "cell_type": "code",
   "execution_count": 212,
   "metadata": {},
   "outputs": [
    {
     "data": {
      "text/plain": [
       "<matplotlib.image.AxesImage at 0x7fa4448e4a10>"
      ]
     },
     "execution_count": 212,
     "metadata": {},
     "output_type": "execute_result"
    },
    {
     "data": {
      "image/png": "[encoded data removed]",
      "text/plain": [
       "<matplotlib.figure.Figure at 0x7fa44482aa50>"
      ]
     },
     "metadata": {},
     "output_type": "display_data"
    }
   ],
   "source": [
    "plt.imshow(a)"
   ]
  },
  {
   "cell_type": "code",
   "execution_count": 213,
   "metadata": {},
   "outputs": [
    {
     "data": {
      "text/plain": [
       "<matplotlib.image.AxesImage at 0x7fa4449fd1d0>"
      ]
     },
     "execution_count": 213,
     "metadata": {},
     "output_type": "execute_result"
    },
    {
     "data": {
      "image/png": "[encoded data removed]",
      "text/plain": [
       "<matplotlib.figure.Figure at 0x7fa44497d510>"
      ]
     },
     "metadata": {},
     "output_type": "display_data"
    }
   ],
   "source": [
    "plt.imshow(b)"
   ]
  },
  {
   "cell_type": "code",
   "execution_count": 215,
   "metadata": {},
   "outputs": [
    {
     "data": {
      "text/plain": [
       "<matplotlib.image.AxesImage at 0x7fa38aff3550>"
      ]
     },
     "execution_count": 215,
     "metadata": {},
     "output_type": "execute_result"
    },
    {
     "data": {
      "image/png": "[encoded data removed]",
      "text/plain": [
       "<matplotlib.figure.Figure at 0x7fa444a1b890>"
      ]
     },
     "metadata": {},
     "output_type": "display_data"
    }
   ],
   "source": [
    "plt.imshow(masks[10,:,:,0])"
   ]
  },
  {
   "cell_type": "code",
   "execution_count": 216,
   "metadata": {
    "collapsed": true
   },
   "outputs": [],
   "source": [
    "import cv2\n",
    "import pandas as pd\n",
    "from scipy import ndimage\n",
    "\n",
    "def analyze_image(im_path):\n",
    "    '''\n",
    "    Take an image_path (pathlib.Path object), preprocess and label it, extract the RLE strings \n",
    "    and dump it into a Pandas DataFrame.\n",
    "    '''\n",
    "    # Read in data and convert to grayscale\n",
    "    im_id = im_path.parts[-3]\n",
    "    im = cv2.imread(str(im_path),1)\n",
    "    im=resize(im,(256,256,3))\n",
    "    im=np.array([im])\n",
    "    #im_gray = rgb2gray(im)\n",
    "    \n",
    "    # Mask out background and extract connected objects\n",
    "    \n",
    "    p = model.predict(im)\n",
    "    p=p[0,:,:,0]\n",
    "    \n",
    "    \n",
    "    thresh_val = threshold_otsu(p)\n",
    "    mask = np.where(p > thresh_val, 1, 0)\n",
    "    \n",
    "    if np.sum(mask==0) < np.sum(mask==1):\n",
    "        mask = np.where(mask, 0, 1)    \n",
    "        labels, nlabels = ndimage.label(mask)\n",
    "    labels, nlabels = ndimage.label(mask)\n",
    "    \n",
    "    # Loop through labels and add each to a DataFrame\n",
    "    im_df = pd.DataFrame()\n",
    "    for label_num in range(1, nlabels+1):\n",
    "        label_mask = np.where(labels == label_num, 1, 0)\n",
    "        if label_mask.flatten().sum() > 10:\n",
    "            rle = rle_encoding(label_mask)\n",
    "            s = pd.Series({'ImageId': im_id, 'EncodedPixels': rle})\n",
    "            im_df = im_df.append(s, ignore_index=True)\n",
    "    \n",
    "    return im_df\n",
    "\n",
    "\n",
    "def analyze_list_of_images(im_path_list):\n",
    "    '''\n",
    "    Takes a list of image paths (pathlib.Path objects), analyzes each,\n",
    "    and returns a submission-ready DataFrame.'''\n",
    "    all_df = pd.DataFrame()\n",
    "    for im_path in im_path_list:\n",
    "        im_df = analyze_image(im_path)\n",
    "        all_df = all_df.append(im_df, ignore_index=True)\n",
    "    \n",
    "    return all_df"
   ]
  },
  {
   "cell_type": "code",
   "execution_count": 217,
   "metadata": {},
   "outputs": [
    {
     "name": "stdout",
     "output_type": "stream",
     "text": [
      "8.56752705574\n"
     ]
    }
   ],
   "source": [
    "import pathlib\n",
    "import time\n",
    "t0 = time.time()\n",
    "\n",
    "testing = pathlib.Path('../input/stage1_test/').glob('*/images/*.png')\n",
    "df = analyze_list_of_images(list(testing))\n",
    "df.to_csv('submissionUnet.csv', index=None)\n",
    "\n",
    "t1=time.time()\n",
    "total=t1-t0\n",
    "print(total)"
   ]
  },
  {
   "cell_type": "code",
   "execution_count": 218,
   "metadata": {},
   "outputs": [
    {
     "name": "stdout",
     "output_type": "stream",
     "text": [
      "Train on 603 samples, validate on 67 samples\n",
      "Epoch 1/10\n",
      "603/603 [==============================] - 96s - loss: 0.1139 - my_iou_metric: 0.0358 - val_loss: 0.1150 - val_my_iou_metric: 0.0701\n",
      "Epoch 2/10\n",
      "603/603 [==============================] - 97s - loss: 0.1060 - my_iou_metric: 0.0464 - val_loss: 0.1333 - val_my_iou_metric: 0.0164\n",
      "Epoch 3/10\n",
      "603/603 [==============================] - 99s - loss: 0.0936 - my_iou_metric: 0.0469 - val_loss: 0.1054 - val_my_iou_metric: 0.0358\n",
      "Epoch 4/10\n",
      "603/603 [==============================] - 98s - loss: 0.0928 - my_iou_metric: 0.0499 - val_loss: 0.1489 - val_my_iou_metric: 0.0104\n",
      "Epoch 5/10\n",
      "603/603 [==============================] - 97s - loss: 0.0868 - my_iou_metric: 0.0516 - val_loss: 0.0783 - val_my_iou_metric: 0.0731\n",
      "Epoch 6/10\n",
      "603/603 [==============================] - 98s - loss: 0.0790 - my_iou_metric: 0.0504 - val_loss: 0.2233 - val_my_iou_metric: 0.0015\n",
      "Epoch 7/10\n",
      "603/603 [==============================] - 98s - loss: 0.0789 - my_iou_metric: 0.0493 - val_loss: 0.2226 - val_my_iou_metric: 0.0015\n",
      "Epoch 8/10\n",
      "603/603 [==============================] - 97s - loss: 0.0785 - my_iou_metric: 0.0531 - val_loss: 0.0883 - val_my_iou_metric: 0.1164\n",
      "Epoch 9/10\n",
      "603/603 [==============================] - 102s - loss: 0.0773 - my_iou_metric: 0.0542 - val_loss: 0.0838 - val_my_iou_metric: 0.0716\n",
      "Epoch 10/10\n",
      "603/603 [==============================] - 101s - loss: 0.0738 - my_iou_metric: 0.0546 - val_loss: 0.1028 - val_my_iou_metric: 0.0672\n"
     ]
    },
    {
     "data": {
      "text/plain": [
       "<keras.callbacks.History at 0x7fa444932490>"
      ]
     },
     "execution_count": 218,
     "metadata": {},
     "output_type": "execute_result"
    }
   ],
   "source": [
    "model.fit(images, masks, validation_split=0.1, batch_size=8, epochs=10)"
   ]
  },
  {
   "cell_type": "code",
   "execution_count": 225,
   "metadata": {},
   "outputs": [
    {
     "data": {
      "text/plain": [
       "(256, 256)"
      ]
     },
     "execution_count": 225,
     "metadata": {},
     "output_type": "execute_result"
    }
   ],
   "source": [
    "images[1:2,:,:,:]\n",
    "p=model.predict(images[100:101,:,:,:])\n",
    "p=p[0,:,:,0]\n",
    "p.shape"
   ]
  },
  {
   "cell_type": "code",
   "execution_count": 226,
   "metadata": {
    "collapsed": true
   },
   "outputs": [],
   "source": [
    "from skimage.filters import threshold_otsu\n",
    "\n",
    "thresh_val = threshold_otsu(p)\n",
    "a = np.where(p > thresh_val, 1, 0)"
   ]
  },
  {
   "cell_type": "code",
   "execution_count": 227,
   "metadata": {
    "collapsed": true
   },
   "outputs": [],
   "source": [
    "b=np.where(p>0.5,1,0)"
   ]
  },
  {
   "cell_type": "code",
   "execution_count": 228,
   "metadata": {},
   "outputs": [
    {
     "data": {
      "text/plain": [
       "<matplotlib.image.AxesImage at 0x7fa38acf1c10>"
      ]
     },
     "execution_count": 228,
     "metadata": {},
     "output_type": "execute_result"
    },
    {
     "data": {
      "image/png": "[encoded data removed]",
      "text/plain": [
       "<matplotlib.figure.Figure at 0x7fa38ad65c90>"
      ]
     },
     "metadata": {},
     "output_type": "display_data"
    }
   ],
   "source": [
    "plt.imshow(a)"
   ]
  },
  {
   "cell_type": "code",
   "execution_count": 229,
   "metadata": {},
   "outputs": [
    {
     "data": {
      "text/plain": [
       "<matplotlib.image.AxesImage at 0x7fa38ac23750>"
      ]
     },
     "execution_count": 229,
     "metadata": {},
     "output_type": "execute_result"
    },
    {
     "data": {
      "image/png": "[encoded data removed]",
      "text/plain": [
       "<matplotlib.figure.Figure at 0x7fa38aca9c10>"
      ]
     },
     "metadata": {},
     "output_type": "display_data"
    }
   ],
   "source": [
    "plt.imshow(b)"
   ]
  },
  {
   "cell_type": "code",
   "execution_count": 231,
   "metadata": {},
   "outputs": [
    {
     "data": {
      "text/plain": [
       "<matplotlib.image.AxesImage at 0x7fa38aa90590>"
      ]
     },
     "execution_count": 231,
     "metadata": {},
     "output_type": "execute_result"
    },
    {
     "data": {
      "image/png": "[encoded data removed]",
      "text/plain": [
       "<matplotlib.figure.Figure at 0x7fa38ab7a890>"
      ]
     },
     "metadata": {},
     "output_type": "display_data"
    }
   ],
   "source": [
    "plt.imshow(masks[100,:,:,0])"
   ]
  },
  {
   "cell_type": "code",
   "execution_count": 232,
   "metadata": {
    "collapsed": true
   },
   "outputs": [],
   "source": [
    "import cv2\n",
    "import pandas as pd\n",
    "from scipy import ndimage\n",
    "\n",
    "def analyze_image(im_path):\n",
    "    '''\n",
    "    Take an image_path (pathlib.Path object), preprocess and label it, extract the RLE strings \n",
    "    and dump it into a Pandas DataFrame.\n",
    "    '''\n",
    "    # Read in data and convert to grayscale\n",
    "    im_id = im_path.parts[-3]\n",
    "    im = cv2.imread(str(im_path),1)\n",
    "    im=resize(im,(256,256,3))\n",
    "    im=np.array([im])\n",
    "    #im_gray = rgb2gray(im)\n",
    "    \n",
    "    # Mask out background and extract connected objects\n",
    "    \n",
    "    p = model.predict(im)\n",
    "    p=p[0,:,:,0]\n",
    "    \n",
    "    \n",
    "    thresh_val = threshold_otsu(p)\n",
    "    mask = np.where(p > thresh_val, 1, 0)\n",
    "    \n",
    "    if np.sum(mask==0) < np.sum(mask==1):\n",
    "        mask = np.where(mask, 0, 1)    \n",
    "        labels, nlabels = ndimage.label(mask)\n",
    "    labels, nlabels = ndimage.label(mask)\n",
    "    \n",
    "    # Loop through labels and add each to a DataFrame\n",
    "    im_df = pd.DataFrame()\n",
    "    for label_num in range(1, nlabels+1):\n",
    "        label_mask = np.where(labels == label_num, 1, 0)\n",
    "        if label_mask.flatten().sum() > 10:\n",
    "            rle = rle_encoding(label_mask)\n",
    "            s = pd.Series({'ImageId': im_id, 'EncodedPixels': rle})\n",
    "            im_df = im_df.append(s, ignore_index=True)\n",
    "    \n",
    "    return im_df\n",
    "\n",
    "\n",
    "def analyze_list_of_images(im_path_list):\n",
    "    '''\n",
    "    Takes a list of image paths (pathlib.Path objects), analyzes each,\n",
    "    and returns a submission-ready DataFrame.'''\n",
    "    all_df = pd.DataFrame()\n",
    "    for im_path in im_path_list:\n",
    "        im_df = analyze_image(im_path)\n",
    "        all_df = all_df.append(im_df, ignore_index=True)\n",
    "    \n",
    "    return all_df"
   ]
  },
  {
   "cell_type": "code",
   "execution_count": 233,
   "metadata": {},
   "outputs": [
    {
     "name": "stdout",
     "output_type": "stream",
     "text": [
      "9.75243377686\n"
     ]
    }
   ],
   "source": [
    "import pathlib\n",
    "import time\n",
    "t0 = time.time()\n",
    "\n",
    "testing = pathlib.Path('../input/stage1_test/').glob('*/images/*.png')\n",
    "df = analyze_list_of_images(list(testing))\n",
    "df.to_csv('submissionUnet1.csv', index=None)\n",
    "\n",
    "t1=time.time()\n",
    "total=t1-t0\n",
    "print(total)"
   ]
  },
  {
   "cell_type": "code",
   "execution_count": 234,
   "metadata": {},
   "outputs": [
    {
     "name": "stdout",
     "output_type": "stream",
     "text": [
      "Train on 603 samples, validate on 67 samples\n",
      "Epoch 1/20\n",
      "603/603 [==============================] - 97s - loss: 0.0717 - my_iou_metric: 0.0574 - val_loss: 0.0703 - val_my_iou_metric: 0.0746\n",
      "Epoch 2/20\n",
      "603/603 [==============================] - 102s - loss: 0.0724 - my_iou_metric: 0.0519 - val_loss: 0.0711 - val_my_iou_metric: 0.0746\n",
      "Epoch 3/20\n",
      "603/603 [==============================] - 117s - loss: 0.0719 - my_iou_metric: 0.0569 - val_loss: 0.0757 - val_my_iou_metric: 0.0806\n",
      "Epoch 4/20\n",
      "603/603 [==============================] - 126s - loss: 0.0689 - my_iou_metric: 0.0642 - val_loss: 0.0673 - val_my_iou_metric: 0.0343\n",
      "Epoch 5/20\n",
      "603/603 [==============================] - 153s - loss: 0.0687 - my_iou_metric: 0.0619 - val_loss: 0.0696 - val_my_iou_metric: 0.0821\n",
      "Epoch 6/20\n",
      "603/603 [==============================] - 156s - loss: 0.0686 - my_iou_metric: 0.0609 - val_loss: 0.0732 - val_my_iou_metric: 0.0657\n",
      "Epoch 7/20\n",
      "603/603 [==============================] - 176s - loss: 0.0677 - my_iou_metric: 0.0572 - val_loss: 0.0707 - val_my_iou_metric: 0.0358\n",
      "Epoch 8/20\n",
      "603/603 [==============================] - 177s - loss: 0.0651 - my_iou_metric: 0.0549 - val_loss: 0.0914 - val_my_iou_metric: 0.0955\n",
      "Epoch 9/20\n",
      "603/603 [==============================] - 179s - loss: 0.0660 - my_iou_metric: 0.0672 - val_loss: 0.0754 - val_my_iou_metric: 0.0478\n",
      "Epoch 10/20\n",
      "603/603 [==============================] - 177s - loss: 0.0657 - my_iou_metric: 0.0534 - val_loss: 0.0663 - val_my_iou_metric: 0.0970\n",
      "Epoch 11/20\n",
      "603/603 [==============================] - 186s - loss: 0.0651 - my_iou_metric: 0.0602 - val_loss: 0.0688 - val_my_iou_metric: 0.0896\n",
      "Epoch 12/20\n",
      "603/603 [==============================] - 199s - loss: 0.0658 - my_iou_metric: 0.0599 - val_loss: 0.0692 - val_my_iou_metric: 0.0731\n",
      "Epoch 13/20\n",
      "603/603 [==============================] - 216s - loss: 0.0634 - my_iou_metric: 0.0600 - val_loss: 0.0645 - val_my_iou_metric: 0.0672\n",
      "Epoch 14/20\n",
      "603/603 [==============================] - 190s - loss: 0.0647 - my_iou_metric: 0.0569 - val_loss: 0.0661 - val_my_iou_metric: 0.0627\n",
      "Epoch 15/20\n",
      "603/603 [==============================] - 197s - loss: 0.0626 - my_iou_metric: 0.0640 - val_loss: 0.0689 - val_my_iou_metric: 0.0657\n",
      "Epoch 16/20\n",
      "603/603 [==============================] - 137s - loss: 0.0609 - my_iou_metric: 0.0620 - val_loss: 0.0649 - val_my_iou_metric: 0.1030\n",
      "Epoch 17/20\n",
      "603/603 [==============================] - 105s - loss: 0.0614 - my_iou_metric: 0.0629 - val_loss: 0.0630 - val_my_iou_metric: 0.0791\n",
      "Epoch 18/20\n",
      "603/603 [==============================] - 103s - loss: 0.0606 - my_iou_metric: 0.0655 - val_loss: 0.0710 - val_my_iou_metric: 0.0985\n",
      "Epoch 19/20\n",
      "603/603 [==============================] - 101s - loss: 0.0601 - my_iou_metric: 0.0620 - val_loss: 0.0805 - val_my_iou_metric: 0.0582\n",
      "Epoch 20/20\n",
      "603/603 [==============================] - 101s - loss: 0.0585 - my_iou_metric: 0.0617 - val_loss: 0.0710 - val_my_iou_metric: 0.0672\n"
     ]
    },
    {
     "data": {
      "text/plain": [
       "<keras.callbacks.History at 0x7fa38aa9e890>"
      ]
     },
     "execution_count": 234,
     "metadata": {},
     "output_type": "execute_result"
    }
   ],
   "source": [
    "model.fit(images, masks, validation_split=0.1, batch_size=8, epochs=20)"
   ]
  },
  {
   "cell_type": "code",
   "execution_count": 247,
   "metadata": {},
   "outputs": [
    {
     "data": {
      "text/plain": [
       "(256, 256)"
      ]
     },
     "execution_count": 247,
     "metadata": {},
     "output_type": "execute_result"
    }
   ],
   "source": [
    "images[1:2,:,:,:]\n",
    "p=model.predict(images[500:501,:,:,:])\n",
    "p=p[0,:,:,0]\n",
    "p.shape"
   ]
  },
  {
   "cell_type": "code",
   "execution_count": 248,
   "metadata": {
    "collapsed": true
   },
   "outputs": [],
   "source": [
    "from skimage.filters import threshold_otsu\n",
    "\n",
    "thresh_val = threshold_otsu(p)\n",
    "a = np.where(p > thresh_val, 1, 0)"
   ]
  },
  {
   "cell_type": "code",
   "execution_count": 249,
   "metadata": {
    "collapsed": true
   },
   "outputs": [],
   "source": [
    "b=np.where(p>0.5,1,0)"
   ]
  },
  {
   "cell_type": "code",
   "execution_count": 250,
   "metadata": {},
   "outputs": [
    {
     "data": {
      "text/plain": [
       "<matplotlib.image.AxesImage at 0x7fa38a592e50>"
      ]
     },
     "execution_count": 250,
     "metadata": {},
     "output_type": "execute_result"
    },
    {
     "data": {
      "image/png": "[encoded data removed]",
      "text/plain": [
       "<matplotlib.figure.Figure at 0x7fa38a61b550>"
      ]
     },
     "metadata": {},
     "output_type": "display_data"
    }
   ],
   "source": [
    "plt.imshow(a)"
   ]
  },
  {
   "cell_type": "code",
   "execution_count": 251,
   "metadata": {},
   "outputs": [
    {
     "data": {
      "text/plain": [
       "<matplotlib.image.AxesImage at 0x7fa38a4c4950>"
      ]
     },
     "execution_count": 251,
     "metadata": {},
     "output_type": "execute_result"
    },
    {
     "data": {
      "image/png": "[encoded data removed]",
      "text/plain": [
       "<matplotlib.figure.Figure at 0x7fa38a5b83d0>"
      ]
     },
     "metadata": {},
     "output_type": "display_data"
    }
   ],
   "source": [
    "plt.imshow(b)"
   ]
  },
  {
   "cell_type": "code",
   "execution_count": 253,
   "metadata": {},
   "outputs": [
    {
     "data": {
      "text/plain": [
       "<matplotlib.image.AxesImage at 0x7fa38a3b47d0>"
      ]
     },
     "execution_count": 253,
     "metadata": {},
     "output_type": "execute_result"
    },
    {
     "data": {
      "image/png": "[encoded data removed]",
      "text/plain": [
       "<matplotlib.figure.Figure at 0x7fa38a41bb50>"
      ]
     },
     "metadata": {},
     "output_type": "display_data"
    }
   ],
   "source": [
    "plt.imshow(masks[500,:,:,0])"
   ]
  },
  {
   "cell_type": "code",
   "execution_count": 254,
   "metadata": {
    "collapsed": true
   },
   "outputs": [],
   "source": [
    "import cv2\n",
    "import pandas as pd\n",
    "from scipy import ndimage\n",
    "\n",
    "def analyze_image(im_path):\n",
    "    '''\n",
    "    Take an image_path (pathlib.Path object), preprocess and label it, extract the RLE strings \n",
    "    and dump it into a Pandas DataFrame.\n",
    "    '''\n",
    "    # Read in data and convert to grayscale\n",
    "    im_id = im_path.parts[-3]\n",
    "    im = cv2.imread(str(im_path),1)\n",
    "    im=resize(im,(256,256,3))\n",
    "    im=np.array([im])\n",
    "    #im_gray = rgb2gray(im)\n",
    "    \n",
    "    # Mask out background and extract connected objects\n",
    "    \n",
    "    p = model.predict(im)\n",
    "    p=p[0,:,:,0]\n",
    "    \n",
    "    \n",
    "    #thresh_val = threshold_otsu(p)\n",
    "    mask = np.where(p > 0.5, 1, 0)\n",
    "    \n",
    "    if np.sum(mask==0) < np.sum(mask==1):\n",
    "        mask = np.where(mask, 0, 1)    \n",
    "        labels, nlabels = ndimage.label(mask)\n",
    "    labels, nlabels = ndimage.label(mask)\n",
    "    \n",
    "    # Loop through labels and add each to a DataFrame\n",
    "    im_df = pd.DataFrame()\n",
    "    for label_num in range(1, nlabels+1):\n",
    "        label_mask = np.where(labels == label_num, 1, 0)\n",
    "        if label_mask.flatten().sum() > 10:\n",
    "            rle = rle_encoding(label_mask)\n",
    "            s = pd.Series({'ImageId': im_id, 'EncodedPixels': rle})\n",
    "            im_df = im_df.append(s, ignore_index=True)\n",
    "    \n",
    "    return im_df\n",
    "\n",
    "\n",
    "def analyze_list_of_images(im_path_list):\n",
    "    '''\n",
    "    Takes a list of image paths (pathlib.Path objects), analyzes each,\n",
    "    and returns a submission-ready DataFrame.'''\n",
    "    all_df = pd.DataFrame()\n",
    "    for im_path in im_path_list:\n",
    "        im_df = analyze_image(im_path)\n",
    "        all_df = all_df.append(im_df, ignore_index=True)\n",
    "    \n",
    "    return all_df"
   ]
  },
  {
   "cell_type": "code",
   "execution_count": 255,
   "metadata": {},
   "outputs": [
    {
     "name": "stdout",
     "output_type": "stream",
     "text": [
      "9.60887002945\n"
     ]
    }
   ],
   "source": [
    "import pathlib\n",
    "import time\n",
    "t0 = time.time()\n",
    "\n",
    "testing = pathlib.Path('../input/stage1_test/').glob('*/images/*.png')\n",
    "df = analyze_list_of_images(list(testing))\n",
    "df.to_csv('submissionUnet2.csv', index=None)\n",
    "\n",
    "t1=time.time()\n",
    "total=t1-t0\n",
    "print(total)"
   ]
  },
  {
   "cell_type": "code",
   "execution_count": 256,
   "metadata": {},
   "outputs": [
    {
     "name": "stdout",
     "output_type": "stream",
     "text": [
      "Train on 603 samples, validate on 67 samples\n",
      "Epoch 1/20\n",
      "603/603 [==============================] - 96s - loss: 0.0583 - my_iou_metric: 0.0567 - val_loss: 0.0697 - val_my_iou_metric: 0.0269\n",
      "Epoch 2/20\n",
      "603/603 [==============================] - 102s - loss: 0.0576 - my_iou_metric: 0.0627 - val_loss: 0.0657 - val_my_iou_metric: 0.0731\n",
      "Epoch 3/20\n",
      "603/603 [==============================] - 99s - loss: 0.0562 - my_iou_metric: 0.0594 - val_loss: 0.0624 - val_my_iou_metric: 0.0896\n",
      "Epoch 4/20\n",
      "603/603 [==============================] - 98s - loss: 0.0557 - my_iou_metric: 0.0590 - val_loss: 0.0698 - val_my_iou_metric: 0.1149\n",
      "Epoch 5/20\n",
      "603/603 [==============================] - 98s - loss: 0.0553 - my_iou_metric: 0.0625 - val_loss: 0.0724 - val_my_iou_metric: 0.1313\n",
      "Epoch 6/20\n",
      "603/603 [==============================] - 98s - loss: 0.0553 - my_iou_metric: 0.0675 - val_loss: 0.0617 - val_my_iou_metric: 0.0627\n",
      "Epoch 7/20\n",
      "603/603 [==============================] - 97s - loss: 0.0534 - my_iou_metric: 0.0650 - val_loss: 0.0605 - val_my_iou_metric: 0.0731\n",
      "Epoch 8/20\n",
      "603/603 [==============================] - 97s - loss: 0.0524 - my_iou_metric: 0.0610 - val_loss: 0.0742 - val_my_iou_metric: 0.1209\n",
      "Epoch 9/20\n",
      "603/603 [==============================] - 97s - loss: 0.0513 - my_iou_metric: 0.0721 - val_loss: 0.0622 - val_my_iou_metric: 0.0701\n",
      "Epoch 10/20\n",
      "603/603 [==============================] - 97s - loss: 0.0510 - my_iou_metric: 0.0617 - val_loss: 0.0657 - val_my_iou_metric: 0.0791\n",
      "Epoch 11/20\n",
      "603/603 [==============================] - 97s - loss: 0.0498 - my_iou_metric: 0.0710 - val_loss: 0.0642 - val_my_iou_metric: 0.0746\n",
      "Epoch 12/20\n",
      "603/603 [==============================] - 97s - loss: 0.0505 - my_iou_metric: 0.0718 - val_loss: 0.1387 - val_my_iou_metric: 0.1090\n",
      "Epoch 13/20\n",
      "603/603 [==============================] - 97s - loss: 0.0501 - my_iou_metric: 0.0740 - val_loss: 0.0632 - val_my_iou_metric: 0.0746\n",
      "Epoch 14/20\n",
      "603/603 [==============================] - 96s - loss: 0.0480 - my_iou_metric: 0.0730 - val_loss: 0.0910 - val_my_iou_metric: 0.1194\n",
      "Epoch 15/20\n",
      "603/603 [==============================] - 97s - loss: 0.0473 - my_iou_metric: 0.0680 - val_loss: 0.0640 - val_my_iou_metric: 0.0522\n",
      "Epoch 16/20\n",
      "603/603 [==============================] - 97s - loss: 0.0470 - my_iou_metric: 0.0760 - val_loss: 0.0669 - val_my_iou_metric: 0.0925\n",
      "Epoch 17/20\n",
      "603/603 [==============================] - 97s - loss: 0.0459 - my_iou_metric: 0.0882 - val_loss: 0.1029 - val_my_iou_metric: 0.1254\n",
      "Epoch 18/20\n",
      "603/603 [==============================] - 97s - loss: 0.0449 - my_iou_metric: 0.0750 - val_loss: 0.0678 - val_my_iou_metric: 0.0910\n",
      "Epoch 19/20\n",
      "603/603 [==============================] - 96s - loss: 0.0441 - my_iou_metric: 0.0789 - val_loss: 0.0644 - val_my_iou_metric: 0.0716\n",
      "Epoch 20/20\n",
      "603/603 [==============================] - 96s - loss: 0.0442 - my_iou_metric: 0.0847 - val_loss: 0.0756 - val_my_iou_metric: 0.1284\n"
     ]
    },
    {
     "data": {
      "text/plain": [
       "<keras.callbacks.History at 0x7fa38a3f3610>"
      ]
     },
     "execution_count": 256,
     "metadata": {},
     "output_type": "execute_result"
    }
   ],
   "source": [
    "model.fit(images, masks, validation_split=0.1, batch_size=8, epochs=20)"
   ]
  },
  {
   "cell_type": "code",
   "execution_count": 275,
   "metadata": {},
   "outputs": [
    {
     "data": {
      "text/plain": [
       "(256, 256)"
      ]
     },
     "execution_count": 275,
     "metadata": {},
     "output_type": "execute_result"
    }
   ],
   "source": [
    "i=600\n",
    "images[1:2,:,:,:]\n",
    "p=model.predict(images[i:i+1,:,:,:])\n",
    "p=p[0,:,:,0]\n",
    "p.shape"
   ]
  },
  {
   "cell_type": "code",
   "execution_count": 276,
   "metadata": {
    "collapsed": true
   },
   "outputs": [],
   "source": [
    "from skimage.filters import threshold_otsu\n",
    "\n",
    "thresh_val = threshold_otsu(p)\n",
    "a = np.where(p > thresh_val, 1, 0)"
   ]
  },
  {
   "cell_type": "code",
   "execution_count": 277,
   "metadata": {
    "collapsed": true
   },
   "outputs": [],
   "source": [
    "b=np.where(p>0.5,1,0)"
   ]
  },
  {
   "cell_type": "code",
   "execution_count": 278,
   "metadata": {},
   "outputs": [
    {
     "data": {
      "text/plain": [
       "<matplotlib.image.AxesImage at 0x7fa389c43c10>"
      ]
     },
     "execution_count": 278,
     "metadata": {},
     "output_type": "execute_result"
    },
    {
     "data": {
      "image/png": "[encoded data removed]",
      "text/plain": [
       "<matplotlib.figure.Figure at 0x7fa389d381d0>"
      ]
     },
     "metadata": {},
     "output_type": "display_data"
    }
   ],
   "source": [
    "plt.imshow(a)"
   ]
  },
  {
   "cell_type": "code",
   "execution_count": 279,
   "metadata": {},
   "outputs": [
    {
     "data": {
      "text/plain": [
       "<matplotlib.image.AxesImage at 0x7fa389bff5d0>"
      ]
     },
     "execution_count": 279,
     "metadata": {},
     "output_type": "execute_result"
    },
    {
     "data": {
      "image/png": "[encoded data removed]",
      "text/plain": [
       "<matplotlib.figure.Figure at 0x7fa389c60450>"
      ]
     },
     "metadata": {},
     "output_type": "display_data"
    }
   ],
   "source": [
    "plt.imshow(b)"
   ]
  },
  {
   "cell_type": "code",
   "execution_count": 280,
   "metadata": {},
   "outputs": [
    {
     "data": {
      "text/plain": [
       "<matplotlib.image.AxesImage at 0x7fa389b31b10>"
      ]
     },
     "execution_count": 280,
     "metadata": {},
     "output_type": "execute_result"
    },
    {
     "data": {
      "image/png": "[encoded data removed]",
      "text/plain": [
       "<matplotlib.figure.Figure at 0x7fa389b9a550>"
      ]
     },
     "metadata": {},
     "output_type": "display_data"
    }
   ],
   "source": [
    "plt.imshow(masks[i,:,:,0])"
   ]
  },
  {
   "cell_type": "code",
   "execution_count": 281,
   "metadata": {
    "collapsed": true
   },
   "outputs": [],
   "source": [
    "import cv2\n",
    "import pandas as pd\n",
    "from scipy import ndimage\n",
    "\n",
    "def analyze_image(im_path):\n",
    "    '''\n",
    "    Take an image_path (pathlib.Path object), preprocess and label it, extract the RLE strings \n",
    "    and dump it into a Pandas DataFrame.\n",
    "    '''\n",
    "    # Read in data and convert to grayscale\n",
    "    im_id = im_path.parts[-3]\n",
    "    im = cv2.imread(str(im_path),1)\n",
    "    im=resize(im,(256,256,3))\n",
    "    im=np.array([im])\n",
    "    #im_gray = rgb2gray(im)\n",
    "    \n",
    "    # Mask out background and extract connected objects\n",
    "    \n",
    "    p = model.predict(im)\n",
    "    p=p[0,:,:,0]\n",
    "    \n",
    "    \n",
    "    #thresh_val = threshold_otsu(p)\n",
    "    mask = np.where(p > 0.5, 1, 0)\n",
    "    \n",
    "    if np.sum(mask==0) < np.sum(mask==1):\n",
    "        mask = np.where(mask, 0, 1)    \n",
    "        labels, nlabels = ndimage.label(mask)\n",
    "    labels, nlabels = ndimage.label(mask)\n",
    "    \n",
    "    # Loop through labels and add each to a DataFrame\n",
    "    im_df = pd.DataFrame()\n",
    "    for label_num in range(1, nlabels+1):\n",
    "        label_mask = np.where(labels == label_num, 1, 0)\n",
    "        if label_mask.flatten().sum() > 10:\n",
    "            rle = rle_encoding(label_mask)\n",
    "            s = pd.Series({'ImageId': im_id, 'EncodedPixels': rle})\n",
    "            im_df = im_df.append(s, ignore_index=True)\n",
    "    \n",
    "    return im_df\n",
    "\n",
    "\n",
    "def analyze_list_of_images(im_path_list):\n",
    "    '''\n",
    "    Takes a list of image paths (pathlib.Path objects), analyzes each,\n",
    "    and returns a submission-ready DataFrame.'''\n",
    "    all_df = pd.DataFrame()\n",
    "    for im_path in im_path_list:\n",
    "        im_df = analyze_image(im_path)\n",
    "        all_df = all_df.append(im_df, ignore_index=True)\n",
    "    \n",
    "    return all_df"
   ]
  },
  {
   "cell_type": "code",
   "execution_count": 282,
   "metadata": {},
   "outputs": [
    {
     "name": "stdout",
     "output_type": "stream",
     "text": [
      "9.86771607399\n"
     ]
    }
   ],
   "source": [
    "import pathlib\n",
    "import time\n",
    "t0 = time.time()\n",
    "\n",
    "testing = pathlib.Path('../input/stage1_test/').glob('*/images/*.png')\n",
    "df = analyze_list_of_images(list(testing))\n",
    "df.to_csv('submissionUnet3.csv', index=None)\n",
    "\n",
    "t1=time.time()\n",
    "total=t1-t0\n",
    "print(total)"
   ]
  },
  {
   "cell_type": "code",
   "execution_count": null,
   "metadata": {
    "collapsed": true
   },
   "outputs": [],
   "source": []
  }
 ],
 "metadata": {
  "kernelspec": {
   "display_name": "Python 2",
   "language": "python",
   "name": "python2"
  },
  "language_info": {
   "codemirror_mode": {
    "name": "ipython",
    "version": 2
   },
   "file_extension": ".py",
   "mimetype": "text/x-python",
   "name": "python",
   "nbconvert_exporter": "python",
   "pygments_lexer": "ipython2",
   "version": "2.7.12"
  }
 },
 "nbformat": 4,
 "nbformat_minor": 2
}
